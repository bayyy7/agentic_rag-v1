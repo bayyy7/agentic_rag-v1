{
 "cells": [
  {
   "cell_type": "markdown",
   "metadata": {},
   "source": [
    "### Embedding Size\n",
    "- indobenchmark/indobert-base-p1: 768\n",
    "- intfloat/multilingual-e5-small: 384"
   ]
  },
  {
   "cell_type": "code",
   "execution_count": 9,
   "metadata": {},
   "outputs": [
    {
     "name": "stderr",
     "output_type": "stream",
     "text": [
      "No sentence-transformers model found with name indobenchmark/indobert-base-p1. Creating a new one with mean pooling.\n"
     ]
    },
    {
     "data": {
      "text/plain": [
       "['f7cff742-a625-466f-9827-a0e4e5c7982c',\n",
       " '6ffaaf17-abe4-48f6-935f-a3867186b544',\n",
       " '02258c24-f082-40f8-9d85-2c9d7bbb8f9b',\n",
       " '40d371b6-ab2a-4cef-aa60-eb67ea62f9db',\n",
       " '08839e1d-78fb-48ac-bdbc-8c622fa63390',\n",
       " '0a2fca3f-da67-40ed-a256-888cba9aaf14',\n",
       " 'ea8427c2-2d17-4c0f-987a-8e91fb49d1f5',\n",
       " '207ef0e9-93fc-4db4-84f8-0a89f7a47d80',\n",
       " 'e0e4d257-1a44-4211-a7ce-397de5a45625',\n",
       " '7961a507-e05f-4edd-b103-939f023ad93e',\n",
       " 'f5355b99-5bd6-48f4-bbc7-5ebb24b65ceb',\n",
       " '5c085a7f-f69d-4124-bf7c-32f1edacf043',\n",
       " '6de78821-47fb-4bfd-8b66-34cc0983bcaa',\n",
       " '6acb4b2f-32dc-4c8c-b250-2246897bf064',\n",
       " '9290bedb-dec3-4f48-9639-de3db0fbef84',\n",
       " '2a3ec824-6eb2-4b0e-9311-73e6f1434f5c',\n",
       " 'c7968656-af8b-4979-a773-b333bbefb253',\n",
       " '554ea097-2316-40fe-a6f9-a9ca53d20448',\n",
       " '16b31ede-7677-4118-b986-094266b5b9ff',\n",
       " 'a7723ec9-de9c-425f-85c6-cd47217ed4ca',\n",
       " '3da54b32-1c12-4882-b3b1-55721add6c37',\n",
       " 'ff5e5be6-73b6-4997-becd-b7605069d5dd',\n",
       " '4403fd26-677a-45e9-ae10-6208d56208dd',\n",
       " '9de341c2-d171-4c51-a419-a877f7498b5c',\n",
       " '59cf2de5-829b-489f-be39-776110ef0a60',\n",
       " 'e00fe369-0d66-4f67-8c2c-123f7b312f02',\n",
       " '622fbd5a-f001-4474-a490-979b97168f53',\n",
       " '3ee20b9b-d808-48a1-bcd1-afdd5def1d50',\n",
       " '50e71a8f-6dcd-46c3-9c5f-cb886aae3d0c',\n",
       " 'c374193b-846d-4f6d-971e-f622a87587a7',\n",
       " '54163f4f-6c8b-4b0f-8f75-ef29babfea73',\n",
       " 'bea083f9-3107-45a3-835c-859213a43050',\n",
       " '843a7b75-d59d-4542-930c-70397539f708',\n",
       " '38a7d86c-2af9-427d-8761-2d593046e7fc',\n",
       " '88d23be9-150b-4c44-81ec-1769f5ce35a0',\n",
       " '475ef388-5114-4eaa-9cb5-c3ffba56e2e7',\n",
       " '9922703f-e199-45b5-89d1-f2939ea2210d',\n",
       " '4b6562f9-8360-4c6d-b7d6-fa9c09e43043',\n",
       " 'cafd65f2-afd0-4901-9ca9-3cb008db0b3f',\n",
       " 'ed2e98de-2fc2-4b86-9de0-86e8f24e18eb',\n",
       " '79a2dee6-c4b7-429b-97cb-045fffb9a05e',\n",
       " 'ba663227-c3ce-4fa2-a671-d3853a11e841',\n",
       " '7537efac-96f7-42ce-b841-a893375855af',\n",
       " 'c431c7db-8072-49d9-abd5-33f27cf4d9e4',\n",
       " '6554d55a-d1ca-44b3-94f8-ef5e679ddb3a',\n",
       " '6f6587a5-df44-469b-b47c-599de3c6c945',\n",
       " 'f82e81d7-97c4-4946-917e-a638e1323174',\n",
       " 'bf154a51-1a72-4298-b585-20def2a990f4',\n",
       " '50b6fd40-b25b-41d2-b755-8620daf33f6f',\n",
       " '760a054c-ae25-4282-b968-041ef6574d0b',\n",
       " '92bed0ec-e25c-4c80-8d53-776c3dc8d0f4',\n",
       " '94e81ac0-dbe9-4a9e-9bfb-d02558063f6c',\n",
       " 'e57c6a6d-948c-46aa-b8d0-30e91af782b1',\n",
       " '662a9c17-d15c-46a6-93b0-5f93a2570106',\n",
       " '00d33d59-a0cd-47fc-9dbc-bf860cc219c7',\n",
       " 'adec575e-6352-42cd-b3a2-5a3dfdb3a90e',\n",
       " '4790a378-4c0a-43f8-8f58-cea2c3e7b85e',\n",
       " 'b086c1de-1544-4f0b-8eb0-869282f9c119',\n",
       " 'ae27545c-646d-411b-8f79-d0255ea4e10e',\n",
       " 'ba5e9edb-4c5c-4dfc-b459-faab0d4007cd',\n",
       " '219003b3-642b-4c3c-a378-0a109bdbaf6b',\n",
       " 'f10967d6-0270-4fef-9611-5f6b1dbe5a86',\n",
       " '951bdc05-40d9-449f-9573-094005e03c5b',\n",
       " '6319e2b9-c5fe-40d7-9a4e-52d55cb08e43',\n",
       " 'f1589c1e-9aea-46a8-ae66-d822054dc4a3',\n",
       " '53cded91-6d79-4c57-9106-aa8dea773077',\n",
       " '420fa6bd-e6b3-44fc-b304-9c1cefa8a732',\n",
       " '094436aa-cce9-4344-ad23-1ef5e7473b7e',\n",
       " '8166b52e-db33-49fd-9c5c-ec50940c3600',\n",
       " '30acf7b2-02ea-4563-8e6e-e7f79244bca7',\n",
       " 'e96e4848-ad52-49c5-8eef-e642624bf5cd',\n",
       " '2d6afb6d-4306-44a5-8444-feca98ad0489',\n",
       " 'd467ca45-53dc-4b97-a86b-24b926babf58',\n",
       " '65a7c39f-d6a0-4e47-a0fc-a3bb874e1cc1',\n",
       " '5bef5cb4-6ede-4b8a-ae73-0ebddd526cd0',\n",
       " '0dc2ef03-17df-43c2-bec1-612f2ed53ee5',\n",
       " 'c42631ce-fc82-4e43-885e-3a593082489b',\n",
       " 'e263d56b-9596-49c4-853e-bc33f88e38e2',\n",
       " 'da529579-9891-4e22-9901-b6c939aeccfe',\n",
       " 'a7edaae3-aa52-4d6d-9648-423940bf3efe',\n",
       " 'f08cff59-531d-4f6c-9fbf-13cd359ce7e2',\n",
       " '9692685f-345f-4cbc-b991-0603b5ab1f3f',\n",
       " '574d833a-5e08-48b6-86f5-2fd1668f1652',\n",
       " 'cc7af839-614f-457b-ba89-4fb66d939d3a',\n",
       " '010ee192-14dd-42f8-9638-d5461211c385',\n",
       " '41b6a20d-edc3-43e6-875a-cd2d8ddc72d5',\n",
       " 'e5bd82b8-4ce3-41bd-afe2-5f08c69e4e08',\n",
       " '80d8836c-a6cc-4d78-b70c-605e62a0e5aa',\n",
       " '6449a325-5db6-4d7c-928e-87acdf254eb1',\n",
       " '590000a6-84ab-4e64-b342-dc38c777d44e',\n",
       " 'a86cf8df-7558-4d98-8a1a-fbae848b5716',\n",
       " '6261abdf-ca44-4f09-9d66-0038e6fb2a27',\n",
       " 'c6f6f079-6b3f-40b0-9f02-c3f30167c77b',\n",
       " '5ccc9544-1cb9-494f-be6b-358b360f7328',\n",
       " '6649dbb4-e216-41d0-b7a1-e9fcd822cdec',\n",
       " '07fb8ffc-6e3a-4eba-954d-0cd02eb90ff4',\n",
       " 'f215d703-62c6-41f5-9ef4-6cbdf9d70e13',\n",
       " '15e4ba65-d9bd-4905-8324-24724216c735',\n",
       " 'd9d7f213-0000-4052-89ae-50c7e41946e3',\n",
       " 'a082915a-373a-4ab7-aebb-9de80c881947',\n",
       " '09072125-5877-474a-925d-36f339ae0d69',\n",
       " '005314c5-f4b7-495b-ad50-0ee7eb2927f2',\n",
       " '4275ce17-ecad-433b-a314-8b170e525e1b',\n",
       " '52e04c1d-08d0-40a1-9350-56df77d3311d',\n",
       " 'e76e41cd-1154-4624-b9ba-59f6cf805954',\n",
       " '80d2ab36-4a9a-4119-9ddb-4101dfdbd59e',\n",
       " 'ebbfa21a-a5e9-4fef-b607-2cc705ee523a',\n",
       " '8a716dd2-b691-438e-9219-7d5f99eb2f0d',\n",
       " 'dbddcdb7-d36f-428a-ad5b-422f3d932e2e',\n",
       " 'e89a64da-5923-4cd0-bf15-44ba79cf81a9',\n",
       " '8912b332-2941-470d-b07b-d023c904a163',\n",
       " '3cd684dd-8b7e-43c9-9e6e-8c476c4e1f69',\n",
       " 'ea6620d4-401c-4fd1-9a93-2193d0f070e6',\n",
       " 'c7939d51-f273-44c7-ac68-79740da29205',\n",
       " 'ff95d9a8-e5a0-4ab6-8c4f-abda01d4b698',\n",
       " 'f1f28643-803d-4f01-8c66-33eab6493ad7',\n",
       " '90df2515-9c18-4517-a4f9-99be68a400af',\n",
       " 'cc090be0-6e79-432a-9f81-f3f5e6ef5a71',\n",
       " 'fa8991a6-def9-42b8-9a48-15255035a6f0',\n",
       " '423954be-d818-4821-a5a7-1e74f7fc1c03',\n",
       " '783cec66-677b-4378-aa4b-c670d213c19c',\n",
       " '704933e7-26ec-4bb4-8907-bc7977937088',\n",
       " '4f0fe948-4dfb-4e93-b0b0-09b4bbb203e7',\n",
       " 'd8f38983-4862-49c6-b571-c09fabdd99c8',\n",
       " 'fa0c620b-2176-4622-bd89-47ebadbe2cad',\n",
       " '6bec143a-77b8-49d0-b2c8-a453b155e4a1',\n",
       " '6fe361d2-a2e7-4b66-978d-d46473b9b27c',\n",
       " '88276a75-86be-4ae3-b882-172d1c173092',\n",
       " '7a770413-32ce-443e-8651-e87ae23bbcb8',\n",
       " '7cc743d2-3691-4597-838f-ff73f51b6532',\n",
       " '7d12fd88-220b-41a3-b2e7-26b3d99e89c7',\n",
       " 'cf10807e-1efd-40f7-895b-6713f73d1983',\n",
       " '2353bd32-c2af-4c5e-bef6-12a0b080d05d',\n",
       " '2e632760-2aff-43e0-b234-db96e03d8f0d',\n",
       " '3c0f6dfb-1428-45a2-a028-d7cecc354063',\n",
       " '8990aaf1-c8c3-4556-a000-dff1c6f94e27',\n",
       " '619089c0-f3da-4ead-a5b8-6662fed23069',\n",
       " '009dba1d-4467-47b3-8c2e-4c3cd4c77b84',\n",
       " 'b0ef58ef-be7a-48a1-a11b-f7e992849723',\n",
       " '9392bda1-2aab-44b0-8158-66be26d0f97f',\n",
       " 'd974f818-46fd-40a1-ba2c-073d51df7e77',\n",
       " '70310ce1-76ee-4c63-9286-d18eb6ae9f4d',\n",
       " 'd1478cea-e151-406d-a74b-f7bf9cafa886',\n",
       " '381d3846-8bbd-45c1-8a1b-ef39c54778ab',\n",
       " '203edb4d-3c77-405e-b917-a9db48123c0d',\n",
       " 'd8f43262-fdb1-4acd-87fe-d4df65759961',\n",
       " 'aed3dc0b-d007-41fd-96ee-0dbea33f5564',\n",
       " 'b9fab84e-8e01-48fd-9569-37a56cfb8582',\n",
       " 'cc6ce662-8d33-4241-9175-7aeec5585e60',\n",
       " '24e42501-ca60-4cd7-b9d6-49dd41fb04b1',\n",
       " 'd74f2e5d-4baa-4d63-8492-3a65d06f50e6',\n",
       " 'c58b4a6a-0b09-4c23-b705-7c5f45afc9a4',\n",
       " '946e84da-24ef-44a4-9dd9-7fc58382d17c',\n",
       " '89e95113-aa3d-4710-96ef-dd2459424867',\n",
       " 'b5d081a9-b303-49b2-b9bb-ec642676bc2d',\n",
       " '71394afb-c89d-49a9-835f-1bf05521926c',\n",
       " 'b6bbed6c-55cb-409f-a7be-57f917595b6e',\n",
       " '7d364550-10ae-431d-a078-2858ff05d06d',\n",
       " 'fec6c20d-b499-45a0-8378-68173fe572f9',\n",
       " '877d3cb6-9ae1-4fa8-92e9-4a83ac88eeba',\n",
       " '2759db6c-b7bd-4bd6-8ef0-9fce275ab350',\n",
       " '01e6426c-747f-4ed6-bef5-f06876431d46',\n",
       " '2e29f5d2-cd38-495d-99a1-9f32708006f4',\n",
       " 'c0550279-8715-4d5f-abdf-4d7eabb1d72e',\n",
       " '28ef7b2a-3ba5-4a5f-8717-e7117a7634b7',\n",
       " '1ca3bea1-2a12-41b2-a57d-a008aaca80ea',\n",
       " 'f1a93c7e-626c-4a8f-baa4-aa7fde52b392',\n",
       " '5fd49ae0-728b-4d56-a3df-1cb4ca7bb57d',\n",
       " 'a0762e35-9117-41b4-b91f-6496d36e473c',\n",
       " 'e400461d-791f-4596-9bbd-c2b141affc8c',\n",
       " '42b2187f-e5ca-4dec-a040-9fd60a04aa17',\n",
       " 'be499b6c-19e2-42c2-b94a-f8f451022c8b',\n",
       " '77472ff0-d5be-4c71-8845-bfeed11533dc',\n",
       " '54a0e5a1-2a05-4ea9-b634-b54cc5b8d760',\n",
       " '11b8cb10-82ab-444f-8465-19cc84ab4525',\n",
       " '1fb7768e-1161-49c7-9661-af697dcfe32d',\n",
       " '909519fd-755b-4f44-99f8-69a19187e4d7',\n",
       " 'ca3404e2-eee3-45fd-8bc2-097f0a7629a1',\n",
       " '1ac2a99e-60e5-42ec-91fc-75b702623f81',\n",
       " 'a58a5929-aa0a-4639-9b1c-e99e4b0665a9',\n",
       " '94de4561-31f0-42dd-95a0-eb318c2dcbf8',\n",
       " 'aec3acf1-dba1-47ee-9c50-e48bd63bd23f',\n",
       " '3c6a758c-00cb-458b-8bb0-7871ad7e7d14',\n",
       " '92ec8f56-be43-4cfc-95d8-e2dcf6949ce1',\n",
       " 'e797e38a-8196-46e0-8c30-3a2658c7dbb2',\n",
       " '3912b0aa-e150-4d79-9bba-09eeaa0b3c7d',\n",
       " '5adc463f-fe6a-49c8-ae67-b4b866c0f4cd',\n",
       " '099b4d21-64e7-4114-9cfd-5b4b598545d2',\n",
       " '03a2e65d-d62c-474c-aaf3-bfcdb487cfce',\n",
       " '6ed77efe-43bd-4906-b559-4850ee340242',\n",
       " '0f55e604-c601-4c4a-8593-0e825068b55c',\n",
       " 'd5db188d-283b-48d8-a08f-9d621fa7d45b',\n",
       " '208a67ad-1c8c-4560-b709-1163e43bb791',\n",
       " '6eae4f18-59cc-4d81-8be3-ebff34b549ef',\n",
       " '20196c2c-7521-427f-a52b-ad84ae4c7dc9',\n",
       " '07cfc209-1ffe-4f67-ae65-a2544a200df2',\n",
       " '538b7ba2-03fc-4e10-ab67-370abd1abb9d',\n",
       " '44af63a6-b98b-4cbd-8193-62457315022e',\n",
       " '158acf59-4c27-458c-81a8-5ba9d47bd626',\n",
       " 'a4998728-21c2-4299-975b-ef35d751ac12',\n",
       " 'bd51dda2-ab0c-414c-af2a-90dd4858a9ed',\n",
       " '65a30894-7e34-4367-af59-3e5fd090acf2',\n",
       " 'c783d9c2-3562-477b-9355-12a9c7711956',\n",
       " '48ccb2a2-1290-43f0-b22b-320d60efd212',\n",
       " 'f3beaee2-0a26-4894-9005-c40eb86d1dee',\n",
       " '242293e6-7de5-44f8-a2da-92d0a87b0765',\n",
       " '71fe4bab-d83d-4f77-8599-6608656fc230',\n",
       " '155999d3-3b81-4ed1-b9db-bb0e5d35ca8e',\n",
       " 'b0fab972-d2aa-4665-87ce-3fddbfb91f7b',\n",
       " 'e209f377-6274-4151-8190-7278b3266e3c',\n",
       " 'a9a2c680-0376-446f-9f55-1080ff2713e0',\n",
       " '2f65177a-1a51-4992-903e-6fbad34006de',\n",
       " 'bdc030b0-c49a-4b8f-88e2-2975e5d96dda',\n",
       " 'c2a5170d-a2f2-4cf1-bede-64e5902b18f3',\n",
       " '8f9debf8-81a2-469a-b4f8-2c075a87cf4b',\n",
       " 'd2f1fff7-fa61-4bdb-8648-14e2ac4dd45d',\n",
       " 'd8e224cd-757b-49bb-a4e5-380bb0faf752',\n",
       " 'b125f423-7e3b-4883-bded-8fe2d1525d65',\n",
       " '7b060139-a41c-4ce8-b627-aeb0909aee2c',\n",
       " 'a0a090ce-b517-4ada-8102-3b9a6713474e',\n",
       " 'e12240f2-3984-4a6f-b41e-fb5c0de447fc',\n",
       " '37acaa3d-8433-49d0-9bf7-b7b85e7084b3',\n",
       " '0e287cae-eb99-4f91-857b-d0bdae92b281',\n",
       " '3b6683bc-f255-45a1-afa5-1e4960d38ce5',\n",
       " 'f0336b02-c68a-4a26-8c73-8666fecc3f88',\n",
       " '531959da-da9c-49a3-9558-a43c18ed3ab7',\n",
       " '39a5afc5-e4b0-403c-a8d4-96e74ce55590',\n",
       " '94c3b900-bff4-4d11-bbca-99a49c553d24',\n",
       " 'bf960d5b-89bc-4818-ad34-882356c28283',\n",
       " '9534d325-e0e5-4ff2-b463-ffad13e95160',\n",
       " '447fd48c-a083-42ff-8c72-fbbe127b2e38',\n",
       " '44c78fc4-67c4-4438-b887-089d2c0d279a',\n",
       " 'ed0d4bb7-d6d6-48d9-8fbc-9f932f2a47d3',\n",
       " 'e1731895-2598-48dd-a205-7ec71bda16e9',\n",
       " 'a028ae38-70bf-4d6b-a3a9-6ab5ee263795',\n",
       " 'e3280261-ec0d-4125-af28-8da523ddceed',\n",
       " '77102d65-1829-4e57-a2a7-3dccd9725b3d',\n",
       " '7abfd0da-2fc4-487e-8d22-d5be96833f69',\n",
       " '9a31d702-3b7d-41c1-b03b-c9e6bffb2864',\n",
       " '2ce91398-f891-45ee-9eda-765a14d326dc',\n",
       " '7757b29f-c53a-4602-a667-d012b354c6a0',\n",
       " 'a6f5b165-1653-4401-aee3-3b5ef0f5f279',\n",
       " 'ff8787ba-b5bd-4f69-a8a4-cf0d4dbb60af',\n",
       " 'cdbc1b04-3027-4562-a8d4-1aaefcd3e6eb',\n",
       " 'c36fe261-a6ba-4ff9-a0fd-7ba72cbc6a40',\n",
       " '6fd256e3-b224-45d5-ac69-40f902cf7aec',\n",
       " '293f7961-96c3-450a-bf18-f1b123b3c843',\n",
       " '521433c4-71bb-4e5c-af21-f98a01e88497',\n",
       " 'b439711d-701f-48d4-8083-41d7e91b235a',\n",
       " '8804d0bd-6932-47c2-983a-f649aa884467',\n",
       " '0998d7fe-97a2-4834-92eb-a731ef5c4726',\n",
       " '43279151-2b6e-41cf-a042-542c984dfe96',\n",
       " '728f0bb2-ffa1-444c-8611-5de52944e591',\n",
       " '089c1ef6-352b-4480-8e6c-d2a6dede21c4',\n",
       " 'c4e2c2de-4f6b-405e-a420-1207848d8a2b',\n",
       " 'bead3120-2d1a-494a-97bb-114fda294300',\n",
       " 'f1bb7905-b31c-4f45-8896-faf5181d19a4',\n",
       " '3a3c0b2c-7a27-4544-b936-d7ea0a73bb24',\n",
       " 'c2fdc271-1b95-41e5-bf3e-52c6bd504b6a',\n",
       " 'afebf1df-af57-4324-9d80-a494f74f5080',\n",
       " '2cd1306e-6a2f-4daa-9d70-d5916fd3ce66',\n",
       " '19b77d57-3dba-4c63-a98e-a141ce6bbee4',\n",
       " 'a614eede-1fce-4aa7-80d4-9b3b87315e60',\n",
       " '01dcc6fe-c43e-46e3-baba-630411c44dcf',\n",
       " '8be24e19-39cd-49a9-a7ce-aecefda19006',\n",
       " '8191bb93-51aa-40c1-98e4-b0dc0892b36d',\n",
       " '4706ce6e-ffe6-4aa8-b61a-b4cc1318b502',\n",
       " '2dba2b9a-0293-477a-8726-23dc4d52f2c2',\n",
       " '8044256e-caaa-4e57-bfd7-5fd74cf69858',\n",
       " 'b2f7f06c-86ed-4b5d-8ac2-63d929f33036',\n",
       " '45d03ce9-971a-4773-89f0-3864bfd53be0',\n",
       " 'b6efc11d-2dbd-44a3-bd3a-c2156aeca9a0',\n",
       " 'eab88b61-6a28-4353-a8dd-5d6b47909721',\n",
       " 'f4fee6a8-fead-4b6b-b85b-cc63f8f575e8',\n",
       " 'e7028d34-6005-4ff4-9e85-696c575e164d',\n",
       " '261ec3ea-cbb6-4060-bdc8-eecf0ea19350',\n",
       " 'f70f92fc-2ff6-47b1-a7c2-401dfd85413f',\n",
       " 'ca7dfd98-d722-4df5-93d7-d5d9a9f7b4ed',\n",
       " '573921cd-14fb-495f-9006-87f52db172b8',\n",
       " 'b5d30133-a943-4b74-a0bf-6982b7f9e91a',\n",
       " 'ab203c31-ed34-47a5-b0fc-294767a34c14',\n",
       " '49edc87e-e7f8-491d-afd5-6de4be4934ac',\n",
       " '52afa2a2-9fd9-41e9-9bcc-bd7402a4724a',\n",
       " '98bc3e4c-73d2-4355-bc59-48331dcedd06',\n",
       " '4a0925d8-5a47-4ea0-984e-29c49884bb29',\n",
       " '65bf353c-296b-4eaa-b55d-dc17d691f706',\n",
       " 'fc5efae5-f475-4651-9e1f-056eab464d32',\n",
       " 'c1d53543-40a7-4177-acc9-73314ff9efbf',\n",
       " '43a4cef0-5001-4e68-82f5-07957bf8aa9c',\n",
       " '29a524f8-1fdf-47e8-8e12-be773aefd057',\n",
       " '40a47f4f-7da9-4358-b47b-80b4fb76184e',\n",
       " '18778d8b-c083-4e15-8b28-70576a15e431',\n",
       " '41ea70d1-5f93-43c5-a914-4c15be81b20e',\n",
       " '608dbe36-c196-4046-b6c1-643c34bfd6e1',\n",
       " 'afbc3c92-8a76-4178-9d98-43888f22d083',\n",
       " '5be18b7b-0565-473b-8fc7-68647e90ee50',\n",
       " '87fe6c79-8601-4441-a17a-98e09a2ad8f9',\n",
       " '206db018-922e-45cd-9c80-3eaf9c7fcc83',\n",
       " '73db5fd3-e95a-4af6-a3e7-4e1c7a9c879f',\n",
       " '93faaa61-f567-4c82-bbfc-273415b6d75f',\n",
       " 'd1552061-0eda-48f1-877f-180ff4de7200',\n",
       " '5a5d9483-c656-440f-8271-a925a9f290d4',\n",
       " 'fda06809-a471-4e08-9706-0d991f4eff39',\n",
       " '1c4021f5-101e-41c3-9137-a5045939957f',\n",
       " '9c648e5c-2ca9-45c0-b1d4-5f12b244c2f3',\n",
       " '924bfd3e-3587-4672-b86f-4e279c3b5a11',\n",
       " '69fe3ed7-9802-4b37-a3de-3aa14747bc46',\n",
       " '639b3896-a50b-4a73-a52f-d71adb9410d4',\n",
       " 'aac8cc4b-91d7-482a-bb90-5207dfecf2d5',\n",
       " '39624fca-a81e-434b-b98e-b4e19aedec50',\n",
       " 'f67b984a-cc97-4af4-b93b-8733170890b3',\n",
       " '4ed8596f-0c80-4467-8460-c541837fd8d2',\n",
       " '20cdeab8-a817-4780-93be-6f02c39d3228',\n",
       " 'c4990b3c-df4e-411d-a2fc-0428802aecb6',\n",
       " '0ce56e2d-27cd-4406-9f85-0dee67b38a58',\n",
       " '06afbb9e-d77b-4dd8-b956-b4d575997732',\n",
       " '3f0e4878-f211-4675-98cd-9cebf0ed2398',\n",
       " 'e3820604-9088-4ea9-88fa-ab4af97dc810',\n",
       " '04c7095d-f9b7-4884-b47b-580df8d9d606',\n",
       " 'df5988a2-8d66-4f32-a2e6-2ce547ea567c',\n",
       " '295f8994-8335-4477-9efd-19bf14c86fe2',\n",
       " '4adcd52e-dcc9-4f5c-9ad0-efa5d327395e',\n",
       " '46ac5367-b760-47a0-91f5-39813fa2a3c7',\n",
       " '7b502a04-18d7-4f80-bc4a-e30b82987ca3',\n",
       " '37791b66-7e09-4642-89fe-c4294c4e6085',\n",
       " '6b61a570-dae3-455e-8f97-defb774a6a0c',\n",
       " '77f001fc-dede-4c34-8866-339dd54a7d80',\n",
       " '8b7404b1-1d8d-4566-9ede-609d9eb49190',\n",
       " '930ba032-2364-4330-9c61-ecb4fe9b5c74',\n",
       " '766fa33e-18fb-4f4b-87a4-910c28315872',\n",
       " 'c94e1dbf-36a1-4662-abd5-45d26e686b40',\n",
       " '2fcb49f5-67ec-4e38-b586-e446b058dbe2',\n",
       " '12fd2dc8-4441-42e7-ada1-2884be35d6ed',\n",
       " '85a8071b-4804-45ff-87c2-604ac95c9436',\n",
       " '564a0603-4874-42e1-b3bc-8a1e67af4aca',\n",
       " '75d8cdc3-494e-4502-b8a1-eb1b3ba0c40e',\n",
       " '161a51a2-a39a-4f69-8281-9bb578e45b8d',\n",
       " '5ecd78b5-2201-4b70-b0a7-53814967c7a0',\n",
       " 'cf86cd04-3c83-4575-b077-b9852fb79d2e',\n",
       " '6f313b36-17bf-4b99-b8ae-0c776862e9fb',\n",
       " 'c8c38f3f-974c-451c-ae01-7578422056fa',\n",
       " '8ba2e4f6-d379-4aff-9505-159a1df3f304',\n",
       " '2e430f84-6b2a-4b33-bc4e-cbd420a8d5ec',\n",
       " 'e7aa9c34-a16f-4335-8b7b-01706a549cd9',\n",
       " '0e70bb0e-1836-4fc5-b353-01e2edee15f7',\n",
       " '1e35d098-5a24-48f5-933e-29b0898377bb',\n",
       " '8dee4f2a-8102-45f2-b0a9-9c77e6fd0c3a',\n",
       " '576c6a77-5193-4433-8e8c-830ab5baf107',\n",
       " 'b0db971e-3341-4004-8ec5-e656896b5e55',\n",
       " 'ec90dc21-3a9b-43f2-952e-05962dbabbc0',\n",
       " '28085fd8-ab79-4dba-a87b-ade61ac657b0',\n",
       " '02822d8b-a9ce-438d-82b8-2d11528fcade',\n",
       " '6d149741-b9f9-4b4a-bf6d-3b7af876e368',\n",
       " 'cab30f73-1556-47d6-8b2c-b04d73b3584c',\n",
       " 'b3b29dbf-c5fa-4cc3-85eb-936b8cb43690',\n",
       " 'f1b66d11-6615-430f-a997-b6dfc3448c8f',\n",
       " 'b4595f9b-4e71-40b9-9b99-97e77112d9d5',\n",
       " 'eff186ec-fae7-4b73-a53e-e423d3194283',\n",
       " 'b9c201bb-e7db-4713-a5ba-c6f021c5f6e6',\n",
       " '7d6b63b2-6a0d-4cff-9d8e-e8e603a2485d',\n",
       " 'ad2893ee-1a8d-4cdc-bf14-21576f879728',\n",
       " '05e5c769-1142-4ab2-921b-e05806b978ee',\n",
       " '3f191414-e76d-414a-8c98-8e776e40d4e8',\n",
       " '833659d1-79a2-4cdf-9339-a6e8305aa9f3',\n",
       " '707378ff-6705-4872-98aa-72caf85a8999',\n",
       " 'bf8f1a36-9dd7-4f8a-a115-3c8ac8bae622',\n",
       " '54b43c46-7283-43b4-abe3-1b4d8b34c8de',\n",
       " 'd4110703-aea3-49e7-9595-aaa7b2696005',\n",
       " '16e7dd0b-c13b-40eb-94b1-ae142f25ef48',\n",
       " 'cc630d97-a4f4-418c-9b45-c6da7537c020',\n",
       " '87651cbb-aaf2-4202-bf74-2690895d0fa9',\n",
       " 'ab3c59f2-2e80-4f8d-a80e-94d4fc39a563',\n",
       " 'ddf9d37c-7ee5-40f8-9a4b-336e89f1a612',\n",
       " '5302cd06-b5b7-4104-a973-7ba3346b7e98',\n",
       " '9bab8774-509a-41be-8267-9e4c4c3c3cc8',\n",
       " 'b963f106-1834-4dea-84fc-4cb8f668c525',\n",
       " '4e0ed134-7202-4b04-83ca-9a114e873256',\n",
       " '9e365c1e-cf56-4d95-9f29-8ab2048927af',\n",
       " '2400b18a-d619-44e8-9aaf-3f32324f06fc']"
      ]
     },
     "execution_count": 9,
     "metadata": {},
     "output_type": "execute_result"
    }
   ],
   "source": [
    "from langchain_community.document_loaders import PyPDFLoader\n",
    "from langchain_text_splitters import RecursiveCharacterTextSplitter\n",
    "from langchain_huggingface.embeddings import HuggingFaceEmbeddings\n",
    "from langchain_community.vectorstores import FAISS\n",
    "from langchain_community.docstore.in_memory import InMemoryDocstore\n",
    "import faiss\n",
    "import numpy\n",
    "import os\n",
    "from dotenv import load_dotenv\n",
    "\n",
    "load_dotenv()\n",
    "gemini_api = os.environ[\"GOOGLE_GENERATIVE_AI\"]\n",
    "embedding_model = os.environ[\"EMBEDDING_MODEL\"]\n",
    "\n",
    "file_path = \"material/buku%20pengantar%20akuntansi.pdf\"\n",
    "loader = PyPDFLoader(file_path=file_path)\n",
    "docs = loader.load()\n",
    "\n",
    "text_splitter = RecursiveCharacterTextSplitter(\n",
    "   chunk_size=500, chunk_overlap=10\n",
    ")\n",
    "\n",
    "chunks = text_splitter.split_documents(docs)\n",
    "\n",
    "embeddings = HuggingFaceEmbeddings(model_name=embedding_model)\n",
    "vector = embeddings.embed_documents(str(\"chunks\"))\n",
    "matrix = numpy.array(vector).astype('float32')\n",
    "index = faiss.IndexFlatL2(matrix.shape[1])\n",
    "vector_store = FAISS(\n",
    "   embedding_function=embeddings,\n",
    "   index=index,\n",
    "   docstore=InMemoryDocstore(),\n",
    "   index_to_docstore_id={}\n",
    ")\n",
    "vector_store.add_documents(chunks)"
   ]
  },
  {
   "cell_type": "code",
   "execution_count": 10,
   "metadata": {},
   "outputs": [
    {
     "data": {
      "text/plain": [
       "[Document(metadata={'source': 'material/buku%20pengantar%20akuntansi.pdf', 'page': 59}, page_content='55\\nMADANG RAYA \\nJURNAL PENYESUAIAN'),\n",
       " Document(metadata={'source': 'material/buku%20pengantar%20akuntansi.pdf', 'page': 61}, page_content='Indonesia, 2009a:2.37).      \\n        \\n1.3 Laporan Keuangan Menurut SAK ETAP  \\n1.3.1 Elemen Laporan Keuangan Menurut SAK ETAP  \\n       SAK ETAP (2009) menjelaskan bahwa laporan keuangan suatu entitas terdiri \\ndari:  \\n1. Neraca  \\nNeraca menyajikan aset , kewajiban dan ekuitas entitas pada suatu tanggal \\ntertentu akhir pelaporan dan minimal mencakup pos-pos sebagai berikut: \\na. Kas dan setara kas;  \\nb. Piutang usaha dan piutang lainnya;  \\nc. Persediaan;  \\nd. Properti investasi;  \\ne. Aset tetap;'),\n",
       " Document(metadata={'source': 'material/buku%20pengantar%20akuntansi.pdf', 'page': 11}, page_content='penjelasan alasan penggantian tersebut pada laporan keuangan perusahaannya.')]"
      ]
     },
     "execution_count": 10,
     "metadata": {},
     "output_type": "execute_result"
    }
   ],
   "source": [
    "vector_store.max_marginal_relevance_search(query=\"laporan SAK ETAP\", k=3)"
   ]
  },
  {
   "cell_type": "code",
   "execution_count": 11,
   "metadata": {},
   "outputs": [
    {
     "data": {
      "text/plain": [
       "[Document(metadata={'source': 'material/buku%20pengantar%20akuntansi.pdf', 'page': 63}, page_content='menurut SAK ETAP yang dikutip oleh Ranu Ag us (2011), yaitu aktivitas operasi, \\naktivitas investasi, dan aktivitas pendanaan. \\n5. Catatan atas laporan keuangan  \\nCatatan atas laporan keuangan berisi informasi sebagai tambahan informasi \\nyang disajikan dalam laporan keuangan catatan atas laporan keuangan \\nmemberikan penjelasan nararif atau rincian jumlah yang disajikan dalam laporan \\nkeuangan dan informasi pos-pos yang tidak memenuhi kriteria pengakuan dalam'),\n",
       " Document(metadata={'source': 'material/buku%20pengantar%20akuntansi.pdf', 'page': 65}, page_content='dengan penurunan atas investasi pemilik sebagai akibat dari operasi yang tidak \\nmenguntungkan dan alokasi kepada pemilik (SAK ETAP, 2009a.2.19). \\n \\n \\nLaporan Keuangan menurut SAK EMKM (IAI, 2016) \\nLaporan keuangan minimum terdiri dari : \\n1. Laporan Posisi Keuangan pada akhir periode \\n2. Laporan laba rugi selama periode \\n3. Catatan atas laporan keuangan, yang berisi tambahan dan rincian pos -\\npos tertentu yang relevan.'),\n",
       " Document(metadata={'source': 'material/buku%20pengantar%20akuntansi.pdf', 'page': 61}, page_content='Indonesia, 2009a:2.37).      \\n        \\n1.3 Laporan Keuangan Menurut SAK ETAP  \\n1.3.1 Elemen Laporan Keuangan Menurut SAK ETAP  \\n       SAK ETAP (2009) menjelaskan bahwa laporan keuangan suatu entitas terdiri \\ndari:  \\n1. Neraca  \\nNeraca menyajikan aset , kewajiban dan ekuitas entitas pada suatu tanggal \\ntertentu akhir pelaporan dan minimal mencakup pos-pos sebagai berikut: \\na. Kas dan setara kas;  \\nb. Piutang usaha dan piutang lainnya;  \\nc. Persediaan;  \\nd. Properti investasi;  \\ne. Aset tetap;')]"
      ]
     },
     "execution_count": 11,
     "metadata": {},
     "output_type": "execute_result"
    }
   ],
   "source": [
    "vector_store.similarity_search(query=\"laporan SAK ETAP\", k=3)"
   ]
  },
  {
   "cell_type": "markdown",
   "metadata": {},
   "source": [
    "## Using Langchain Version 2"
   ]
  },
  {
   "cell_type": "code",
   "execution_count": 12,
   "metadata": {},
   "outputs": [],
   "source": [
    "from langchain.tools.retriever import create_retriever_tool\n",
    "\n",
    "retriever = vector_store.as_retriever()\n",
    "retriever_tool = create_retriever_tool(\n",
    "   retriever=retriever,\n",
    "   name=\"document_retriever_tool\",\n",
    "   description=\"Gunakan tools ini untuk mencari informasi berkaitan dengan Akuntansi, Finansial, dan Perbankan\"\n",
    ")\n",
    "\n",
    "tools = [retriever_tool]"
   ]
  },
  {
   "cell_type": "markdown",
   "metadata": {},
   "source": [
    "## Using Langchain Version 3 (custom tools)"
   ]
  },
  {
   "cell_type": "code",
   "execution_count": 13,
   "metadata": {},
   "outputs": [],
   "source": [
    "from langchain_core.tools import tool\n",
    "from pydantic import BaseModel, Field\n",
    "\n",
    "class RetrieverInput(BaseModel):\n",
    "   query: str = Field(description=\"Query User untuk mencari informasi pada dokumen\")\n",
    "\n",
    "@tool(response_format=\"content_and_artifact\")\n",
    "def retrieve(query: str):\n",
    "   \"\"\"Gunakan tools ini untuk mencari informasi berkaitan dengan Akuntansi, Finansial, dan Perbankan\"\"\"\n",
    "   retrieve_docs = vector_store.similarity_search(query=query, k=3)\n",
    "   serialized = \"\\n\\n\".join(\n",
    "      (f\"Source: {doc.metadata}\\n\" f\"Content: {doc.page_content}\")\n",
    "      for doc in retrieve_docs\n",
    "   )\n",
    "   return serialized, retrieve_docs"
   ]
  },
  {
   "cell_type": "code",
   "execution_count": 14,
   "metadata": {},
   "outputs": [
    {
     "name": "stderr",
     "output_type": "stream",
     "text": [
      "/var/folders/l8/ck3mp1pj7ld2k6cmb0703cfc0000gn/T/ipykernel_69056/362104747.py:1: LangChainDeprecationWarning: The method `BaseTool.__call__` was deprecated in langchain-core 0.1.47 and will be removed in 1.0. Use :meth:`~invoke` instead.\n",
      "  retrieve(\"sak etap\")\n"
     ]
    },
    {
     "data": {
      "text/plain": [
       "\"Source: {'source': 'material/buku%20pengantar%20akuntansi.pdf', 'page': 76}\\nContent: 72\\n\\nSource: {'source': 'material/buku%20pengantar%20akuntansi.pdf', 'page': 59}\\nContent: 55\\nMADANG RAYA \\nJURNAL PENYESUAIAN\\n\\nSource: {'source': 'material/buku%20pengantar%20akuntansi.pdf', 'page': 58}\\nContent: 54\\nMADANG RAYA \\nJURNAL PENYESUAIAN\""
      ]
     },
     "execution_count": 14,
     "metadata": {},
     "output_type": "execute_result"
    }
   ],
   "source": [
    "retrieve(\"sak etap\")"
   ]
  },
  {
   "cell_type": "markdown",
   "metadata": {},
   "source": [
    "## Using Class Wrapper"
   ]
  },
  {
   "cell_type": "code",
   "execution_count": 15,
   "metadata": {},
   "outputs": [],
   "source": [
    "from langchain_core.tools import BaseTool\n",
    "from pydantic import BaseModel, Field\n",
    "\n",
    "class RetrieverInput(BaseModel):\n",
    "   query: str = Field(description=\"Query User untuk mencari informasi pada dokumen\")\n",
    "\n",
    "class Retrieve(BaseTool):\n",
    "   name: str = \"document_retrieve_tool\"\n",
    "   description: str = \"Gunakan tools ini untuk mencari informasi berkaitan dengan Akuntansi, Finansial, dan Perbankan\"\n",
    "   response_format: str = \"content_and_artifact\"\n",
    "   vector_store: FAISS\n",
    "\n",
    "   def _run(self, query: str) -> dict[str, any]:\n",
    "      retrieve_docs = self.vector_store.similarity_search(query=query, k=3)\n",
    "      serialized = \"\\n\\n\".join(\n",
    "         (f\"Source: {doc.metadata}\\n\" f\"Content: {doc.page_content}\") \n",
    "         for doc in retrieve_docs\n",
    "      )\n",
    "      return serialized, retrieve_docs"
   ]
  },
  {
   "cell_type": "code",
   "execution_count": 16,
   "metadata": {},
   "outputs": [],
   "source": [
    "from langchain_google_genai import ChatGoogleGenerativeAI\n",
    "\n",
    "llm = ChatGoogleGenerativeAI(\n",
    "   model=\"gemini-1.5-pro\",\n",
    "   temperature=0.8,\n",
    "   api_key=gemini_api\n",
    ")"
   ]
  },
  {
   "cell_type": "code",
   "execution_count": 17,
   "metadata": {},
   "outputs": [],
   "source": [
    "from langgraph.graph import MessagesState, StateGraph, END\n",
    "\n",
    "graph_builder = StateGraph(MessagesState)\n",
    "def retrieve_or_respon(state: MessagesState):\n",
    "   \"\"\"Tentukan langkah untuk menggunakan tools atau langsung merespon\"\"\"\n",
    "   llm_with_tools = llm.bind_tools([Retrieve(vector_store=vector_store)])\n",
    "   response = llm_with_tools.invoke(state['messages'])\n",
    "   return {\"messages\": [response]}"
   ]
  },
  {
   "cell_type": "code",
   "execution_count": 18,
   "metadata": {},
   "outputs": [],
   "source": [
    "from langchain_core.messages import SystemMessage\n",
    "\n",
    "def generate(state: MessagesState):\n",
    "   \"\"\"Hasilkan respon\"\"\"\n",
    "   print(state[\"messages\"])\n",
    "   recent_tool_messages = []\n",
    "   for message in reversed(state[\"messages\"]):\n",
    "      if message.type == \"tool\":\n",
    "         recent_tool_messages.append(message)\n",
    "      else:\n",
    "         break\n",
    "   tool_messages = recent_tool_messages[::-1]\n",
    "\n",
    "   docs_content = \"\\n\\n\".join(doc.content for doc in tool_messages)\n",
    "   system_message_content = (\n",
    "      \"Kamu merupakan asisten AI bernama DesiAI yang ahli dalam bidang Akuntansi,\" \n",
    "      \"Finansial dan Perbankan. Gunakanlah Tools Retrieve untuk mencari informasi \"\n",
    "      \"berdasarkan dari query yang diberikan. Kombinasikan pengetahuanmu dengan informasi yang diberikan \" \n",
    "      \"agar menghasilkan jawaban yang akurat.\\n\\n\"\n",
    "      f\"{docs_content}\\n\\n\"\n",
    "   )\n",
    "   conversation_messages = [\n",
    "      message\n",
    "      for message in state[\"messages\"]\n",
    "      if message.type in (\"human\", \"system\")\n",
    "      or (message.type == \"ai\" and not message.tool_calls)\n",
    "   ]\n",
    "   prompt = [SystemMessage(system_message_content)] + conversation_messages\n",
    "   print(prompt)\n",
    "   response = llm.invoke(prompt)\n",
    "   return {\"messages\": [response]}"
   ]
  },
  {
   "cell_type": "code",
   "execution_count": 19,
   "metadata": {},
   "outputs": [],
   "source": [
    "from langgraph.prebuilt import ToolNode, tools_condition\n",
    "from langgraph.checkpoint.memory import MemorySaver\n",
    "\n",
    "tools = ToolNode([Retrieve(vector_store=vector_store)])\n",
    "memory = MemorySaver()\n",
    "\n",
    "graph_builder.add_node(retrieve_or_respon)\n",
    "graph_builder.add_node(tools)\n",
    "graph_builder.add_node(generate)\n",
    "\n",
    "graph_builder.set_entry_point(\"retrieve_or_respon\")\n",
    "graph_builder.add_conditional_edges(\n",
    "   \"retrieve_or_respon\",\n",
    "   tools_condition,\n",
    "   {\n",
    "      END: END,\n",
    "      \"tools\": \"tools\"\n",
    "   }\n",
    ")\n",
    "\n",
    "graph_builder.add_edge(start_key=\"tools\", end_key=\"generate\")\n",
    "graph_builder.add_edge(start_key=\"generate\", end_key=END)\n",
    "graph = graph_builder.compile(checkpointer=memory)"
   ]
  },
  {
   "cell_type": "code",
   "execution_count": 20,
   "metadata": {},
   "outputs": [
    {
     "data": {
      "image/png": "[encoded data removed]",
      "text/plain": [
       "<IPython.core.display.Image object>"
      ]
     },
     "metadata": {},
     "output_type": "display_data"
    }
   ],
   "source": [
    "from IPython.display import Image, display\n",
    "\n",
    "display(Image(graph.get_graph().draw_mermaid_png()))"
   ]
  },
  {
   "cell_type": "code",
   "execution_count": 21,
   "metadata": {},
   "outputs": [],
   "source": [
    "config = {\"configurable\" : {\n",
    "   \"thread_id\": \"10010\"\n",
    "}}"
   ]
  },
  {
   "cell_type": "code",
   "execution_count": 23,
   "metadata": {},
   "outputs": [
    {
     "name": "stdout",
     "output_type": "stream",
     "text": [
      "[HumanMessage(content='Apa itu laporan SAK ETAP dan jelaskan apa itu jurnal balik, gunakan tools', additional_kwargs={}, response_metadata={}, id='be7b1a32-060b-4b5e-8b4a-8cf400e3a690'), AIMessage(content='', additional_kwargs={'function_call': {'name': 'document_retrieve_tool', 'arguments': '{\"query\": \"Apa itu laporan SAK ETAP dan jelaskan apa itu jurnal balik\"}'}}, response_metadata={'prompt_feedback': {'block_reason': 0, 'safety_ratings': []}, 'finish_reason': 'STOP', 'safety_ratings': []}, id='run-b29bc4ac-39f5-45ba-9c76-68095878607d-0', tool_calls=[{'name': 'document_retrieve_tool', 'args': {'query': 'Apa itu laporan SAK ETAP dan jelaskan apa itu jurnal balik'}, 'id': '27a75345-c647-496e-b3d8-1995807de19e', 'type': 'tool_call'}], usage_metadata={'input_tokens': 72, 'output_tokens': 20, 'total_tokens': 92, 'input_token_details': {'cache_read': 0}}), ToolMessage(content=\"Source: {'source': 'material/buku%20pengantar%20akuntansi.pdf', 'page': 65}\\nContent: Pada pembahasan berikut kita hanya membahas tentang pembuatan Laporan Laba Rugi, \\nLaporan perubahan ekuitas dan Neraca/ Laporan Posisi Keuangan\\n\\nSource: {'source': 'material/buku%20pengantar%20akuntansi.pdf', 'page': 28}\\nContent: Dalam membuat jurnal umum, ada beberapa prinsip dasar yang perlu Anda perhatikan yaitu: \\n- Melakukan pengidentifikasian bukti transaksi keuangan yang dilakukan perusahaan. \\nContoh dari bukti transaksi antara lain faktur, kuitansi, nota, memo, dan sebagainya. \\n- Menentukan akun apa saja yang terpengaruh dengan transaksi yang terjadi dan \\nmenggolongkannya dalan jenis harta, utang, ataukah modal. \\n- Menetapkan penambahan atau pengurangan terhadap akun yang terkait dengan\\n\\nSource: {'source': 'material/buku%20pengantar%20akuntansi.pdf', 'page': 29}\\nContent: Dalam membuat jurnal umum, ada beberapa prinsip dasar yang perlu Anda perhatikan yaitu: \\n- Melakukan pengidentifikasian bukti transaksi keuangan yang dilakukan perusahaan. \\nContoh dari bukti transaksi antara lain faktur, kuitansi, nota, memo, dan sebagainya. \\n- Menentukan akun apa saja yang terpengaruh dengan transaksi yang terjadi dan \\nmenggolongkannya dalan jenis harta, utang, ataukah modal. \\n- Menetapkan penambahan atau pengurangan terhadap akun yang terkait dengan\", name='document_retrieve_tool', id='b8578dfc-86ce-43e3-802b-7134a44eab28', tool_call_id='27a75345-c647-496e-b3d8-1995807de19e', artifact=[Document(metadata={'source': 'material/buku%20pengantar%20akuntansi.pdf', 'page': 65}, page_content='Pada pembahasan berikut kita hanya membahas tentang pembuatan Laporan Laba Rugi, \\nLaporan perubahan ekuitas dan Neraca/ Laporan Posisi Keuangan'), Document(metadata={'source': 'material/buku%20pengantar%20akuntansi.pdf', 'page': 28}, page_content='Dalam membuat jurnal umum, ada beberapa prinsip dasar yang perlu Anda perhatikan yaitu: \\n- Melakukan pengidentifikasian bukti transaksi keuangan yang dilakukan perusahaan. \\nContoh dari bukti transaksi antara lain faktur, kuitansi, nota, memo, dan sebagainya. \\n- Menentukan akun apa saja yang terpengaruh dengan transaksi yang terjadi dan \\nmenggolongkannya dalan jenis harta, utang, ataukah modal. \\n- Menetapkan penambahan atau pengurangan terhadap akun yang terkait dengan'), Document(metadata={'source': 'material/buku%20pengantar%20akuntansi.pdf', 'page': 29}, page_content='Dalam membuat jurnal umum, ada beberapa prinsip dasar yang perlu Anda perhatikan yaitu: \\n- Melakukan pengidentifikasian bukti transaksi keuangan yang dilakukan perusahaan. \\nContoh dari bukti transaksi antara lain faktur, kuitansi, nota, memo, dan sebagainya. \\n- Menentukan akun apa saja yang terpengaruh dengan transaksi yang terjadi dan \\nmenggolongkannya dalan jenis harta, utang, ataukah modal. \\n- Menetapkan penambahan atau pengurangan terhadap akun yang terkait dengan')])]\n",
      "[SystemMessage(content=\"Kamu merupakan asisten AI bernama DesiAI yang ahli dalam bidang Akuntansi,Finansial dan Perbankan. Gunakanlah Tools Retrieve untuk mencari informasi berdasarkan dari query yang diberikan. Kombinasikan pengetahuanmu dengan informasi yang diberikan agar menghasilkan jawaban yang akurat.\\n\\nSource: {'source': 'material/buku%20pengantar%20akuntansi.pdf', 'page': 65}\\nContent: Pada pembahasan berikut kita hanya membahas tentang pembuatan Laporan Laba Rugi, \\nLaporan perubahan ekuitas dan Neraca/ Laporan Posisi Keuangan\\n\\nSource: {'source': 'material/buku%20pengantar%20akuntansi.pdf', 'page': 28}\\nContent: Dalam membuat jurnal umum, ada beberapa prinsip dasar yang perlu Anda perhatikan yaitu: \\n- Melakukan pengidentifikasian bukti transaksi keuangan yang dilakukan perusahaan. \\nContoh dari bukti transaksi antara lain faktur, kuitansi, nota, memo, dan sebagainya. \\n- Menentukan akun apa saja yang terpengaruh dengan transaksi yang terjadi dan \\nmenggolongkannya dalan jenis harta, utang, ataukah modal. \\n- Menetapkan penambahan atau pengurangan terhadap akun yang terkait dengan\\n\\nSource: {'source': 'material/buku%20pengantar%20akuntansi.pdf', 'page': 29}\\nContent: Dalam membuat jurnal umum, ada beberapa prinsip dasar yang perlu Anda perhatikan yaitu: \\n- Melakukan pengidentifikasian bukti transaksi keuangan yang dilakukan perusahaan. \\nContoh dari bukti transaksi antara lain faktur, kuitansi, nota, memo, dan sebagainya. \\n- Menentukan akun apa saja yang terpengaruh dengan transaksi yang terjadi dan \\nmenggolongkannya dalan jenis harta, utang, ataukah modal. \\n- Menetapkan penambahan atau pengurangan terhadap akun yang terkait dengan\\n\\n\", additional_kwargs={}, response_metadata={}), HumanMessage(content='Apa itu laporan SAK ETAP dan jelaskan apa itu jurnal balik, gunakan tools', additional_kwargs={}, response_metadata={}, id='be7b1a32-060b-4b5e-8b4a-8cf400e3a690')]\n"
     ]
    },
    {
     "data": {
      "text/plain": [
       "'Saya DesiAI, asisten AI yang ahli di bidang Akuntansi, Keuangan, dan Perbankan. Saya akan mencoba menjawab pertanyaan Anda.\\n\\nBerdasarkan informasi yang saya miliki, laporan SAK ETAP merujuk pada laporan keuangan yang disusun berdasarkan Standar Akuntansi Keuangan Entitas Tanpa Akuntabilitas Publik (SAK ETAP).  SAK ETAP adalah standar akuntansi yang disederhanakan dan ditujukan untuk entitas tanpa akuntabilitas publik.  Entitas tanpa akuntabilitas publik biasanya adalah usaha kecil dan menengah yang tidak memiliki kewajiban untuk melaporkan keuangannya kepada publik.  Laporan keuangan yang umum disusun berdasarkan SAK ETAP antara lain: Laporan Laba Rugi, Laporan Perubahan Ekuitas, dan Neraca (Laporan Posisi Keuangan).  Hal ini tertuang pada halaman 65 sumber yang Anda berikan.\\n\\nSayangnya, informasi yang Anda berikan tidak memuat penjelasan mengenai jurnal balik.  Oleh karena itu, saya akan menjelaskan berdasarkan pengetahuan saya.\\n\\n**Jurnal balik** adalah jurnal yang dibuat pada awal periode akuntansi untuk membalik jurnal penyesuaian tertentu yang telah dibuat pada akhir periode akuntansi sebelumnya.  Tujuannya adalah untuk menyederhanakan pencatatan transaksi pada periode berjalan.\\n\\nJurnal balik biasanya dibuat untuk jurnal penyesuaian yang berkaitan dengan:\\n\\n* **Akun nominal yang masih berlaku di periode berikutnya:**  Contohnya, beban dibayar di muka, pendapatan diterima di muka, dan penyusutan aktiva tetap.  Dengan jurnal balik, pencatatan transaksi terkait di periode berjalan menjadi lebih sederhana karena tidak perlu memperhitungkan saldo yang tersisa dari periode sebelumnya.\\n* **Akun yang berkaitan dengan estimasi:** Contohnya, penyusutan aktiva tetap dan beban piutang tak tertagih.  Jurnal balik membantu menyederhanakan pencatatan transaksi terkait estimasi di periode berjalan.\\n\\n**Contoh:**\\n\\nMisalnya, pada akhir periode Desember 2023, perusahaan telah membuat jurnal penyesuaian untuk beban sewa dibayar di muka.  Pada awal periode Januari 2024, perusahaan dapat membuat jurnal balik untuk jurnal penyesuaian tersebut.  Dengan demikian, saat perusahaan membayar sewa di bulan Januari 2024, perusahaan cukup mencatat beban sewa secara langsung tanpa perlu memperhitungkan sisa beban sewa dibayar di muka dari periode Desember 2023.\\n\\nPenting untuk diingat bahwa tidak semua jurnal penyesuaian perlu dibalik. Jurnal penyesuaian yang berkaitan dengan akun riil (misalnya, persediaan barang dagang dan piutang usaha) umumnya tidak perlu dibalik.\\n'"
      ]
     },
     "execution_count": 23,
     "metadata": {},
     "output_type": "execute_result"
    }
   ],
   "source": [
    "from langchain_core.messages import HumanMessage\n",
    "\n",
    "input_message = \"Apa itu laporan SAK ETAP dan jelaskan apa itu jurnal balik, gunakan tools\"\n",
    "final_state = graph.invoke(\n",
    "    {\"messages\": [HumanMessage(content=input_message)]},\n",
    "    config={\"configurable\": {\"thread_id\": 42}}\n",
    ")\n",
    "final_state[\"messages\"][-1].content"
   ]
  },
  {
   "cell_type": "code",
   "execution_count": 29,
   "metadata": {},
   "outputs": [
    {
     "data": {
      "text/plain": [
       "[HumanMessage(content='Apa itu laporan SAK ETAP dan jelaskan apa itu jurnal balik, gunakan tools', additional_kwargs={}, response_metadata={}, id='be7b1a32-060b-4b5e-8b4a-8cf400e3a690'),\n",
       " AIMessage(content='', additional_kwargs={'function_call': {'name': 'document_retrieve_tool', 'arguments': '{\"query\": \"Apa itu laporan SAK ETAP dan jelaskan apa itu jurnal balik\"}'}}, response_metadata={'prompt_feedback': {'block_reason': 0, 'safety_ratings': []}, 'finish_reason': 'STOP', 'safety_ratings': []}, id='run-b29bc4ac-39f5-45ba-9c76-68095878607d-0', tool_calls=[{'name': 'document_retrieve_tool', 'args': {'query': 'Apa itu laporan SAK ETAP dan jelaskan apa itu jurnal balik'}, 'id': '27a75345-c647-496e-b3d8-1995807de19e', 'type': 'tool_call'}], usage_metadata={'input_tokens': 72, 'output_tokens': 20, 'total_tokens': 92, 'input_token_details': {'cache_read': 0}}),\n",
       " ToolMessage(content=\"Source: {'source': 'material/buku%20pengantar%20akuntansi.pdf', 'page': 65}\\nContent: Pada pembahasan berikut kita hanya membahas tentang pembuatan Laporan Laba Rugi, \\nLaporan perubahan ekuitas dan Neraca/ Laporan Posisi Keuangan\\n\\nSource: {'source': 'material/buku%20pengantar%20akuntansi.pdf', 'page': 28}\\nContent: Dalam membuat jurnal umum, ada beberapa prinsip dasar yang perlu Anda perhatikan yaitu: \\n- Melakukan pengidentifikasian bukti transaksi keuangan yang dilakukan perusahaan. \\nContoh dari bukti transaksi antara lain faktur, kuitansi, nota, memo, dan sebagainya. \\n- Menentukan akun apa saja yang terpengaruh dengan transaksi yang terjadi dan \\nmenggolongkannya dalan jenis harta, utang, ataukah modal. \\n- Menetapkan penambahan atau pengurangan terhadap akun yang terkait dengan\\n\\nSource: {'source': 'material/buku%20pengantar%20akuntansi.pdf', 'page': 29}\\nContent: Dalam membuat jurnal umum, ada beberapa prinsip dasar yang perlu Anda perhatikan yaitu: \\n- Melakukan pengidentifikasian bukti transaksi keuangan yang dilakukan perusahaan. \\nContoh dari bukti transaksi antara lain faktur, kuitansi, nota, memo, dan sebagainya. \\n- Menentukan akun apa saja yang terpengaruh dengan transaksi yang terjadi dan \\nmenggolongkannya dalan jenis harta, utang, ataukah modal. \\n- Menetapkan penambahan atau pengurangan terhadap akun yang terkait dengan\", name='document_retrieve_tool', id='b8578dfc-86ce-43e3-802b-7134a44eab28', tool_call_id='27a75345-c647-496e-b3d8-1995807de19e', artifact=[Document(metadata={'source': 'material/buku%20pengantar%20akuntansi.pdf', 'page': 65}, page_content='Pada pembahasan berikut kita hanya membahas tentang pembuatan Laporan Laba Rugi, \\nLaporan perubahan ekuitas dan Neraca/ Laporan Posisi Keuangan'), Document(metadata={'source': 'material/buku%20pengantar%20akuntansi.pdf', 'page': 28}, page_content='Dalam membuat jurnal umum, ada beberapa prinsip dasar yang perlu Anda perhatikan yaitu: \\n- Melakukan pengidentifikasian bukti transaksi keuangan yang dilakukan perusahaan. \\nContoh dari bukti transaksi antara lain faktur, kuitansi, nota, memo, dan sebagainya. \\n- Menentukan akun apa saja yang terpengaruh dengan transaksi yang terjadi dan \\nmenggolongkannya dalan jenis harta, utang, ataukah modal. \\n- Menetapkan penambahan atau pengurangan terhadap akun yang terkait dengan'), Document(metadata={'source': 'material/buku%20pengantar%20akuntansi.pdf', 'page': 29}, page_content='Dalam membuat jurnal umum, ada beberapa prinsip dasar yang perlu Anda perhatikan yaitu: \\n- Melakukan pengidentifikasian bukti transaksi keuangan yang dilakukan perusahaan. \\nContoh dari bukti transaksi antara lain faktur, kuitansi, nota, memo, dan sebagainya. \\n- Menentukan akun apa saja yang terpengaruh dengan transaksi yang terjadi dan \\nmenggolongkannya dalan jenis harta, utang, ataukah modal. \\n- Menetapkan penambahan atau pengurangan terhadap akun yang terkait dengan')]),\n",
       " AIMessage(content='Saya DesiAI, asisten AI yang ahli di bidang Akuntansi, Keuangan, dan Perbankan. Saya akan mencoba menjawab pertanyaan Anda.\\n\\nBerdasarkan informasi yang saya miliki, laporan SAK ETAP merujuk pada laporan keuangan yang disusun berdasarkan Standar Akuntansi Keuangan Entitas Tanpa Akuntabilitas Publik (SAK ETAP).  SAK ETAP adalah standar akuntansi yang disederhanakan dan ditujukan untuk entitas tanpa akuntabilitas publik.  Entitas tanpa akuntabilitas publik biasanya adalah usaha kecil dan menengah yang tidak memiliki kewajiban untuk melaporkan keuangannya kepada publik.  Laporan keuangan yang umum disusun berdasarkan SAK ETAP antara lain: Laporan Laba Rugi, Laporan Perubahan Ekuitas, dan Neraca (Laporan Posisi Keuangan).  Hal ini tertuang pada halaman 65 sumber yang Anda berikan.\\n\\nSayangnya, informasi yang Anda berikan tidak memuat penjelasan mengenai jurnal balik.  Oleh karena itu, saya akan menjelaskan berdasarkan pengetahuan saya.\\n\\n**Jurnal balik** adalah jurnal yang dibuat pada awal periode akuntansi untuk membalik jurnal penyesuaian tertentu yang telah dibuat pada akhir periode akuntansi sebelumnya.  Tujuannya adalah untuk menyederhanakan pencatatan transaksi pada periode berjalan.\\n\\nJurnal balik biasanya dibuat untuk jurnal penyesuaian yang berkaitan dengan:\\n\\n* **Akun nominal yang masih berlaku di periode berikutnya:**  Contohnya, beban dibayar di muka, pendapatan diterima di muka, dan penyusutan aktiva tetap.  Dengan jurnal balik, pencatatan transaksi terkait di periode berjalan menjadi lebih sederhana karena tidak perlu memperhitungkan saldo yang tersisa dari periode sebelumnya.\\n* **Akun yang berkaitan dengan estimasi:** Contohnya, penyusutan aktiva tetap dan beban piutang tak tertagih.  Jurnal balik membantu menyederhanakan pencatatan transaksi terkait estimasi di periode berjalan.\\n\\n**Contoh:**\\n\\nMisalnya, pada akhir periode Desember 2023, perusahaan telah membuat jurnal penyesuaian untuk beban sewa dibayar di muka.  Pada awal periode Januari 2024, perusahaan dapat membuat jurnal balik untuk jurnal penyesuaian tersebut.  Dengan demikian, saat perusahaan membayar sewa di bulan Januari 2024, perusahaan cukup mencatat beban sewa secara langsung tanpa perlu memperhitungkan sisa beban sewa dibayar di muka dari periode Desember 2023.\\n\\nPenting untuk diingat bahwa tidak semua jurnal penyesuaian perlu dibalik. Jurnal penyesuaian yang berkaitan dengan akun riil (misalnya, persediaan barang dagang dan piutang usaha) umumnya tidak perlu dibalik.\\n', additional_kwargs={}, response_metadata={'prompt_feedback': {'block_reason': 0, 'safety_ratings': []}, 'finish_reason': 'STOP', 'safety_ratings': []}, id='run-502e016f-06f4-49a4-9409-4a248040fa4c-0', usage_metadata={'input_tokens': 412, 'output_tokens': 547, 'total_tokens': 959, 'input_token_details': {'cache_read': 0}})]"
      ]
     },
     "execution_count": 29,
     "metadata": {},
     "output_type": "execute_result"
    }
   ],
   "source": [
    "final_state[\"messages\"]"
   ]
  },
  {
   "cell_type": "code",
   "execution_count": 33,
   "metadata": {},
   "outputs": [
    {
     "data": {
      "text/plain": [
       "'Saya DesiAI, asisten AI yang ahli di bidang Akuntansi, Keuangan, dan Perbankan. Saya akan mencoba menjawab pertanyaan Anda.\\n\\nBerdasarkan informasi yang saya miliki, laporan SAK ETAP merujuk pada laporan keuangan yang disusun berdasarkan Standar Akuntansi Keuangan Entitas Tanpa Akuntabilitas Publik (SAK ETAP).  SAK ETAP adalah standar akuntansi yang disederhanakan dan ditujukan untuk entitas tanpa akuntabilitas publik.  Entitas tanpa akuntabilitas publik biasanya adalah usaha kecil dan menengah yang tidak memiliki kewajiban untuk melaporkan keuangannya kepada publik.  Laporan keuangan yang umum disusun berdasarkan SAK ETAP antara lain: Laporan Laba Rugi, Laporan Perubahan Ekuitas, dan Neraca (Laporan Posisi Keuangan).  Hal ini tertuang pada halaman 65 sumber yang Anda berikan.\\n\\nSayangnya, informasi yang Anda berikan tidak memuat penjelasan mengenai jurnal balik.  Oleh karena itu, saya akan menjelaskan berdasarkan pengetahuan saya.\\n\\n**Jurnal balik** adalah jurnal yang dibuat pada awal periode akuntansi untuk membalik jurnal penyesuaian tertentu yang telah dibuat pada akhir periode akuntansi sebelumnya.  Tujuannya adalah untuk menyederhanakan pencatatan transaksi pada periode berjalan.\\n\\nJurnal balik biasanya dibuat untuk jurnal penyesuaian yang berkaitan dengan:\\n\\n* **Akun nominal yang masih berlaku di periode berikutnya:**  Contohnya, beban dibayar di muka, pendapatan diterima di muka, dan penyusutan aktiva tetap.  Dengan jurnal balik, pencatatan transaksi terkait di periode berjalan menjadi lebih sederhana karena tidak perlu memperhitungkan saldo yang tersisa dari periode sebelumnya.\\n* **Akun yang berkaitan dengan estimasi:** Contohnya, penyusutan aktiva tetap dan beban piutang tak tertagih.  Jurnal balik membantu menyederhanakan pencatatan transaksi terkait estimasi di periode berjalan.\\n\\n**Contoh:**\\n\\nMisalnya, pada akhir periode Desember 2023, perusahaan telah membuat jurnal penyesuaian untuk beban sewa dibayar di muka.  Pada awal periode Januari 2024, perusahaan dapat membuat jurnal balik untuk jurnal penyesuaian tersebut.  Dengan demikian, saat perusahaan membayar sewa di bulan Januari 2024, perusahaan cukup mencatat beban sewa secara langsung tanpa perlu memperhitungkan sisa beban sewa dibayar di muka dari periode Desember 2023.\\n\\nPenting untuk diingat bahwa tidak semua jurnal penyesuaian perlu dibalik. Jurnal penyesuaian yang berkaitan dengan akun riil (misalnya, persediaan barang dagang dan piutang usaha) umumnya tidak perlu dibalik.\\n'"
      ]
     },
     "execution_count": 33,
     "metadata": {},
     "output_type": "execute_result"
    }
   ],
   "source": [
    "final_state[\"messages\"][-1].content"
   ]
  },
  {
   "cell_type": "code",
   "execution_count": null,
   "metadata": {},
   "outputs": [
    {
     "name": "stdout",
     "output_type": "stream",
     "text": [
      "================================\u001b[1m Human Message \u001b[0m=================================\n",
      "\n",
      "Apa itu laporan SAK ETAP dan jelaskan apa itu jurnal balik, gunakan tools\n",
      "==================================\u001b[1m Ai Message \u001b[0m==================================\n",
      "Tool Calls:\n",
      "  document_retrieve_tool (8b775dd6-00a8-4a0a-81a1-6c62831bb062)\n",
      " Call ID: 8b775dd6-00a8-4a0a-81a1-6c62831bb062\n",
      "  Args:\n",
      "    query: Apa itu laporan SAK ETAP dan jelaskan apa itu jurnal balik\n",
      "=================================\u001b[1m Tool Message \u001b[0m=================================\n",
      "Name: document_retrieve_tool\n",
      "\n",
      "Source: {'source': 'material/buku%20pengantar%20akuntansi.pdf', 'page': 62}\n",
      "Content: Laporan laba rugi memasukkan semua pos penghasilan dan beban yang diakui \n",
      "dalam suatu periode kecuali SAK ETAP mensyaratkan lain. SAK ETAP \n",
      "mengatur perlakuan berbeda terhadap dampak koreksi atas kesalahan dan \n",
      "perubahan kebijakan akuntansi yang disajikan sebagai penyesuaian terhadap \n",
      "periode yang lalu dan bukan sebagai bagian dari laba atau rugi dalam periode \n",
      "terjadinya perubahan (Ikatan Akutan Indonesia, 2009a : 5.2). Laporan laba rugi\n",
      "\n",
      "Source: {'source': 'material/buku%20pengantar%20akuntansi.pdf', 'page': 60}\n",
      "Content: kreditur. SAK ETAP membantu perusahaan kecil menengah dalam \n",
      "menyediakan pelaporan keuangan yang tetap relevan dan andal. SAK ETAP \n",
      "akan khusus digunakan unutk perusahaan tanpa akuntabilitas publik yang \n",
      "signifikan. Perusahaan yang terdaftar dalam bursa efek dan yang memiliki \n",
      "akuntabilitas publik signifikan tetap harus menggunakan PSAK yang umum. \n",
      " \n",
      "1.2 Pengakuan Unsur Laporan Keuangan \n",
      "       Menurut SAK ETAP nomor 2 paragraf 24, pengakuan unsur laporan keuangan\n",
      "\n",
      "Source: {'source': 'material/buku%20pengantar%20akuntansi.pdf', 'page': 61}\n",
      "Content: kreditur. SAK ETAP membantu perusahaan kecil menengah dalam \n",
      "menyediakan pelaporan keuangan yang tetap relevan dan andal. SAK ETAP \n",
      "akan khusus digunakan unutk perusahaan tanpa akuntabilitas publik yang \n",
      "signifikan. Perusahaan yang terdaftar dalam bursa efek dan yang memiliki \n",
      "akuntabilitas publik signifikan tetap harus menggunakan PSAK yang umum. \n",
      " \n",
      "1.2 Pengakuan Unsur Laporan Keuangan \n",
      "       Menurut SAK ETAP nomor 2 paragraf 24, pengakuan unsur laporan keuangan\n",
      "[HumanMessage(content='Apa itu laporan SAK ETAP dan jelaskan apa itu jurnal balik!', additional_kwargs={}, response_metadata={}, id='c75aa530-36f4-4309-93b0-21ff4d731989'), AIMessage(content='Laporan SAK ETAP adalah laporan keuangan yang disusun berdasarkan Standar Akuntansi Keuangan Entitas Tanpa Akuntabilitas Publik (SAK ETAP).  SAK ETAP dirancang khusus untuk entitas tanpa akuntabilitas publik, yaitu entitas yang tidak memiliki kewajiban untuk melaporkan keuangannya kepada publik.  Contoh entitas ini antara lain usaha kecil menengah, perusahaan perseorangan, dan yayasan.  SAK ETAP lebih sederhana dibandingkan dengan Standar Akuntansi Keuangan (SAK) yang berlaku umum.\\n\\nJurnal balik adalah jurnal yang dibuat pada awal periode akuntansi untuk membalik jurnal penyesuaian yang dibuat pada akhir periode sebelumnya. Jurnal balik tidak selalu diperlukan, tetapi dibuat untuk memudahkan pencatatan transaksi pada periode berjalan dan menjaga konsistensi pencatatan.  Jurnal balik biasanya dibuat untuk jurnal penyesuaian yang berkaitan dengan:\\n\\n* **Akun nominal yang disajikan pada periode berikutnya.**  Contohnya, pendapatan diterima di muka dan beban dibayar di muka.\\n* **Akun akrual.**  Contohnya, beban akrual dan pendapatan akrual.\\n\\nJurnal balik **tidak dibuat** untuk jurnal penyesuaian yang berkaitan dengan:\\n\\n* **Penghitungan fisik persediaan.**\\n* **Koreksi kesalahan.**\\n* **Penyusutan.**\\n', additional_kwargs={}, response_metadata={'prompt_feedback': {'block_reason': 0, 'safety_ratings': []}, 'finish_reason': 'STOP', 'safety_ratings': []}, id='run-86a72ca6-9ddf-415e-be52-c85ba9636acd-0', usage_metadata={'input_tokens': 70, 'output_tokens': 275, 'total_tokens': 345, 'input_token_details': {'cache_read': 0}}), HumanMessage(content='Apa itu laporan SAK ETAP dan jelaskan apa itu jurnal balik, gunakan tools', additional_kwargs={}, response_metadata={}, id='b8ec38b3-ab34-4679-97e3-4670cc903daa'), AIMessage(content='', additional_kwargs={'function_call': {'name': 'document_retrieve_tool', 'arguments': '{\"query\": \"Apa itu laporan SAK ETAP dan jelaskan apa itu jurnal balik\"}'}}, response_metadata={'prompt_feedback': {'block_reason': 0, 'safety_ratings': []}, 'finish_reason': 'STOP', 'safety_ratings': []}, id='run-1a4bbe21-64a8-4e65-b764-eed5ac84955a-0', tool_calls=[{'name': 'document_retrieve_tool', 'args': {'query': 'Apa itu laporan SAK ETAP dan jelaskan apa itu jurnal balik'}, 'id': '8b775dd6-00a8-4a0a-81a1-6c62831bb062', 'type': 'tool_call'}], usage_metadata={'input_tokens': 364, 'output_tokens': 20, 'total_tokens': 384, 'input_token_details': {'cache_read': 0}}), ToolMessage(content=\"Source: {'source': 'material/buku%20pengantar%20akuntansi.pdf', 'page': 62}\\nContent: Laporan laba rugi memasukkan semua pos penghasilan dan beban yang diakui \\ndalam suatu periode kecuali SAK ETAP mensyaratkan lain. SAK ETAP \\nmengatur perlakuan berbeda terhadap dampak koreksi atas kesalahan dan \\nperubahan kebijakan akuntansi yang disajikan sebagai penyesuaian terhadap \\nperiode yang lalu dan bukan sebagai bagian dari laba atau rugi dalam periode \\nterjadinya perubahan (Ikatan Akutan Indonesia, 2009a : 5.2). Laporan laba rugi\\n\\nSource: {'source': 'material/buku%20pengantar%20akuntansi.pdf', 'page': 60}\\nContent: kreditur. SAK ETAP membantu perusahaan kecil menengah dalam \\nmenyediakan pelaporan keuangan yang tetap relevan dan andal. SAK ETAP \\nakan khusus digunakan unutk perusahaan tanpa akuntabilitas publik yang \\nsignifikan. Perusahaan yang terdaftar dalam bursa efek dan yang memiliki \\nakuntabilitas publik signifikan tetap harus menggunakan PSAK yang umum. \\n \\n1.2 Pengakuan Unsur Laporan Keuangan \\n       Menurut SAK ETAP nomor 2 paragraf 24, pengakuan unsur laporan keuangan\\n\\nSource: {'source': 'material/buku%20pengantar%20akuntansi.pdf', 'page': 61}\\nContent: kreditur. SAK ETAP membantu perusahaan kecil menengah dalam \\nmenyediakan pelaporan keuangan yang tetap relevan dan andal. SAK ETAP \\nakan khusus digunakan unutk perusahaan tanpa akuntabilitas publik yang \\nsignifikan. Perusahaan yang terdaftar dalam bursa efek dan yang memiliki \\nakuntabilitas publik signifikan tetap harus menggunakan PSAK yang umum. \\n \\n1.2 Pengakuan Unsur Laporan Keuangan \\n       Menurut SAK ETAP nomor 2 paragraf 24, pengakuan unsur laporan keuangan\", name='document_retrieve_tool', id='165d5be0-bf2a-44ad-b784-53967ed820f7', tool_call_id='8b775dd6-00a8-4a0a-81a1-6c62831bb062', artifact=[Document(metadata={'source': 'material/buku%20pengantar%20akuntansi.pdf', 'page': 62}, page_content='Laporan laba rugi memasukkan semua pos penghasilan dan beban yang diakui \\ndalam suatu periode kecuali SAK ETAP mensyaratkan lain. SAK ETAP \\nmengatur perlakuan berbeda terhadap dampak koreksi atas kesalahan dan \\nperubahan kebijakan akuntansi yang disajikan sebagai penyesuaian terhadap \\nperiode yang lalu dan bukan sebagai bagian dari laba atau rugi dalam periode \\nterjadinya perubahan (Ikatan Akutan Indonesia, 2009a : 5.2). Laporan laba rugi'), Document(metadata={'source': 'material/buku%20pengantar%20akuntansi.pdf', 'page': 60}, page_content='kreditur. SAK ETAP membantu perusahaan kecil menengah dalam \\nmenyediakan pelaporan keuangan yang tetap relevan dan andal. SAK ETAP \\nakan khusus digunakan unutk perusahaan tanpa akuntabilitas publik yang \\nsignifikan. Perusahaan yang terdaftar dalam bursa efek dan yang memiliki \\nakuntabilitas publik signifikan tetap harus menggunakan PSAK yang umum. \\n \\n1.2 Pengakuan Unsur Laporan Keuangan \\n       Menurut SAK ETAP nomor 2 paragraf 24, pengakuan unsur laporan keuangan'), Document(metadata={'source': 'material/buku%20pengantar%20akuntansi.pdf', 'page': 61}, page_content='kreditur. SAK ETAP membantu perusahaan kecil menengah dalam \\nmenyediakan pelaporan keuangan yang tetap relevan dan andal. SAK ETAP \\nakan khusus digunakan unutk perusahaan tanpa akuntabilitas publik yang \\nsignifikan. Perusahaan yang terdaftar dalam bursa efek dan yang memiliki \\nakuntabilitas publik signifikan tetap harus menggunakan PSAK yang umum. \\n \\n1.2 Pengakuan Unsur Laporan Keuangan \\n       Menurut SAK ETAP nomor 2 paragraf 24, pengakuan unsur laporan keuangan')])]\n",
      "[SystemMessage(content=\"Kamu merupakan asisten AI bernama DesiAI yang ahli dalam bidang Akuntansi,Finansial dan Perbankan. Gunakanlah Tools Retrieve untuk mencari informasi berdasarkan dari query yang diberikan. Kombinasikan pengetahuanmu dengan informasi yang diberikan agar menghasilkan jawaban yang akurat.\\n\\nSource: {'source': 'material/buku%20pengantar%20akuntansi.pdf', 'page': 62}\\nContent: Laporan laba rugi memasukkan semua pos penghasilan dan beban yang diakui \\ndalam suatu periode kecuali SAK ETAP mensyaratkan lain. SAK ETAP \\nmengatur perlakuan berbeda terhadap dampak koreksi atas kesalahan dan \\nperubahan kebijakan akuntansi yang disajikan sebagai penyesuaian terhadap \\nperiode yang lalu dan bukan sebagai bagian dari laba atau rugi dalam periode \\nterjadinya perubahan (Ikatan Akutan Indonesia, 2009a : 5.2). Laporan laba rugi\\n\\nSource: {'source': 'material/buku%20pengantar%20akuntansi.pdf', 'page': 60}\\nContent: kreditur. SAK ETAP membantu perusahaan kecil menengah dalam \\nmenyediakan pelaporan keuangan yang tetap relevan dan andal. SAK ETAP \\nakan khusus digunakan unutk perusahaan tanpa akuntabilitas publik yang \\nsignifikan. Perusahaan yang terdaftar dalam bursa efek dan yang memiliki \\nakuntabilitas publik signifikan tetap harus menggunakan PSAK yang umum. \\n \\n1.2 Pengakuan Unsur Laporan Keuangan \\n       Menurut SAK ETAP nomor 2 paragraf 24, pengakuan unsur laporan keuangan\\n\\nSource: {'source': 'material/buku%20pengantar%20akuntansi.pdf', 'page': 61}\\nContent: kreditur. SAK ETAP membantu perusahaan kecil menengah dalam \\nmenyediakan pelaporan keuangan yang tetap relevan dan andal. SAK ETAP \\nakan khusus digunakan unutk perusahaan tanpa akuntabilitas publik yang \\nsignifikan. Perusahaan yang terdaftar dalam bursa efek dan yang memiliki \\nakuntabilitas publik signifikan tetap harus menggunakan PSAK yang umum. \\n \\n1.2 Pengakuan Unsur Laporan Keuangan \\n       Menurut SAK ETAP nomor 2 paragraf 24, pengakuan unsur laporan keuangan\\n\\n\", additional_kwargs={}, response_metadata={}), HumanMessage(content='Apa itu laporan SAK ETAP dan jelaskan apa itu jurnal balik!', additional_kwargs={}, response_metadata={}, id='c75aa530-36f4-4309-93b0-21ff4d731989'), AIMessage(content='Laporan SAK ETAP adalah laporan keuangan yang disusun berdasarkan Standar Akuntansi Keuangan Entitas Tanpa Akuntabilitas Publik (SAK ETAP).  SAK ETAP dirancang khusus untuk entitas tanpa akuntabilitas publik, yaitu entitas yang tidak memiliki kewajiban untuk melaporkan keuangannya kepada publik.  Contoh entitas ini antara lain usaha kecil menengah, perusahaan perseorangan, dan yayasan.  SAK ETAP lebih sederhana dibandingkan dengan Standar Akuntansi Keuangan (SAK) yang berlaku umum.\\n\\nJurnal balik adalah jurnal yang dibuat pada awal periode akuntansi untuk membalik jurnal penyesuaian yang dibuat pada akhir periode sebelumnya. Jurnal balik tidak selalu diperlukan, tetapi dibuat untuk memudahkan pencatatan transaksi pada periode berjalan dan menjaga konsistensi pencatatan.  Jurnal balik biasanya dibuat untuk jurnal penyesuaian yang berkaitan dengan:\\n\\n* **Akun nominal yang disajikan pada periode berikutnya.**  Contohnya, pendapatan diterima di muka dan beban dibayar di muka.\\n* **Akun akrual.**  Contohnya, beban akrual dan pendapatan akrual.\\n\\nJurnal balik **tidak dibuat** untuk jurnal penyesuaian yang berkaitan dengan:\\n\\n* **Penghitungan fisik persediaan.**\\n* **Koreksi kesalahan.**\\n* **Penyusutan.**\\n', additional_kwargs={}, response_metadata={'prompt_feedback': {'block_reason': 0, 'safety_ratings': []}, 'finish_reason': 'STOP', 'safety_ratings': []}, id='run-86a72ca6-9ddf-415e-be52-c85ba9636acd-0', usage_metadata={'input_tokens': 70, 'output_tokens': 275, 'total_tokens': 345, 'input_token_details': {'cache_read': 0}}), HumanMessage(content='Apa itu laporan SAK ETAP dan jelaskan apa itu jurnal balik, gunakan tools', additional_kwargs={}, response_metadata={}, id='b8ec38b3-ab34-4679-97e3-4670cc903daa')]\n",
      "==================================\u001b[1m Ai Message \u001b[0m==================================\n",
      "\n",
      "Laporan SAK ETAP adalah laporan keuangan yang disusun berdasarkan Standar Akuntansi Keuangan Entitas Tanpa Akuntabilitas Publik. SAK ETAP ini dirancang khusus untuk entitas tanpa akuntabilitas publik yang signifikan, seperti usaha kecil dan menengah,  perusahaan perseorangan, dan yayasan.  Mereka tidak memiliki kewajiban publik untuk melaporkan keuangannya.  SAK ETAP lebih sederhana daripada SAK yang umum dan ditujukan untuk membantu UKM menyediakan laporan keuangan yang relevan dan andal.  (Sumber: Buku Pengantar Akuntansi, hal 60-61).  Perusahaan yang terdaftar di bursa efek atau memiliki akuntabilitas publik yang signifikan tetap harus menggunakan PSAK.\n",
      "\n",
      "Jurnal balik adalah jurnal yang dibuat pada awal periode akuntansi untuk membalik jurnal penyesuaian yang telah dibuat pada akhir periode sebelumnya.  Tujuannya adalah untuk menyederhanakan pencatatan transaksi rutin di periode berjalan. Jurnal balik tidak wajib dibuat, tetapi dapat sangat membantu.  Jurnal balik umumnya dibuat untuk jurnal penyesuaian yang mempengaruhi akun nominal (pendapatan dan beban) di periode berikutnya, seperti:\n",
      "\n",
      "* **Pendapatan diterima di muka:**  Jurnal penyesuaian akhir periode: Debit Pendapatan Diterima di Muka, Kredit Pendapatan. Jurnal balik: Debit Pendapatan, Kredit Pendapatan Diterima di Muka.\n",
      "* **Beban dibayar di muka:** Jurnal penyesuaian akhir periode: Debit Beban, Kredit Beban Dibayar di Muka. Jurnal balik: Debit Beban Dibayar di Muka, Kredit Beban.\n",
      "* **Beban akrual:** Jurnal penyesuaian akhir periode: Debit Beban, Kredit Beban Akrual. Jurnal balik: Debit Beban Akrual, Kredit Beban.\n",
      "* **Pendapatan akrual:** Jurnal penyesuaian akhir periode: Debit Piutang, Kredit Pendapatan. Jurnal balik: Debit Pendapatan, Kredit Piutang.\n",
      "\n",
      "Jurnal balik *tidak* dibuat untuk penyesuaian seperti penyusutan, koreksi kesalahan, atau penghitungan fisik persediaan.\n"
     ]
    }
   ],
   "source": [
    "input_message = \"Apa itu laporan SAK ETAP dan jelaskan apa itu jurnal balik, gunakan tools\"\n",
    "\n",
    "for step in graph.stream(\n",
    "    {\"messages\": [{\"role\": \"human\", \"content\": input_message}]},\n",
    "    stream_mode=\"values\",\n",
    "    config=config\n",
    "):\n",
    "    step[\"messages\"][-1].pretty_print()"
   ]
  },
  {
   "cell_type": "code",
   "execution_count": null,
   "metadata": {},
   "outputs": [
    {
     "data": {
      "text/plain": [
       "{'messages': [HumanMessage(content='Apa itu laporan SAK ETAP dan jelaskan apa itu jurnal balik!', additional_kwargs={}, response_metadata={}, id='c75aa530-36f4-4309-93b0-21ff4d731989'),\n",
       "  AIMessage(content='Laporan SAK ETAP adalah laporan keuangan yang disusun berdasarkan Standar Akuntansi Keuangan Entitas Tanpa Akuntabilitas Publik (SAK ETAP).  SAK ETAP dirancang khusus untuk entitas tanpa akuntabilitas publik, yaitu entitas yang tidak memiliki kewajiban untuk melaporkan keuangannya kepada publik.  Contoh entitas ini antara lain usaha kecil menengah, perusahaan perseorangan, dan yayasan.  SAK ETAP lebih sederhana dibandingkan dengan Standar Akuntansi Keuangan (SAK) yang berlaku umum.\\n\\nJurnal balik adalah jurnal yang dibuat pada awal periode akuntansi untuk membalik jurnal penyesuaian yang dibuat pada akhir periode sebelumnya. Jurnal balik tidak selalu diperlukan, tetapi dibuat untuk memudahkan pencatatan transaksi pada periode berjalan dan menjaga konsistensi pencatatan.  Jurnal balik biasanya dibuat untuk jurnal penyesuaian yang berkaitan dengan:\\n\\n* **Akun nominal yang disajikan pada periode berikutnya.**  Contohnya, pendapatan diterima di muka dan beban dibayar di muka.\\n* **Akun akrual.**  Contohnya, beban akrual dan pendapatan akrual.\\n\\nJurnal balik **tidak dibuat** untuk jurnal penyesuaian yang berkaitan dengan:\\n\\n* **Penghitungan fisik persediaan.**\\n* **Koreksi kesalahan.**\\n* **Penyusutan.**\\n', additional_kwargs={}, response_metadata={'prompt_feedback': {'block_reason': 0, 'safety_ratings': []}, 'finish_reason': 'STOP', 'safety_ratings': []}, id='run-86a72ca6-9ddf-415e-be52-c85ba9636acd-0', usage_metadata={'input_tokens': 70, 'output_tokens': 275, 'total_tokens': 345, 'input_token_details': {'cache_read': 0}}),\n",
       "  HumanMessage(content='Apa itu laporan SAK ETAP dan jelaskan apa itu jurnal balik, gunakan tools', additional_kwargs={}, response_metadata={}, id='b8ec38b3-ab34-4679-97e3-4670cc903daa'),\n",
       "  AIMessage(content='', additional_kwargs={'function_call': {'name': 'document_retrieve_tool', 'arguments': '{\"query\": \"Apa itu laporan SAK ETAP dan jelaskan apa itu jurnal balik\"}'}}, response_metadata={'prompt_feedback': {'block_reason': 0, 'safety_ratings': []}, 'finish_reason': 'STOP', 'safety_ratings': []}, id='run-1a4bbe21-64a8-4e65-b764-eed5ac84955a-0', tool_calls=[{'name': 'document_retrieve_tool', 'args': {'query': 'Apa itu laporan SAK ETAP dan jelaskan apa itu jurnal balik'}, 'id': '8b775dd6-00a8-4a0a-81a1-6c62831bb062', 'type': 'tool_call'}], usage_metadata={'input_tokens': 364, 'output_tokens': 20, 'total_tokens': 384, 'input_token_details': {'cache_read': 0}}),\n",
       "  ToolMessage(content=\"Source: {'source': 'material/buku%20pengantar%20akuntansi.pdf', 'page': 62}\\nContent: Laporan laba rugi memasukkan semua pos penghasilan dan beban yang diakui \\ndalam suatu periode kecuali SAK ETAP mensyaratkan lain. SAK ETAP \\nmengatur perlakuan berbeda terhadap dampak koreksi atas kesalahan dan \\nperubahan kebijakan akuntansi yang disajikan sebagai penyesuaian terhadap \\nperiode yang lalu dan bukan sebagai bagian dari laba atau rugi dalam periode \\nterjadinya perubahan (Ikatan Akutan Indonesia, 2009a : 5.2). Laporan laba rugi\\n\\nSource: {'source': 'material/buku%20pengantar%20akuntansi.pdf', 'page': 60}\\nContent: kreditur. SAK ETAP membantu perusahaan kecil menengah dalam \\nmenyediakan pelaporan keuangan yang tetap relevan dan andal. SAK ETAP \\nakan khusus digunakan unutk perusahaan tanpa akuntabilitas publik yang \\nsignifikan. Perusahaan yang terdaftar dalam bursa efek dan yang memiliki \\nakuntabilitas publik signifikan tetap harus menggunakan PSAK yang umum. \\n \\n1.2 Pengakuan Unsur Laporan Keuangan \\n       Menurut SAK ETAP nomor 2 paragraf 24, pengakuan unsur laporan keuangan\\n\\nSource: {'source': 'material/buku%20pengantar%20akuntansi.pdf', 'page': 61}\\nContent: kreditur. SAK ETAP membantu perusahaan kecil menengah dalam \\nmenyediakan pelaporan keuangan yang tetap relevan dan andal. SAK ETAP \\nakan khusus digunakan unutk perusahaan tanpa akuntabilitas publik yang \\nsignifikan. Perusahaan yang terdaftar dalam bursa efek dan yang memiliki \\nakuntabilitas publik signifikan tetap harus menggunakan PSAK yang umum. \\n \\n1.2 Pengakuan Unsur Laporan Keuangan \\n       Menurut SAK ETAP nomor 2 paragraf 24, pengakuan unsur laporan keuangan\", name='document_retrieve_tool', id='165d5be0-bf2a-44ad-b784-53967ed820f7', tool_call_id='8b775dd6-00a8-4a0a-81a1-6c62831bb062', artifact=[{'id': None, 'metadata': {'source': 'material/buku%20pengantar%20akuntansi.pdf', 'page': 62}, 'page_content': 'Laporan laba rugi memasukkan semua pos penghasilan dan beban yang diakui \\ndalam suatu periode kecuali SAK ETAP mensyaratkan lain. SAK ETAP \\nmengatur perlakuan berbeda terhadap dampak koreksi atas kesalahan dan \\nperubahan kebijakan akuntansi yang disajikan sebagai penyesuaian terhadap \\nperiode yang lalu dan bukan sebagai bagian dari laba atau rugi dalam periode \\nterjadinya perubahan (Ikatan Akutan Indonesia, 2009a : 5.2). Laporan laba rugi', 'type': 'Document'}, {'id': None, 'metadata': {'source': 'material/buku%20pengantar%20akuntansi.pdf', 'page': 60}, 'page_content': 'kreditur. SAK ETAP membantu perusahaan kecil menengah dalam \\nmenyediakan pelaporan keuangan yang tetap relevan dan andal. SAK ETAP \\nakan khusus digunakan unutk perusahaan tanpa akuntabilitas publik yang \\nsignifikan. Perusahaan yang terdaftar dalam bursa efek dan yang memiliki \\nakuntabilitas publik signifikan tetap harus menggunakan PSAK yang umum. \\n \\n1.2 Pengakuan Unsur Laporan Keuangan \\n       Menurut SAK ETAP nomor 2 paragraf 24, pengakuan unsur laporan keuangan', 'type': 'Document'}, {'id': None, 'metadata': {'source': 'material/buku%20pengantar%20akuntansi.pdf', 'page': 61}, 'page_content': 'kreditur. SAK ETAP membantu perusahaan kecil menengah dalam \\nmenyediakan pelaporan keuangan yang tetap relevan dan andal. SAK ETAP \\nakan khusus digunakan unutk perusahaan tanpa akuntabilitas publik yang \\nsignifikan. Perusahaan yang terdaftar dalam bursa efek dan yang memiliki \\nakuntabilitas publik signifikan tetap harus menggunakan PSAK yang umum. \\n \\n1.2 Pengakuan Unsur Laporan Keuangan \\n       Menurut SAK ETAP nomor 2 paragraf 24, pengakuan unsur laporan keuangan', 'type': 'Document'}]),\n",
       "  AIMessage(content='Laporan SAK ETAP adalah laporan keuangan yang disusun berdasarkan Standar Akuntansi Keuangan Entitas Tanpa Akuntabilitas Publik. SAK ETAP ini dirancang khusus untuk entitas tanpa akuntabilitas publik yang signifikan, seperti usaha kecil dan menengah,  perusahaan perseorangan, dan yayasan.  Mereka tidak memiliki kewajiban publik untuk melaporkan keuangannya.  SAK ETAP lebih sederhana daripada SAK yang umum dan ditujukan untuk membantu UKM menyediakan laporan keuangan yang relevan dan andal.  (Sumber: Buku Pengantar Akuntansi, hal 60-61).  Perusahaan yang terdaftar di bursa efek atau memiliki akuntabilitas publik yang signifikan tetap harus menggunakan PSAK.\\n\\nJurnal balik adalah jurnal yang dibuat pada awal periode akuntansi untuk membalik jurnal penyesuaian yang telah dibuat pada akhir periode sebelumnya.  Tujuannya adalah untuk menyederhanakan pencatatan transaksi rutin di periode berjalan. Jurnal balik tidak wajib dibuat, tetapi dapat sangat membantu.  Jurnal balik umumnya dibuat untuk jurnal penyesuaian yang mempengaruhi akun nominal (pendapatan dan beban) di periode berikutnya, seperti:\\n\\n* **Pendapatan diterima di muka:**  Jurnal penyesuaian akhir periode: Debit Pendapatan Diterima di Muka, Kredit Pendapatan. Jurnal balik: Debit Pendapatan, Kredit Pendapatan Diterima di Muka.\\n* **Beban dibayar di muka:** Jurnal penyesuaian akhir periode: Debit Beban, Kredit Beban Dibayar di Muka. Jurnal balik: Debit Beban Dibayar di Muka, Kredit Beban.\\n* **Beban akrual:** Jurnal penyesuaian akhir periode: Debit Beban, Kredit Beban Akrual. Jurnal balik: Debit Beban Akrual, Kredit Beban.\\n* **Pendapatan akrual:** Jurnal penyesuaian akhir periode: Debit Piutang, Kredit Pendapatan. Jurnal balik: Debit Pendapatan, Kredit Piutang.\\n\\nJurnal balik *tidak* dibuat untuk penyesuaian seperti penyusutan, koreksi kesalahan, atau penghitungan fisik persediaan.\\n', additional_kwargs={}, response_metadata={'prompt_feedback': {'block_reason': 0, 'safety_ratings': []}, 'finish_reason': 'STOP', 'safety_ratings': []}, id='run-be992326-3c43-4d38-bac5-8a998c83dc96-0', usage_metadata={'input_tokens': 790, 'output_tokens': 440, 'total_tokens': 1230, 'input_token_details': {'cache_read': 0}}),\n",
       "  HumanMessage(content='saya bertanya apa?', additional_kwargs={}, response_metadata={}, id='fc93a2ff-6d43-4788-a347-a00b2df5d0a1'),\n",
       "  AIMessage(content='Anda bertanya tentang laporan SAK ETAP dan jurnal balik.  Lebih spesifiknya, Anda ingin tahu definisi dari laporan SAK ETAP dan penjelasan tentang jurnal balik.  Saya telah menjawab pertanyaan Anda dengan memberikan definisi dari masing-masing istilah tersebut, menjelaskan tujuan dan kapan jurnal balik dibuat, dan memberikan beberapa contoh.  Apakah ada hal lain yang ingin Anda ketahui?\\n', additional_kwargs={}, response_metadata={'prompt_feedback': {'block_reason': 0, 'safety_ratings': []}, 'finish_reason': 'STOP', 'safety_ratings': []}, id='run-30c41a74-a142-4e4a-88a8-209264721226-0', usage_metadata={'input_tokens': 1302, 'output_tokens': 76, 'total_tokens': 1378, 'input_token_details': {'cache_read': 0}})]}"
      ]
     },
     "execution_count": 191,
     "metadata": {},
     "output_type": "execute_result"
    }
   ],
   "source": [
    "question = \"saya bertanya apa?\"\n",
    "input = {\n",
    "    \"messages\": [{\n",
    "        \"role\": \"human\",\n",
    "        \"content\": question,\n",
    "    }]\n",
    "}\n",
    "graph.invoke(input=input, config=config)"
   ]
  },
  {
   "cell_type": "code",
   "execution_count": 35,
   "metadata": {},
   "outputs": [
    {
     "data": {
      "text/plain": [
       "[StateSnapshot(values={'messages': [HumanMessage(content='Apa itu laporan SAK ETAP dan jelaskan apa itu jurnal balik, gunakan tools', additional_kwargs={}, response_metadata={}, id='be7b1a32-060b-4b5e-8b4a-8cf400e3a690'), AIMessage(content='', additional_kwargs={'function_call': {'name': 'document_retrieve_tool', 'arguments': '{\"query\": \"Apa itu laporan SAK ETAP dan jelaskan apa itu jurnal balik\"}'}}, response_metadata={'prompt_feedback': {'block_reason': 0, 'safety_ratings': []}, 'finish_reason': 'STOP', 'safety_ratings': []}, id='run-b29bc4ac-39f5-45ba-9c76-68095878607d-0', tool_calls=[{'name': 'document_retrieve_tool', 'args': {'query': 'Apa itu laporan SAK ETAP dan jelaskan apa itu jurnal balik'}, 'id': '27a75345-c647-496e-b3d8-1995807de19e', 'type': 'tool_call'}], usage_metadata={'input_tokens': 72, 'output_tokens': 20, 'total_tokens': 92, 'input_token_details': {'cache_read': 0}}), ToolMessage(content=\"Source: {'source': 'material/buku%20pengantar%20akuntansi.pdf', 'page': 65}\\nContent: Pada pembahasan berikut kita hanya membahas tentang pembuatan Laporan Laba Rugi, \\nLaporan perubahan ekuitas dan Neraca/ Laporan Posisi Keuangan\\n\\nSource: {'source': 'material/buku%20pengantar%20akuntansi.pdf', 'page': 28}\\nContent: Dalam membuat jurnal umum, ada beberapa prinsip dasar yang perlu Anda perhatikan yaitu: \\n- Melakukan pengidentifikasian bukti transaksi keuangan yang dilakukan perusahaan. \\nContoh dari bukti transaksi antara lain faktur, kuitansi, nota, memo, dan sebagainya. \\n- Menentukan akun apa saja yang terpengaruh dengan transaksi yang terjadi dan \\nmenggolongkannya dalan jenis harta, utang, ataukah modal. \\n- Menetapkan penambahan atau pengurangan terhadap akun yang terkait dengan\\n\\nSource: {'source': 'material/buku%20pengantar%20akuntansi.pdf', 'page': 29}\\nContent: Dalam membuat jurnal umum, ada beberapa prinsip dasar yang perlu Anda perhatikan yaitu: \\n- Melakukan pengidentifikasian bukti transaksi keuangan yang dilakukan perusahaan. \\nContoh dari bukti transaksi antara lain faktur, kuitansi, nota, memo, dan sebagainya. \\n- Menentukan akun apa saja yang terpengaruh dengan transaksi yang terjadi dan \\nmenggolongkannya dalan jenis harta, utang, ataukah modal. \\n- Menetapkan penambahan atau pengurangan terhadap akun yang terkait dengan\", name='document_retrieve_tool', id='b8578dfc-86ce-43e3-802b-7134a44eab28', tool_call_id='27a75345-c647-496e-b3d8-1995807de19e', artifact=[{'id': None, 'metadata': {'source': 'material/buku%20pengantar%20akuntansi.pdf', 'page': 65}, 'page_content': 'Pada pembahasan berikut kita hanya membahas tentang pembuatan Laporan Laba Rugi, \\nLaporan perubahan ekuitas dan Neraca/ Laporan Posisi Keuangan', 'type': 'Document'}, {'id': None, 'metadata': {'source': 'material/buku%20pengantar%20akuntansi.pdf', 'page': 28}, 'page_content': 'Dalam membuat jurnal umum, ada beberapa prinsip dasar yang perlu Anda perhatikan yaitu: \\n- Melakukan pengidentifikasian bukti transaksi keuangan yang dilakukan perusahaan. \\nContoh dari bukti transaksi antara lain faktur, kuitansi, nota, memo, dan sebagainya. \\n- Menentukan akun apa saja yang terpengaruh dengan transaksi yang terjadi dan \\nmenggolongkannya dalan jenis harta, utang, ataukah modal. \\n- Menetapkan penambahan atau pengurangan terhadap akun yang terkait dengan', 'type': 'Document'}, {'id': None, 'metadata': {'source': 'material/buku%20pengantar%20akuntansi.pdf', 'page': 29}, 'page_content': 'Dalam membuat jurnal umum, ada beberapa prinsip dasar yang perlu Anda perhatikan yaitu: \\n- Melakukan pengidentifikasian bukti transaksi keuangan yang dilakukan perusahaan. \\nContoh dari bukti transaksi antara lain faktur, kuitansi, nota, memo, dan sebagainya. \\n- Menentukan akun apa saja yang terpengaruh dengan transaksi yang terjadi dan \\nmenggolongkannya dalan jenis harta, utang, ataukah modal. \\n- Menetapkan penambahan atau pengurangan terhadap akun yang terkait dengan', 'type': 'Document'}]), AIMessage(content='Saya DesiAI, asisten AI yang ahli di bidang Akuntansi, Keuangan, dan Perbankan. Saya akan mencoba menjawab pertanyaan Anda.\\n\\nBerdasarkan informasi yang saya miliki, laporan SAK ETAP merujuk pada laporan keuangan yang disusun berdasarkan Standar Akuntansi Keuangan Entitas Tanpa Akuntabilitas Publik (SAK ETAP).  SAK ETAP adalah standar akuntansi yang disederhanakan dan ditujukan untuk entitas tanpa akuntabilitas publik.  Entitas tanpa akuntabilitas publik biasanya adalah usaha kecil dan menengah yang tidak memiliki kewajiban untuk melaporkan keuangannya kepada publik.  Laporan keuangan yang umum disusun berdasarkan SAK ETAP antara lain: Laporan Laba Rugi, Laporan Perubahan Ekuitas, dan Neraca (Laporan Posisi Keuangan).  Hal ini tertuang pada halaman 65 sumber yang Anda berikan.\\n\\nSayangnya, informasi yang Anda berikan tidak memuat penjelasan mengenai jurnal balik.  Oleh karena itu, saya akan menjelaskan berdasarkan pengetahuan saya.\\n\\n**Jurnal balik** adalah jurnal yang dibuat pada awal periode akuntansi untuk membalik jurnal penyesuaian tertentu yang telah dibuat pada akhir periode akuntansi sebelumnya.  Tujuannya adalah untuk menyederhanakan pencatatan transaksi pada periode berjalan.\\n\\nJurnal balik biasanya dibuat untuk jurnal penyesuaian yang berkaitan dengan:\\n\\n* **Akun nominal yang masih berlaku di periode berikutnya:**  Contohnya, beban dibayar di muka, pendapatan diterima di muka, dan penyusutan aktiva tetap.  Dengan jurnal balik, pencatatan transaksi terkait di periode berjalan menjadi lebih sederhana karena tidak perlu memperhitungkan saldo yang tersisa dari periode sebelumnya.\\n* **Akun yang berkaitan dengan estimasi:** Contohnya, penyusutan aktiva tetap dan beban piutang tak tertagih.  Jurnal balik membantu menyederhanakan pencatatan transaksi terkait estimasi di periode berjalan.\\n\\n**Contoh:**\\n\\nMisalnya, pada akhir periode Desember 2023, perusahaan telah membuat jurnal penyesuaian untuk beban sewa dibayar di muka.  Pada awal periode Januari 2024, perusahaan dapat membuat jurnal balik untuk jurnal penyesuaian tersebut.  Dengan demikian, saat perusahaan membayar sewa di bulan Januari 2024, perusahaan cukup mencatat beban sewa secara langsung tanpa perlu memperhitungkan sisa beban sewa dibayar di muka dari periode Desember 2023.\\n\\nPenting untuk diingat bahwa tidak semua jurnal penyesuaian perlu dibalik. Jurnal penyesuaian yang berkaitan dengan akun riil (misalnya, persediaan barang dagang dan piutang usaha) umumnya tidak perlu dibalik.\\n', additional_kwargs={}, response_metadata={'prompt_feedback': {'block_reason': 0, 'safety_ratings': []}, 'finish_reason': 'STOP', 'safety_ratings': []}, id='run-502e016f-06f4-49a4-9409-4a248040fa4c-0', usage_metadata={'input_tokens': 412, 'output_tokens': 547, 'total_tokens': 959, 'input_token_details': {'cache_read': 0}})]}, next=(), config={'configurable': {'thread_id': 42, 'checkpoint_ns': '', 'checkpoint_id': '1efb4744-87ca-6d1e-8003-fce8ad277720'}}, metadata={'source': 'loop', 'writes': {'generate': {'messages': [AIMessage(content='Saya DesiAI, asisten AI yang ahli di bidang Akuntansi, Keuangan, dan Perbankan. Saya akan mencoba menjawab pertanyaan Anda.\\n\\nBerdasarkan informasi yang saya miliki, laporan SAK ETAP merujuk pada laporan keuangan yang disusun berdasarkan Standar Akuntansi Keuangan Entitas Tanpa Akuntabilitas Publik (SAK ETAP).  SAK ETAP adalah standar akuntansi yang disederhanakan dan ditujukan untuk entitas tanpa akuntabilitas publik.  Entitas tanpa akuntabilitas publik biasanya adalah usaha kecil dan menengah yang tidak memiliki kewajiban untuk melaporkan keuangannya kepada publik.  Laporan keuangan yang umum disusun berdasarkan SAK ETAP antara lain: Laporan Laba Rugi, Laporan Perubahan Ekuitas, dan Neraca (Laporan Posisi Keuangan).  Hal ini tertuang pada halaman 65 sumber yang Anda berikan.\\n\\nSayangnya, informasi yang Anda berikan tidak memuat penjelasan mengenai jurnal balik.  Oleh karena itu, saya akan menjelaskan berdasarkan pengetahuan saya.\\n\\n**Jurnal balik** adalah jurnal yang dibuat pada awal periode akuntansi untuk membalik jurnal penyesuaian tertentu yang telah dibuat pada akhir periode akuntansi sebelumnya.  Tujuannya adalah untuk menyederhanakan pencatatan transaksi pada periode berjalan.\\n\\nJurnal balik biasanya dibuat untuk jurnal penyesuaian yang berkaitan dengan:\\n\\n* **Akun nominal yang masih berlaku di periode berikutnya:**  Contohnya, beban dibayar di muka, pendapatan diterima di muka, dan penyusutan aktiva tetap.  Dengan jurnal balik, pencatatan transaksi terkait di periode berjalan menjadi lebih sederhana karena tidak perlu memperhitungkan saldo yang tersisa dari periode sebelumnya.\\n* **Akun yang berkaitan dengan estimasi:** Contohnya, penyusutan aktiva tetap dan beban piutang tak tertagih.  Jurnal balik membantu menyederhanakan pencatatan transaksi terkait estimasi di periode berjalan.\\n\\n**Contoh:**\\n\\nMisalnya, pada akhir periode Desember 2023, perusahaan telah membuat jurnal penyesuaian untuk beban sewa dibayar di muka.  Pada awal periode Januari 2024, perusahaan dapat membuat jurnal balik untuk jurnal penyesuaian tersebut.  Dengan demikian, saat perusahaan membayar sewa di bulan Januari 2024, perusahaan cukup mencatat beban sewa secara langsung tanpa perlu memperhitungkan sisa beban sewa dibayar di muka dari periode Desember 2023.\\n\\nPenting untuk diingat bahwa tidak semua jurnal penyesuaian perlu dibalik. Jurnal penyesuaian yang berkaitan dengan akun riil (misalnya, persediaan barang dagang dan piutang usaha) umumnya tidak perlu dibalik.\\n', additional_kwargs={}, response_metadata={'prompt_feedback': {'block_reason': 0, 'safety_ratings': []}, 'finish_reason': 'STOP', 'safety_ratings': []}, id='run-502e016f-06f4-49a4-9409-4a248040fa4c-0', usage_metadata={'input_tokens': 412, 'output_tokens': 547, 'total_tokens': 959, 'input_token_details': {'cache_read': 0}})]}}, 'thread_id': 42, 'step': 3, 'parents': {}}, created_at='2024-12-07T08:21:39.711046+00:00', parent_config={'configurable': {'thread_id': 42, 'checkpoint_ns': '', 'checkpoint_id': '1efb4744-1636-62a2-8002-2116b37e310e'}}, tasks=()),\n",
       " StateSnapshot(values={'messages': [HumanMessage(content='Apa itu laporan SAK ETAP dan jelaskan apa itu jurnal balik, gunakan tools', additional_kwargs={}, response_metadata={}, id='be7b1a32-060b-4b5e-8b4a-8cf400e3a690'), AIMessage(content='', additional_kwargs={'function_call': {'name': 'document_retrieve_tool', 'arguments': '{\"query\": \"Apa itu laporan SAK ETAP dan jelaskan apa itu jurnal balik\"}'}}, response_metadata={'prompt_feedback': {'block_reason': 0, 'safety_ratings': []}, 'finish_reason': 'STOP', 'safety_ratings': []}, id='run-b29bc4ac-39f5-45ba-9c76-68095878607d-0', tool_calls=[{'name': 'document_retrieve_tool', 'args': {'query': 'Apa itu laporan SAK ETAP dan jelaskan apa itu jurnal balik'}, 'id': '27a75345-c647-496e-b3d8-1995807de19e', 'type': 'tool_call'}], usage_metadata={'input_tokens': 72, 'output_tokens': 20, 'total_tokens': 92, 'input_token_details': {'cache_read': 0}}), ToolMessage(content=\"Source: {'source': 'material/buku%20pengantar%20akuntansi.pdf', 'page': 65}\\nContent: Pada pembahasan berikut kita hanya membahas tentang pembuatan Laporan Laba Rugi, \\nLaporan perubahan ekuitas dan Neraca/ Laporan Posisi Keuangan\\n\\nSource: {'source': 'material/buku%20pengantar%20akuntansi.pdf', 'page': 28}\\nContent: Dalam membuat jurnal umum, ada beberapa prinsip dasar yang perlu Anda perhatikan yaitu: \\n- Melakukan pengidentifikasian bukti transaksi keuangan yang dilakukan perusahaan. \\nContoh dari bukti transaksi antara lain faktur, kuitansi, nota, memo, dan sebagainya. \\n- Menentukan akun apa saja yang terpengaruh dengan transaksi yang terjadi dan \\nmenggolongkannya dalan jenis harta, utang, ataukah modal. \\n- Menetapkan penambahan atau pengurangan terhadap akun yang terkait dengan\\n\\nSource: {'source': 'material/buku%20pengantar%20akuntansi.pdf', 'page': 29}\\nContent: Dalam membuat jurnal umum, ada beberapa prinsip dasar yang perlu Anda perhatikan yaitu: \\n- Melakukan pengidentifikasian bukti transaksi keuangan yang dilakukan perusahaan. \\nContoh dari bukti transaksi antara lain faktur, kuitansi, nota, memo, dan sebagainya. \\n- Menentukan akun apa saja yang terpengaruh dengan transaksi yang terjadi dan \\nmenggolongkannya dalan jenis harta, utang, ataukah modal. \\n- Menetapkan penambahan atau pengurangan terhadap akun yang terkait dengan\", name='document_retrieve_tool', id='b8578dfc-86ce-43e3-802b-7134a44eab28', tool_call_id='27a75345-c647-496e-b3d8-1995807de19e', artifact=[{'id': None, 'metadata': {'source': 'material/buku%20pengantar%20akuntansi.pdf', 'page': 65}, 'page_content': 'Pada pembahasan berikut kita hanya membahas tentang pembuatan Laporan Laba Rugi, \\nLaporan perubahan ekuitas dan Neraca/ Laporan Posisi Keuangan', 'type': 'Document'}, {'id': None, 'metadata': {'source': 'material/buku%20pengantar%20akuntansi.pdf', 'page': 28}, 'page_content': 'Dalam membuat jurnal umum, ada beberapa prinsip dasar yang perlu Anda perhatikan yaitu: \\n- Melakukan pengidentifikasian bukti transaksi keuangan yang dilakukan perusahaan. \\nContoh dari bukti transaksi antara lain faktur, kuitansi, nota, memo, dan sebagainya. \\n- Menentukan akun apa saja yang terpengaruh dengan transaksi yang terjadi dan \\nmenggolongkannya dalan jenis harta, utang, ataukah modal. \\n- Menetapkan penambahan atau pengurangan terhadap akun yang terkait dengan', 'type': 'Document'}, {'id': None, 'metadata': {'source': 'material/buku%20pengantar%20akuntansi.pdf', 'page': 29}, 'page_content': 'Dalam membuat jurnal umum, ada beberapa prinsip dasar yang perlu Anda perhatikan yaitu: \\n- Melakukan pengidentifikasian bukti transaksi keuangan yang dilakukan perusahaan. \\nContoh dari bukti transaksi antara lain faktur, kuitansi, nota, memo, dan sebagainya. \\n- Menentukan akun apa saja yang terpengaruh dengan transaksi yang terjadi dan \\nmenggolongkannya dalan jenis harta, utang, ataukah modal. \\n- Menetapkan penambahan atau pengurangan terhadap akun yang terkait dengan', 'type': 'Document'}])]}, next=('generate',), config={'configurable': {'thread_id': 42, 'checkpoint_ns': '', 'checkpoint_id': '1efb4744-1636-62a2-8002-2116b37e310e'}}, metadata={'source': 'loop', 'writes': {'tools': {'messages': [ToolMessage(content=\"Source: {'source': 'material/buku%20pengantar%20akuntansi.pdf', 'page': 65}\\nContent: Pada pembahasan berikut kita hanya membahas tentang pembuatan Laporan Laba Rugi, \\nLaporan perubahan ekuitas dan Neraca/ Laporan Posisi Keuangan\\n\\nSource: {'source': 'material/buku%20pengantar%20akuntansi.pdf', 'page': 28}\\nContent: Dalam membuat jurnal umum, ada beberapa prinsip dasar yang perlu Anda perhatikan yaitu: \\n- Melakukan pengidentifikasian bukti transaksi keuangan yang dilakukan perusahaan. \\nContoh dari bukti transaksi antara lain faktur, kuitansi, nota, memo, dan sebagainya. \\n- Menentukan akun apa saja yang terpengaruh dengan transaksi yang terjadi dan \\nmenggolongkannya dalan jenis harta, utang, ataukah modal. \\n- Menetapkan penambahan atau pengurangan terhadap akun yang terkait dengan\\n\\nSource: {'source': 'material/buku%20pengantar%20akuntansi.pdf', 'page': 29}\\nContent: Dalam membuat jurnal umum, ada beberapa prinsip dasar yang perlu Anda perhatikan yaitu: \\n- Melakukan pengidentifikasian bukti transaksi keuangan yang dilakukan perusahaan. \\nContoh dari bukti transaksi antara lain faktur, kuitansi, nota, memo, dan sebagainya. \\n- Menentukan akun apa saja yang terpengaruh dengan transaksi yang terjadi dan \\nmenggolongkannya dalan jenis harta, utang, ataukah modal. \\n- Menetapkan penambahan atau pengurangan terhadap akun yang terkait dengan\", name='document_retrieve_tool', id='b8578dfc-86ce-43e3-802b-7134a44eab28', tool_call_id='27a75345-c647-496e-b3d8-1995807de19e', artifact=[{'id': None, 'metadata': {'source': 'material/buku%20pengantar%20akuntansi.pdf', 'page': 65}, 'page_content': 'Pada pembahasan berikut kita hanya membahas tentang pembuatan Laporan Laba Rugi, \\nLaporan perubahan ekuitas dan Neraca/ Laporan Posisi Keuangan', 'type': 'Document'}, {'id': None, 'metadata': {'source': 'material/buku%20pengantar%20akuntansi.pdf', 'page': 28}, 'page_content': 'Dalam membuat jurnal umum, ada beberapa prinsip dasar yang perlu Anda perhatikan yaitu: \\n- Melakukan pengidentifikasian bukti transaksi keuangan yang dilakukan perusahaan. \\nContoh dari bukti transaksi antara lain faktur, kuitansi, nota, memo, dan sebagainya. \\n- Menentukan akun apa saja yang terpengaruh dengan transaksi yang terjadi dan \\nmenggolongkannya dalan jenis harta, utang, ataukah modal. \\n- Menetapkan penambahan atau pengurangan terhadap akun yang terkait dengan', 'type': 'Document'}, {'id': None, 'metadata': {'source': 'material/buku%20pengantar%20akuntansi.pdf', 'page': 29}, 'page_content': 'Dalam membuat jurnal umum, ada beberapa prinsip dasar yang perlu Anda perhatikan yaitu: \\n- Melakukan pengidentifikasian bukti transaksi keuangan yang dilakukan perusahaan. \\nContoh dari bukti transaksi antara lain faktur, kuitansi, nota, memo, dan sebagainya. \\n- Menentukan akun apa saja yang terpengaruh dengan transaksi yang terjadi dan \\nmenggolongkannya dalan jenis harta, utang, ataukah modal. \\n- Menetapkan penambahan atau pengurangan terhadap akun yang terkait dengan', 'type': 'Document'}])]}}, 'thread_id': 42, 'step': 2, 'parents': {}}, created_at='2024-12-07T08:21:27.801275+00:00', parent_config={'configurable': {'thread_id': 42, 'checkpoint_ns': '', 'checkpoint_id': '1efb4744-0fe4-6340-8001-f77ffde88718'}}, tasks=(PregelTask(id='e2e2a3d6-d507-9b29-d4cf-0e1b38605dc5', name='generate', path=('__pregel_pull', 'generate'), error=None, interrupts=(), state=None, result={'messages': [AIMessage(content='Saya DesiAI, asisten AI yang ahli di bidang Akuntansi, Keuangan, dan Perbankan. Saya akan mencoba menjawab pertanyaan Anda.\\n\\nBerdasarkan informasi yang saya miliki, laporan SAK ETAP merujuk pada laporan keuangan yang disusun berdasarkan Standar Akuntansi Keuangan Entitas Tanpa Akuntabilitas Publik (SAK ETAP).  SAK ETAP adalah standar akuntansi yang disederhanakan dan ditujukan untuk entitas tanpa akuntabilitas publik.  Entitas tanpa akuntabilitas publik biasanya adalah usaha kecil dan menengah yang tidak memiliki kewajiban untuk melaporkan keuangannya kepada publik.  Laporan keuangan yang umum disusun berdasarkan SAK ETAP antara lain: Laporan Laba Rugi, Laporan Perubahan Ekuitas, dan Neraca (Laporan Posisi Keuangan).  Hal ini tertuang pada halaman 65 sumber yang Anda berikan.\\n\\nSayangnya, informasi yang Anda berikan tidak memuat penjelasan mengenai jurnal balik.  Oleh karena itu, saya akan menjelaskan berdasarkan pengetahuan saya.\\n\\n**Jurnal balik** adalah jurnal yang dibuat pada awal periode akuntansi untuk membalik jurnal penyesuaian tertentu yang telah dibuat pada akhir periode akuntansi sebelumnya.  Tujuannya adalah untuk menyederhanakan pencatatan transaksi pada periode berjalan.\\n\\nJurnal balik biasanya dibuat untuk jurnal penyesuaian yang berkaitan dengan:\\n\\n* **Akun nominal yang masih berlaku di periode berikutnya:**  Contohnya, beban dibayar di muka, pendapatan diterima di muka, dan penyusutan aktiva tetap.  Dengan jurnal balik, pencatatan transaksi terkait di periode berjalan menjadi lebih sederhana karena tidak perlu memperhitungkan saldo yang tersisa dari periode sebelumnya.\\n* **Akun yang berkaitan dengan estimasi:** Contohnya, penyusutan aktiva tetap dan beban piutang tak tertagih.  Jurnal balik membantu menyederhanakan pencatatan transaksi terkait estimasi di periode berjalan.\\n\\n**Contoh:**\\n\\nMisalnya, pada akhir periode Desember 2023, perusahaan telah membuat jurnal penyesuaian untuk beban sewa dibayar di muka.  Pada awal periode Januari 2024, perusahaan dapat membuat jurnal balik untuk jurnal penyesuaian tersebut.  Dengan demikian, saat perusahaan membayar sewa di bulan Januari 2024, perusahaan cukup mencatat beban sewa secara langsung tanpa perlu memperhitungkan sisa beban sewa dibayar di muka dari periode Desember 2023.\\n\\nPenting untuk diingat bahwa tidak semua jurnal penyesuaian perlu dibalik. Jurnal penyesuaian yang berkaitan dengan akun riil (misalnya, persediaan barang dagang dan piutang usaha) umumnya tidak perlu dibalik.\\n', additional_kwargs={}, response_metadata={'prompt_feedback': {'block_reason': 0, 'safety_ratings': []}, 'finish_reason': 'STOP', 'safety_ratings': []}, id='run-502e016f-06f4-49a4-9409-4a248040fa4c-0', usage_metadata={'input_tokens': 412, 'output_tokens': 547, 'total_tokens': 959, 'input_token_details': {'cache_read': 0}})]}),)),\n",
       " StateSnapshot(values={'messages': [HumanMessage(content='Apa itu laporan SAK ETAP dan jelaskan apa itu jurnal balik, gunakan tools', additional_kwargs={}, response_metadata={}, id='be7b1a32-060b-4b5e-8b4a-8cf400e3a690'), AIMessage(content='', additional_kwargs={'function_call': {'name': 'document_retrieve_tool', 'arguments': '{\"query\": \"Apa itu laporan SAK ETAP dan jelaskan apa itu jurnal balik\"}'}}, response_metadata={'prompt_feedback': {'block_reason': 0, 'safety_ratings': []}, 'finish_reason': 'STOP', 'safety_ratings': []}, id='run-b29bc4ac-39f5-45ba-9c76-68095878607d-0', tool_calls=[{'name': 'document_retrieve_tool', 'args': {'query': 'Apa itu laporan SAK ETAP dan jelaskan apa itu jurnal balik'}, 'id': '27a75345-c647-496e-b3d8-1995807de19e', 'type': 'tool_call'}], usage_metadata={'input_tokens': 72, 'output_tokens': 20, 'total_tokens': 92, 'input_token_details': {'cache_read': 0}})]}, next=('tools',), config={'configurable': {'thread_id': 42, 'checkpoint_ns': '', 'checkpoint_id': '1efb4744-0fe4-6340-8001-f77ffde88718'}}, metadata={'source': 'loop', 'writes': {'retrieve_or_respon': {'messages': [AIMessage(content='', additional_kwargs={'function_call': {'name': 'document_retrieve_tool', 'arguments': '{\"query\": \"Apa itu laporan SAK ETAP dan jelaskan apa itu jurnal balik\"}'}}, response_metadata={'prompt_feedback': {'block_reason': 0, 'safety_ratings': []}, 'finish_reason': 'STOP', 'safety_ratings': []}, id='run-b29bc4ac-39f5-45ba-9c76-68095878607d-0', tool_calls=[{'name': 'document_retrieve_tool', 'args': {'query': 'Apa itu laporan SAK ETAP dan jelaskan apa itu jurnal balik'}, 'id': '27a75345-c647-496e-b3d8-1995807de19e', 'type': 'tool_call'}], usage_metadata={'input_tokens': 72, 'output_tokens': 20, 'total_tokens': 92, 'input_token_details': {'cache_read': 0}})]}}, 'thread_id': 42, 'step': 1, 'parents': {}}, created_at='2024-12-07T08:21:27.138565+00:00', parent_config={'configurable': {'thread_id': 42, 'checkpoint_ns': '', 'checkpoint_id': '1efb4743-fff5-6cc2-8000-8034f61c03d2'}}, tasks=(PregelTask(id='774e8c2e-c822-2a49-8e71-ab1498d5d898', name='tools', path=('__pregel_pull', 'tools'), error=None, interrupts=(), state=None, result={'messages': [ToolMessage(content=\"Source: {'source': 'material/buku%20pengantar%20akuntansi.pdf', 'page': 65}\\nContent: Pada pembahasan berikut kita hanya membahas tentang pembuatan Laporan Laba Rugi, \\nLaporan perubahan ekuitas dan Neraca/ Laporan Posisi Keuangan\\n\\nSource: {'source': 'material/buku%20pengantar%20akuntansi.pdf', 'page': 28}\\nContent: Dalam membuat jurnal umum, ada beberapa prinsip dasar yang perlu Anda perhatikan yaitu: \\n- Melakukan pengidentifikasian bukti transaksi keuangan yang dilakukan perusahaan. \\nContoh dari bukti transaksi antara lain faktur, kuitansi, nota, memo, dan sebagainya. \\n- Menentukan akun apa saja yang terpengaruh dengan transaksi yang terjadi dan \\nmenggolongkannya dalan jenis harta, utang, ataukah modal. \\n- Menetapkan penambahan atau pengurangan terhadap akun yang terkait dengan\\n\\nSource: {'source': 'material/buku%20pengantar%20akuntansi.pdf', 'page': 29}\\nContent: Dalam membuat jurnal umum, ada beberapa prinsip dasar yang perlu Anda perhatikan yaitu: \\n- Melakukan pengidentifikasian bukti transaksi keuangan yang dilakukan perusahaan. \\nContoh dari bukti transaksi antara lain faktur, kuitansi, nota, memo, dan sebagainya. \\n- Menentukan akun apa saja yang terpengaruh dengan transaksi yang terjadi dan \\nmenggolongkannya dalan jenis harta, utang, ataukah modal. \\n- Menetapkan penambahan atau pengurangan terhadap akun yang terkait dengan\", name='document_retrieve_tool', tool_call_id='27a75345-c647-496e-b3d8-1995807de19e', artifact=[{'id': None, 'metadata': {'source': 'material/buku%20pengantar%20akuntansi.pdf', 'page': 65}, 'page_content': 'Pada pembahasan berikut kita hanya membahas tentang pembuatan Laporan Laba Rugi, \\nLaporan perubahan ekuitas dan Neraca/ Laporan Posisi Keuangan', 'type': 'Document'}, {'id': None, 'metadata': {'source': 'material/buku%20pengantar%20akuntansi.pdf', 'page': 28}, 'page_content': 'Dalam membuat jurnal umum, ada beberapa prinsip dasar yang perlu Anda perhatikan yaitu: \\n- Melakukan pengidentifikasian bukti transaksi keuangan yang dilakukan perusahaan. \\nContoh dari bukti transaksi antara lain faktur, kuitansi, nota, memo, dan sebagainya. \\n- Menentukan akun apa saja yang terpengaruh dengan transaksi yang terjadi dan \\nmenggolongkannya dalan jenis harta, utang, ataukah modal. \\n- Menetapkan penambahan atau pengurangan terhadap akun yang terkait dengan', 'type': 'Document'}, {'id': None, 'metadata': {'source': 'material/buku%20pengantar%20akuntansi.pdf', 'page': 29}, 'page_content': 'Dalam membuat jurnal umum, ada beberapa prinsip dasar yang perlu Anda perhatikan yaitu: \\n- Melakukan pengidentifikasian bukti transaksi keuangan yang dilakukan perusahaan. \\nContoh dari bukti transaksi antara lain faktur, kuitansi, nota, memo, dan sebagainya. \\n- Menentukan akun apa saja yang terpengaruh dengan transaksi yang terjadi dan \\nmenggolongkannya dalan jenis harta, utang, ataukah modal. \\n- Menetapkan penambahan atau pengurangan terhadap akun yang terkait dengan', 'type': 'Document'}])]}),)),\n",
       " StateSnapshot(values={'messages': [HumanMessage(content='Apa itu laporan SAK ETAP dan jelaskan apa itu jurnal balik, gunakan tools', additional_kwargs={}, response_metadata={}, id='be7b1a32-060b-4b5e-8b4a-8cf400e3a690')]}, next=('retrieve_or_respon',), config={'configurable': {'thread_id': 42, 'checkpoint_ns': '', 'checkpoint_id': '1efb4743-fff5-6cc2-8000-8034f61c03d2'}}, metadata={'source': 'loop', 'writes': None, 'thread_id': 42, 'step': 0, 'parents': {}}, created_at='2024-12-07T08:21:25.468058+00:00', parent_config={'configurable': {'thread_id': 42, 'checkpoint_ns': '', 'checkpoint_id': '1efb4743-ffeb-69ac-bfff-185dfb805e19'}}, tasks=(PregelTask(id='8d40b48c-1d6e-9ee0-d4d2-67d213818bf6', name='retrieve_or_respon', path=('__pregel_pull', 'retrieve_or_respon'), error=None, interrupts=(), state=None, result={'messages': [AIMessage(content='', additional_kwargs={'function_call': {'name': 'document_retrieve_tool', 'arguments': '{\"query\": \"Apa itu laporan SAK ETAP dan jelaskan apa itu jurnal balik\"}'}}, response_metadata={'prompt_feedback': {'block_reason': 0, 'safety_ratings': []}, 'finish_reason': 'STOP', 'safety_ratings': []}, id='run-b29bc4ac-39f5-45ba-9c76-68095878607d-0', tool_calls=[{'name': 'document_retrieve_tool', 'args': {'query': 'Apa itu laporan SAK ETAP dan jelaskan apa itu jurnal balik'}, 'id': '27a75345-c647-496e-b3d8-1995807de19e', 'type': 'tool_call'}], usage_metadata={'input_tokens': 72, 'output_tokens': 20, 'total_tokens': 92, 'input_token_details': {'cache_read': 0}})]}),)),\n",
       " StateSnapshot(values={'messages': []}, next=('__start__',), config={'configurable': {'thread_id': 42, 'checkpoint_ns': '', 'checkpoint_id': '1efb4743-ffeb-69ac-bfff-185dfb805e19'}}, metadata={'source': 'input', 'writes': {'__start__': {'messages': [HumanMessage(content='Apa itu laporan SAK ETAP dan jelaskan apa itu jurnal balik, gunakan tools', additional_kwargs={}, response_metadata={})]}}, 'thread_id': 42, 'step': -1, 'parents': {}}, created_at='2024-12-07T08:21:25.463887+00:00', parent_config=None, tasks=(PregelTask(id='4a4cf443-350a-cce2-b363-be063eed29b6', name='__start__', path=('__pregel_pull', '__start__'), error=None, interrupts=(), state=None, result={'messages': [HumanMessage(content='Apa itu laporan SAK ETAP dan jelaskan apa itu jurnal balik, gunakan tools', additional_kwargs={}, response_metadata={})]}),))]"
      ]
     },
     "execution_count": 35,
     "metadata": {},
     "output_type": "execute_result"
    }
   ],
   "source": [
    "list(graph.get_state_history(config={\"configurable\": {\"thread_id\": 42}}))"
   ]
  },
  {
   "cell_type": "code",
   "execution_count": null,
   "metadata": {},
   "outputs": [
    {
     "name": "stdout",
     "output_type": "stream",
     "text": [
      "================================\u001b[1m Human Message \u001b[0m=================================\n",
      "\n",
      "Jelaskan apa itu neraca laba?\n",
      "[]\n",
      "==================================\u001b[1m Ai Message \u001b[0m==================================\n",
      "\n",
      "Istilah \"neraca laba\" sebenarnya tidak tepat.  Yang benar adalah **Laporan Laba Rugi** atau ada juga yang menyebutnya **Laporan Perhitungan Laba Rugi**.  Kadang-kadang, laporan ini digabung dengan laporan perubahan ekuitas menjadi satu laporan yang disebut **Laporan Laba Rugi dan Perubahan Ekuitas**.\n",
      "\n",
      "Laporan Laba Rugi (atau Laporan Perhitungan Laba Rugi) melaporkan kinerja keuangan suatu perusahaan selama periode tertentu, biasanya satu tahun buku atau satu kuartal.  Laporan ini menunjukkan:\n",
      "\n",
      "* **Pendapatan:**  Jumlah uang yang dihasilkan perusahaan dari penjualan barang atau jasa, serta pendapatan lain-lain.\n",
      "* **Beban:** Biaya-biaya yang dikeluarkan perusahaan untuk menghasilkan pendapatan, seperti biaya bahan baku, gaji karyawan, biaya pemasaran, penyusutan, dan lain-lain.\n",
      "* **Laba (atau Rugi):** Selisih antara pendapatan dan beban. Jika pendapatan lebih besar dari beban, maka perusahaan memperoleh laba. Sebaliknya, jika beban lebih besar dari pendapatan, maka perusahaan mengalami rugi.\n",
      "\n",
      "**Komponen utama Laporan Laba Rugi:**\n",
      "\n",
      "* **Pendapatan:**  Bisa berupa pendapatan usaha (dari aktivitas utama perusahaan) dan pendapatan non-usaha (dari aktivitas di luar usaha utama).\n",
      "* **Beban Pokok Penjualan (HPP/Cost of Goods Sold - COGS):**  Biaya langsung yang terkait dengan produksi barang yang dijual. (Hanya berlaku untuk perusahaan manufaktur atau dagang).\n",
      "* **Laba Kotor (Gross Profit):** Selisih antara pendapatan dan HPP.\n",
      "* **Beban Usaha:** Biaya-biaya operasional perusahaan, seperti gaji, sewa, utilitas, dan pemasaran.\n",
      "* **Laba Usaha (Operating Income):** Selisih antara laba kotor dan beban usaha.\n",
      "* **Beban Lain-Lain:** Beban yang tidak terkait langsung dengan operasi utama perusahaan, seperti beban bunga dan kerugian penjualan aset.\n",
      "* **Pendapatan Lain-Lain:** Pendapatan yang tidak terkait langsung dengan operasi utama perusahaan, seperti pendapatan bunga dan keuntungan penjualan aset.\n",
      "* **Laba Sebelum Pajak:** Laba usaha ditambah pendapatan lain-lain dikurangi beban lain-lain.\n",
      "* **Beban Pajak:** Pajak penghasilan yang harus dibayar perusahaan.\n",
      "* **Laba Bersih (Net Income/Net Profit):** Laba setelah dikurangi beban pajak. Ini adalah \"bottom line\" dari laporan laba rugi.\n",
      "\n",
      "Singkatnya, Laporan Laba Rugi menunjukkan seberapa efisien dan efektif perusahaan dalam menghasilkan laba selama periode tertentu. Ini adalah informasi penting bagi investor, kreditor, dan pihak-pihak lain yang berkepentingan untuk menilai kinerja dan prospek perusahaan.\n"
     ]
    }
   ],
   "source": [
    "input_message = \"Jelaskan apa itu neraca laba?\"\n",
    "\n",
    "for step in graph.stream(\n",
    "    {\"messages\": [{\"role\": \"human\", \"content\": input_message}]},\n",
    "    stream_mode=\"values\",\n",
    "    config=config\n",
    "):\n",
    "    step[\"messages\"][-1].pretty_print()"
   ]
  },
  {
   "cell_type": "code",
   "execution_count": null,
   "metadata": {},
   "outputs": [
    {
     "name": "stdout",
     "output_type": "stream",
     "text": [
      "================================\u001b[1m Human Message \u001b[0m=================================\n",
      "\n",
      "apa itu jurnal balik? gunakan tools\n",
      "[{'name': 'document_retrieve_tool', 'args': {'query': 'jurnal balik adalah'}, 'id': '194b66e8-2855-4edf-861f-000b8483e127', 'type': 'tool_call'}]\n",
      "==================================\u001b[1m Ai Message \u001b[0m==================================\n",
      "Tool Calls:\n",
      "  document_retrieve_tool (194b66e8-2855-4edf-861f-000b8483e127)\n",
      " Call ID: 194b66e8-2855-4edf-861f-000b8483e127\n",
      "  Args:\n",
      "    query: jurnal balik adalah\n",
      "=================================\u001b[1m Tool Message \u001b[0m=================================\n",
      "Name: document_retrieve_tool\n",
      "\n",
      "\n",
      "[HumanMessage(content='apa itu laporan SAK ETAP?', additional_kwargs={}, response_metadata={}, id='63f9451f-3950-49d6-bcff-ab75b07e8f2f'), AIMessage(content='Laporan SAK ETAP adalah laporan keuangan yang disusun berdasarkan Standar Akuntansi Keuangan Entitas Tanpa Akuntabilitas Publik (SAK ETAP). SAK ETAP merupakan standar akuntansi yang berlaku di Indonesia untuk entitas tanpa akuntabilitas publik. Entitas tanpa akuntabilitas publik adalah entitas yang tidak memiliki kewajiban untuk melaporkan keuangannya kepada publik.  SAK ETAP lebih sederhana dibandingkan dengan Standar Akuntansi Keuangan (SAK) yang berlaku umum.\\n\\nTujuan SAK ETAP adalah untuk menyediakan informasi yang relevan dan andal bagi pengguna laporan keuangan dalam menilai kinerja keuangan dan posisi keuangan entitas. Laporan keuangan yang disusun berdasarkan SAK ETAP terdiri dari:\\n\\n* Laporan Posisi Keuangan (Neraca)\\n* Laporan Laba Rugi\\n* Laporan Perubahan Ekuitas\\n* Laporan Arus Kas\\n* Catatan atas Laporan Keuangan\\n', additional_kwargs={'function_call': {'name': 'document_retrieve_tool', 'arguments': '{\"query\": \"SAK ETAP\"}'}}, response_metadata={'prompt_feedback': {'block_reason': 0, 'safety_ratings': []}, 'finish_reason': 'STOP', 'safety_ratings': []}, id='run-fb267a14-d30b-4484-9faa-a3a4ef3a9f35-0', tool_calls=[{'name': 'document_retrieve_tool', 'args': {'query': 'SAK ETAP'}, 'id': '40c17f17-8274-48f3-8e69-d77fa081d3ce', 'type': 'tool_call'}], usage_metadata={'input_tokens': 62, 'output_tokens': 193, 'total_tokens': 255, 'input_token_details': {'cache_read': 0}}), ToolMessage(content='', name='document_retrieve_tool', id='ccad1ecf-03b0-4354-86fa-c776d1b882fd', tool_call_id='40c17f17-8274-48f3-8e69-d77fa081d3ce', artifact=[]), AIMessage(content='Laporan Standar Akuntansi Keuangan Entitas Tanpa Akuntabilitas Publik (SAK ETAP) adalah laporan keuangan yang disusun berdasarkan kerangka standar akuntansi yang lebih sederhana dibandingkan dengan Standar Akuntansi Keuangan (SAK) umum.  SAK ETAP dirancang khusus untuk Entitas Tanpa Akuntabilitas Publik (ETAP).\\n\\n**Entitas Tanpa Akuntabilitas Publik (ETAP)** adalah entitas yang:\\n\\n* **Tidak memiliki akuntabilitas publik.**  Artinya, entitas tersebut tidak menerbitkan efek (saham, obligasi, dll.) yang diperdagangkan di pasar modal, atau entitas yang tidak memegang dana dari masyarakat luas dalam kapasitas sebagai wali amanat.\\n* **Memenuhi kriteria tertentu yang ditetapkan oleh Dewan Standar Akuntansi Keuangan (DSAK).**\\n\\n**Tujuan SAK ETAP:**\\n\\nSAK ETAP bertujuan untuk menyederhanakan proses penyusunan laporan keuangan bagi ETAP dengan tetap mempertahankan kualitas dan relevansi informasi yang disajikan.  Penyederhanaan ini mengurangi beban biaya dan administratif bagi ETAP, sekaligus memudahkan pengguna laporan keuangan dalam memahami kondisi keuangan entitas.\\n\\n**Perbedaan utama SAK ETAP dengan SAK umum:**\\n\\nSAK ETAP lebih sederhana daripada SAK umum. Beberapa penyederhanaan tersebut antara lain:\\n\\n* **Pengakuan dan pengukuran yang lebih sederhana:**  Beberapa standar dalam SAK ETAP lebih ringkas dan tidak memerlukan perhitungan atau pengungkapan yang serumit SAK umum.\\n* **Lebih sedikit pengungkapan:** SAK ETAP mensyaratkan pengungkapan yang lebih sedikit dibandingkan dengan SAK umum, sehingga mengurangi beban administratif bagi ETAP.\\n* **Tidak ada pernyataan arus kas:** ETAP tidak diwajibkan untuk menyusun laporan arus kas.\\n* **Terminologi yang disederhanakan:**  Beberapa istilah dalam SAK ETAP disederhanakan agar lebih mudah dipahami.\\n\\n**Komponen Laporan Keuangan SAK ETAP:**\\n\\nLaporan keuangan yang disusun berdasarkan SAK ETAP umumnya terdiri dari:\\n\\n* **Laporan Posisi Keuangan (Neraca):** Menunjukkan aset, liabilitas, dan ekuitas entitas pada tanggal tertentu.\\n* **Laporan Laba Rugi:** Menunjukkan pendapatan, beban, dan laba/rugi entitas selama periode tertentu.\\n* **Laporan Perubahan Ekuitas:** Menunjukkan perubahan ekuitas entitas selama periode tertentu.\\n* **Catatan atas Laporan Keuangan:** Memberikan penjelasan tambahan atas informasi yang disajikan dalam laporan keuangan.\\n\\n**Kesimpulan:**\\n\\nSAK ETAP menyediakan kerangka kerja pelaporan keuangan yang lebih sederhana dan efisien bagi ETAP.  Meskipun lebih sederhana, SAK ETAP tetap memastikan bahwa laporan keuangan yang dihasilkan relevan dan dapat diandalkan untuk pengambilan keputusan oleh pengguna.  Penting bagi entitas untuk menentukan apakah mereka memenuhi kriteria sebagai ETAP dan apakah mereka diizinkan untuk menggunakan SAK ETAP dalam penyusunan laporan keuangan mereka.\\n', additional_kwargs={}, response_metadata={'prompt_feedback': {'block_reason': 0, 'safety_ratings': []}, 'finish_reason': 'STOP', 'safety_ratings': []}, id='run-04a5efab-444b-4cd8-9e0c-7e6f6e7aa27d-0', usage_metadata={'input_tokens': 58, 'output_tokens': 606, 'total_tokens': 664, 'input_token_details': {'cache_read': 0}}), HumanMessage(content='saya tadi bertanya apa?', additional_kwargs={}, response_metadata={}, id='d19cb640-d5fc-478f-91a2-3d1981c0ba25'), AIMessage(content='Anda bertanya, \"apa itu laporan SAK ETAP?\".\\n', additional_kwargs={}, response_metadata={'prompt_feedback': {'block_reason': 0, 'safety_ratings': []}, 'finish_reason': 'STOP', 'safety_ratings': []}, id='run-2d646635-ebf2-47dd-9e0c-d42e40b02df0-0', usage_metadata={'input_tokens': 712, 'output_tokens': 12, 'total_tokens': 724, 'input_token_details': {'cache_read': 0}}), HumanMessage(content='Jelaskan apa itu neraca laba?', additional_kwargs={}, response_metadata={}, id='e502a8a3-ea9a-44f2-8d35-6a274ad73d52'), AIMessage(content='Istilah \"neraca laba\" sebenarnya tidak tepat.  Yang benar adalah **Laporan Laba Rugi** atau ada juga yang menyebutnya **Laporan Perhitungan Laba Rugi**.  Kadang-kadang, laporan ini digabung dengan laporan perubahan ekuitas menjadi satu laporan yang disebut **Laporan Laba Rugi dan Perubahan Ekuitas**.\\n\\nLaporan Laba Rugi (atau Laporan Perhitungan Laba Rugi) melaporkan kinerja keuangan suatu perusahaan selama periode tertentu, biasanya satu tahun buku atau satu kuartal.  Laporan ini menunjukkan:\\n\\n* **Pendapatan:**  Jumlah uang yang dihasilkan perusahaan dari penjualan barang atau jasa, serta pendapatan lain-lain.\\n* **Beban:** Biaya-biaya yang dikeluarkan perusahaan untuk menghasilkan pendapatan, seperti biaya bahan baku, gaji karyawan, biaya pemasaran, penyusutan, dan lain-lain.\\n* **Laba (atau Rugi):** Selisih antara pendapatan dan beban. Jika pendapatan lebih besar dari beban, maka perusahaan memperoleh laba. Sebaliknya, jika beban lebih besar dari pendapatan, maka perusahaan mengalami rugi.\\n\\n**Komponen utama Laporan Laba Rugi:**\\n\\n* **Pendapatan:**  Bisa berupa pendapatan usaha (dari aktivitas utama perusahaan) dan pendapatan non-usaha (dari aktivitas di luar usaha utama).\\n* **Beban Pokok Penjualan (HPP/Cost of Goods Sold - COGS):**  Biaya langsung yang terkait dengan produksi barang yang dijual. (Hanya berlaku untuk perusahaan manufaktur atau dagang).\\n* **Laba Kotor (Gross Profit):** Selisih antara pendapatan dan HPP.\\n* **Beban Usaha:** Biaya-biaya operasional perusahaan, seperti gaji, sewa, utilitas, dan pemasaran.\\n* **Laba Usaha (Operating Income):** Selisih antara laba kotor dan beban usaha.\\n* **Beban Lain-Lain:** Beban yang tidak terkait langsung dengan operasi utama perusahaan, seperti beban bunga dan kerugian penjualan aset.\\n* **Pendapatan Lain-Lain:** Pendapatan yang tidak terkait langsung dengan operasi utama perusahaan, seperti pendapatan bunga dan keuntungan penjualan aset.\\n* **Laba Sebelum Pajak:** Laba usaha ditambah pendapatan lain-lain dikurangi beban lain-lain.\\n* **Beban Pajak:** Pajak penghasilan yang harus dibayar perusahaan.\\n* **Laba Bersih (Net Income/Net Profit):** Laba setelah dikurangi beban pajak. Ini adalah \"bottom line\" dari laporan laba rugi.\\n\\nSingkatnya, Laporan Laba Rugi menunjukkan seberapa efisien dan efektif perusahaan dalam menghasilkan laba selama periode tertentu. Ini adalah informasi penting bagi investor, kreditor, dan pihak-pihak lain yang berkepentingan untuk menilai kinerja dan prospek perusahaan.\\n', additional_kwargs={}, response_metadata={'prompt_feedback': {'block_reason': 0, 'safety_ratings': []}, 'finish_reason': 'STOP', 'safety_ratings': []}, id='run-bce1286e-2b97-457a-8895-8c9c6a8a29b3-0', usage_metadata={'input_tokens': 734, 'output_tokens': 565, 'total_tokens': 1299, 'input_token_details': {'cache_read': 0}}), HumanMessage(content='apa itu jurnal balik menurut context pada buku?', additional_kwargs={}, response_metadata={}, id='f9b3aa9a-0d1b-4452-8249-5b8a6853d70a'), AIMessage(content='Saya tidak memiliki akses ke buku atau konteks spesifik yang Anda maksud.  Oleh karena itu, saya akan menjelaskan pengertian jurnal balik secara umum.\\n\\nJurnal balik adalah jurnal yang dibuat pada awal periode akuntansi untuk membalik atau  mengoreksi ayat jurnal penyesuaian yang dibuat pada akhir periode akuntansi sebelumnya. Jurnal balik  dibuat untuk ayat jurnal penyesuaian yang bersifat akrual dan deferral.  Tujuan utama pembuatan jurnal balik adalah untuk menyederhanakan pencatatan transaksi pada periode berjalan.\\n\\n**Mengapa Jurnal Balik Diperlukan?**\\n\\nBeberapa ayat jurnal penyesuaian mempengaruhi akun neraca dan akun laba rugi.  Tanpa jurnal balik, pencatatan transaksi pada periode berikutnya bisa menjadi rumit karena kita harus mempertimbangkan saldo yang telah disesuaikan.  Jurnal balik membantu mengembalikan saldo akun-akun tertentu ke posisi semula, sehingga pencatatan transaksi rutin di periode berikutnya dapat dilakukan seperti biasa.\\n\\n**Jenis Ayat Jurnal Penyesuaian yang Biasanya Dibalik:**\\n\\n* **Pendapatan Diterima Dimuka (Unearned Revenue):**  Ketika sebagian pendapatan diterima di muka telah menjadi pendapatan di periode berjalan.\\n* **Beban Dibayar Dimuka (Prepaid Expenses):** Ketika sebagian beban dibayar di muka telah menjadi beban di periode berjalan.\\n* **Piutang Pendapatan (Accrued Revenue):** Pendapatan yang sudah menjadi hak tetapi belum diterima pembayarannya. Jurnal balik piutang pendapatan biasanya tidak dibuat, karena dianggap merepotkan dan kurang efisien.\\n* **Beban yang Masih Harus Dibayar (Accrued Expenses):** Beban yang sudah menjadi kewajiban tetapi belum dibayarkan. Jurnal balik beban yang masih harus dibayar biasanya tidak dibuat, karena dianggap merepotkan dan kurang efisien.\\n\\n**Contoh:**\\n\\nMisalnya, pada akhir periode Desember 2023, perusahaan telah menerima pembayaran sewa di muka untuk bulan Januari 2024 sebesar Rp 1.200.000. Jurnal penyesuaiannya adalah:\\n\\n* Debit Kas: Rp 1.200.000\\n* Kredit Pendapatan Sewa Diterima Dimuka: Rp 1.200.000\\n\\nPada awal periode Januari 2024, jurnal balik yang dibuat adalah:\\n\\n* Debit Pendapatan Sewa Diterima Dimuka: Rp 1.200.000\\n* Kredit Kas: Rp 1.200.000\\n\\nDengan adanya jurnal balik ini, ketika perusahaan mengakui pendapatan sewa di bulan Januari 2024, pencatatannya menjadi lebih sederhana, yaitu:\\n\\n* Debit Kas/Piutang: Rp 1.200.000\\n* Kredit Pendapatan Sewa: Rp 1.200.000\\n\\n**Penting untuk diingat:**\\n\\n* Tidak semua ayat jurnal penyesuaian perlu dibalik.\\n* Jurnal balik dibuat pada awal periode akuntansi berikutnya.\\n* Jurnal balik tidak mengubah informasi yang disajikan dalam laporan keuangan.  Tujuannya hanya untuk menyederhanakan pencatatan transaksi rutin.\\n\\nSemoga penjelasan ini bermanfaat!  Jika Anda memiliki konteks spesifik dari suatu buku, mohon berikan detailnya agar saya bisa memberikan penjelasan yang lebih tepat.\\n', additional_kwargs={}, response_metadata={'prompt_feedback': {'block_reason': 0, 'safety_ratings': []}, 'finish_reason': 'STOP', 'safety_ratings': []}, id='run-4ff8b929-a88b-4861-8309-34ca0ac56c71-0', usage_metadata={'input_tokens': 1311, 'output_tokens': 690, 'total_tokens': 2001, 'input_token_details': {'cache_read': 0}}), HumanMessage(content='apa itu jurnal balik?', additional_kwargs={}, response_metadata={}, id='360a1e6f-57c2-4f71-9ea1-0d375a800f5c'), AIMessage(content='Jurnal balik adalah jurnal yang dibuat pada awal periode akuntansi untuk membalik atau mengoreksi ayat jurnal penyesuaian tertentu yang dibuat pada akhir periode akuntansi sebelumnya.  Tujuan utama jurnal balik adalah untuk menyederhanakan pencatatan transaksi pada periode berjalan.\\n\\n**Mengapa Jurnal Balik Diperlukan?**\\n\\nBeberapa ayat jurnal penyesuaian memengaruhi akun neraca dan akun laba rugi. Tanpa jurnal balik, pencatatan transaksi pada periode berikutnya bisa menjadi rumit karena kita harus mempertimbangkan saldo yang telah disesuaikan. Jurnal balik membantu mengembalikan saldo akun-akun tertentu ke posisi semula, sehingga pencatatan transaksi rutin di periode berikutnya dapat dilakukan seperti biasa, seolah-olah penyesuaian belum dibuat.\\n\\n**Jenis Ayat Jurnal Penyesuaian yang Biasanya Dibalik:**\\n\\n* **Pendapatan Diterima Dimuka (Unearned Revenue):**  Ketika sebagian pendapatan diterima di muka telah menjadi pendapatan di periode berjalan.\\n* **Beban Dibayar Dimuka (Prepaid Expenses):** Ketika sebagian beban dibayar di muka telah menjadi beban di periode berjalan.\\n\\n**Ayat Jurnal Penyesuaian yang Biasanya *Tidak* Dibalik:**\\n\\n* **Piutang Pendapatan (Accrued Revenue):**  Meskipun dimungkinkan untuk membuat jurnal balik, umumnya tidak dilakukan karena dianggap merepotkan dan kurang efisien.\\n* **Beban yang Masih Harus Dibayar (Accrued Expenses):** Sama seperti piutang pendapatan, jurnal balik untuk beban yang masih harus dibayar biasanya tidak dibuat.\\n\\n**Contoh:**\\n\\nBayangkan sebuah perusahaan menerima pembayaran sewa di muka untuk bulan Januari 2024 sebesar Rp 1.200.000 pada bulan Desember 2023.  Berikut ilustrasinya:\\n\\n* **Desember 2023 (Jurnal Penyesuaian):**\\n    * Debit Kas: Rp 1.200.000\\n    * Kredit Pendapatan Sewa Diterima Dimuka: Rp 1.200.000\\n\\n* **Januari 2024 (Jurnal Balik):**\\n    * Debit Pendapatan Sewa Diterima Dimuka: Rp 1.200.000\\n    * Kredit Kas: Rp 1.200.000\\n\\n* **Januari 2024 (Jurnal Saat Pendapatan Diakui):**\\n    * Debit Kas/Piutang: Rp 1.200.000\\n    * Kredit Pendapatan Sewa: Rp 1.200.000\\n\\nDengan jurnal balik, pencatatan pendapatan sewa di bulan Januari menjadi lebih sederhana.  Tanpa jurnal balik, kita harus mengurangi saldo Pendapatan Sewa Diterima Dimuka dan mengakui pendapatan sewa.\\n\\n**Penting untuk diingat:**\\n\\n* Jurnal balik dibuat pada *awal* periode akuntansi berikutnya.\\n* Jurnal balik *tidak* mengubah saldo akhir dalam laporan keuangan.  Tujuannya hanya untuk menyederhanakan pencatatan.\\n\\n\\n', additional_kwargs={}, response_metadata={'prompt_feedback': {'block_reason': 0, 'safety_ratings': []}, 'finish_reason': 'STOP', 'safety_ratings': []}, id='run-14c3176f-36b3-49ee-8786-2657755d30a9-0', usage_metadata={'input_tokens': 2009, 'output_tokens': 643, 'total_tokens': 2652, 'input_token_details': {'cache_read': 0}}), HumanMessage(content='apa itu jurnal balik? gunakan tools', additional_kwargs={}, response_metadata={}, id='9ec6e8ce-f9c2-48b6-ab39-ad0b640cc77c'), AIMessage(content='', additional_kwargs={'function_call': {'name': 'document_retrieve_tool', 'arguments': '{\"query\": \"jurnal balik adalah\"}'}}, response_metadata={'prompt_feedback': {'block_reason': 0, 'safety_ratings': []}, 'finish_reason': 'STOP', 'safety_ratings': []}, id='run-30883040-b36f-420a-95b1-c2abd77d2d28-0', tool_calls=[{'name': 'document_retrieve_tool', 'args': {'query': 'jurnal balik adalah'}, 'id': '194b66e8-2855-4edf-861f-000b8483e127', 'type': 'tool_call'}], usage_metadata={'input_tokens': 2662, 'output_tokens': 10, 'total_tokens': 2672, 'input_token_details': {'cache_read': 0}}), ToolMessage(content='', name='document_retrieve_tool', id='b1d077a1-77c8-4ee6-962e-e7e68d9929ad', tool_call_id='194b66e8-2855-4edf-861f-000b8483e127', artifact=[])]\n",
      "[SystemMessage(content='Kamu merupakan asisten AI bernama DesiAI yang ahli dalam bidang Akuntansi,Finansial dan Perbankan. Gunakanlah Tools Retrieve untuk mencari informasi berdasarkan dari query yang diberikan. Kombinasikan pengetahuanmu dengan informasi yang diberikan agar menghasilkan jawaban yang akurat.\\n\\n\\n\\n', additional_kwargs={}, response_metadata={}), HumanMessage(content='apa itu laporan SAK ETAP?', additional_kwargs={}, response_metadata={}, id='63f9451f-3950-49d6-bcff-ab75b07e8f2f'), AIMessage(content='Laporan Standar Akuntansi Keuangan Entitas Tanpa Akuntabilitas Publik (SAK ETAP) adalah laporan keuangan yang disusun berdasarkan kerangka standar akuntansi yang lebih sederhana dibandingkan dengan Standar Akuntansi Keuangan (SAK) umum.  SAK ETAP dirancang khusus untuk Entitas Tanpa Akuntabilitas Publik (ETAP).\\n\\n**Entitas Tanpa Akuntabilitas Publik (ETAP)** adalah entitas yang:\\n\\n* **Tidak memiliki akuntabilitas publik.**  Artinya, entitas tersebut tidak menerbitkan efek (saham, obligasi, dll.) yang diperdagangkan di pasar modal, atau entitas yang tidak memegang dana dari masyarakat luas dalam kapasitas sebagai wali amanat.\\n* **Memenuhi kriteria tertentu yang ditetapkan oleh Dewan Standar Akuntansi Keuangan (DSAK).**\\n\\n**Tujuan SAK ETAP:**\\n\\nSAK ETAP bertujuan untuk menyederhanakan proses penyusunan laporan keuangan bagi ETAP dengan tetap mempertahankan kualitas dan relevansi informasi yang disajikan.  Penyederhanaan ini mengurangi beban biaya dan administratif bagi ETAP, sekaligus memudahkan pengguna laporan keuangan dalam memahami kondisi keuangan entitas.\\n\\n**Perbedaan utama SAK ETAP dengan SAK umum:**\\n\\nSAK ETAP lebih sederhana daripada SAK umum. Beberapa penyederhanaan tersebut antara lain:\\n\\n* **Pengakuan dan pengukuran yang lebih sederhana:**  Beberapa standar dalam SAK ETAP lebih ringkas dan tidak memerlukan perhitungan atau pengungkapan yang serumit SAK umum.\\n* **Lebih sedikit pengungkapan:** SAK ETAP mensyaratkan pengungkapan yang lebih sedikit dibandingkan dengan SAK umum, sehingga mengurangi beban administratif bagi ETAP.\\n* **Tidak ada pernyataan arus kas:** ETAP tidak diwajibkan untuk menyusun laporan arus kas.\\n* **Terminologi yang disederhanakan:**  Beberapa istilah dalam SAK ETAP disederhanakan agar lebih mudah dipahami.\\n\\n**Komponen Laporan Keuangan SAK ETAP:**\\n\\nLaporan keuangan yang disusun berdasarkan SAK ETAP umumnya terdiri dari:\\n\\n* **Laporan Posisi Keuangan (Neraca):** Menunjukkan aset, liabilitas, dan ekuitas entitas pada tanggal tertentu.\\n* **Laporan Laba Rugi:** Menunjukkan pendapatan, beban, dan laba/rugi entitas selama periode tertentu.\\n* **Laporan Perubahan Ekuitas:** Menunjukkan perubahan ekuitas entitas selama periode tertentu.\\n* **Catatan atas Laporan Keuangan:** Memberikan penjelasan tambahan atas informasi yang disajikan dalam laporan keuangan.\\n\\n**Kesimpulan:**\\n\\nSAK ETAP menyediakan kerangka kerja pelaporan keuangan yang lebih sederhana dan efisien bagi ETAP.  Meskipun lebih sederhana, SAK ETAP tetap memastikan bahwa laporan keuangan yang dihasilkan relevan dan dapat diandalkan untuk pengambilan keputusan oleh pengguna.  Penting bagi entitas untuk menentukan apakah mereka memenuhi kriteria sebagai ETAP dan apakah mereka diizinkan untuk menggunakan SAK ETAP dalam penyusunan laporan keuangan mereka.\\n', additional_kwargs={}, response_metadata={'prompt_feedback': {'block_reason': 0, 'safety_ratings': []}, 'finish_reason': 'STOP', 'safety_ratings': []}, id='run-04a5efab-444b-4cd8-9e0c-7e6f6e7aa27d-0', usage_metadata={'input_tokens': 58, 'output_tokens': 606, 'total_tokens': 664, 'input_token_details': {'cache_read': 0}}), HumanMessage(content='saya tadi bertanya apa?', additional_kwargs={}, response_metadata={}, id='d19cb640-d5fc-478f-91a2-3d1981c0ba25'), AIMessage(content='Anda bertanya, \"apa itu laporan SAK ETAP?\".\\n', additional_kwargs={}, response_metadata={'prompt_feedback': {'block_reason': 0, 'safety_ratings': []}, 'finish_reason': 'STOP', 'safety_ratings': []}, id='run-2d646635-ebf2-47dd-9e0c-d42e40b02df0-0', usage_metadata={'input_tokens': 712, 'output_tokens': 12, 'total_tokens': 724, 'input_token_details': {'cache_read': 0}}), HumanMessage(content='Jelaskan apa itu neraca laba?', additional_kwargs={}, response_metadata={}, id='e502a8a3-ea9a-44f2-8d35-6a274ad73d52'), AIMessage(content='Istilah \"neraca laba\" sebenarnya tidak tepat.  Yang benar adalah **Laporan Laba Rugi** atau ada juga yang menyebutnya **Laporan Perhitungan Laba Rugi**.  Kadang-kadang, laporan ini digabung dengan laporan perubahan ekuitas menjadi satu laporan yang disebut **Laporan Laba Rugi dan Perubahan Ekuitas**.\\n\\nLaporan Laba Rugi (atau Laporan Perhitungan Laba Rugi) melaporkan kinerja keuangan suatu perusahaan selama periode tertentu, biasanya satu tahun buku atau satu kuartal.  Laporan ini menunjukkan:\\n\\n* **Pendapatan:**  Jumlah uang yang dihasilkan perusahaan dari penjualan barang atau jasa, serta pendapatan lain-lain.\\n* **Beban:** Biaya-biaya yang dikeluarkan perusahaan untuk menghasilkan pendapatan, seperti biaya bahan baku, gaji karyawan, biaya pemasaran, penyusutan, dan lain-lain.\\n* **Laba (atau Rugi):** Selisih antara pendapatan dan beban. Jika pendapatan lebih besar dari beban, maka perusahaan memperoleh laba. Sebaliknya, jika beban lebih besar dari pendapatan, maka perusahaan mengalami rugi.\\n\\n**Komponen utama Laporan Laba Rugi:**\\n\\n* **Pendapatan:**  Bisa berupa pendapatan usaha (dari aktivitas utama perusahaan) dan pendapatan non-usaha (dari aktivitas di luar usaha utama).\\n* **Beban Pokok Penjualan (HPP/Cost of Goods Sold - COGS):**  Biaya langsung yang terkait dengan produksi barang yang dijual. (Hanya berlaku untuk perusahaan manufaktur atau dagang).\\n* **Laba Kotor (Gross Profit):** Selisih antara pendapatan dan HPP.\\n* **Beban Usaha:** Biaya-biaya operasional perusahaan, seperti gaji, sewa, utilitas, dan pemasaran.\\n* **Laba Usaha (Operating Income):** Selisih antara laba kotor dan beban usaha.\\n* **Beban Lain-Lain:** Beban yang tidak terkait langsung dengan operasi utama perusahaan, seperti beban bunga dan kerugian penjualan aset.\\n* **Pendapatan Lain-Lain:** Pendapatan yang tidak terkait langsung dengan operasi utama perusahaan, seperti pendapatan bunga dan keuntungan penjualan aset.\\n* **Laba Sebelum Pajak:** Laba usaha ditambah pendapatan lain-lain dikurangi beban lain-lain.\\n* **Beban Pajak:** Pajak penghasilan yang harus dibayar perusahaan.\\n* **Laba Bersih (Net Income/Net Profit):** Laba setelah dikurangi beban pajak. Ini adalah \"bottom line\" dari laporan laba rugi.\\n\\nSingkatnya, Laporan Laba Rugi menunjukkan seberapa efisien dan efektif perusahaan dalam menghasilkan laba selama periode tertentu. Ini adalah informasi penting bagi investor, kreditor, dan pihak-pihak lain yang berkepentingan untuk menilai kinerja dan prospek perusahaan.\\n', additional_kwargs={}, response_metadata={'prompt_feedback': {'block_reason': 0, 'safety_ratings': []}, 'finish_reason': 'STOP', 'safety_ratings': []}, id='run-bce1286e-2b97-457a-8895-8c9c6a8a29b3-0', usage_metadata={'input_tokens': 734, 'output_tokens': 565, 'total_tokens': 1299, 'input_token_details': {'cache_read': 0}}), HumanMessage(content='apa itu jurnal balik menurut context pada buku?', additional_kwargs={}, response_metadata={}, id='f9b3aa9a-0d1b-4452-8249-5b8a6853d70a'), AIMessage(content='Saya tidak memiliki akses ke buku atau konteks spesifik yang Anda maksud.  Oleh karena itu, saya akan menjelaskan pengertian jurnal balik secara umum.\\n\\nJurnal balik adalah jurnal yang dibuat pada awal periode akuntansi untuk membalik atau  mengoreksi ayat jurnal penyesuaian yang dibuat pada akhir periode akuntansi sebelumnya. Jurnal balik  dibuat untuk ayat jurnal penyesuaian yang bersifat akrual dan deferral.  Tujuan utama pembuatan jurnal balik adalah untuk menyederhanakan pencatatan transaksi pada periode berjalan.\\n\\n**Mengapa Jurnal Balik Diperlukan?**\\n\\nBeberapa ayat jurnal penyesuaian mempengaruhi akun neraca dan akun laba rugi.  Tanpa jurnal balik, pencatatan transaksi pada periode berikutnya bisa menjadi rumit karena kita harus mempertimbangkan saldo yang telah disesuaikan.  Jurnal balik membantu mengembalikan saldo akun-akun tertentu ke posisi semula, sehingga pencatatan transaksi rutin di periode berikutnya dapat dilakukan seperti biasa.\\n\\n**Jenis Ayat Jurnal Penyesuaian yang Biasanya Dibalik:**\\n\\n* **Pendapatan Diterima Dimuka (Unearned Revenue):**  Ketika sebagian pendapatan diterima di muka telah menjadi pendapatan di periode berjalan.\\n* **Beban Dibayar Dimuka (Prepaid Expenses):** Ketika sebagian beban dibayar di muka telah menjadi beban di periode berjalan.\\n* **Piutang Pendapatan (Accrued Revenue):** Pendapatan yang sudah menjadi hak tetapi belum diterima pembayarannya. Jurnal balik piutang pendapatan biasanya tidak dibuat, karena dianggap merepotkan dan kurang efisien.\\n* **Beban yang Masih Harus Dibayar (Accrued Expenses):** Beban yang sudah menjadi kewajiban tetapi belum dibayarkan. Jurnal balik beban yang masih harus dibayar biasanya tidak dibuat, karena dianggap merepotkan dan kurang efisien.\\n\\n**Contoh:**\\n\\nMisalnya, pada akhir periode Desember 2023, perusahaan telah menerima pembayaran sewa di muka untuk bulan Januari 2024 sebesar Rp 1.200.000. Jurnal penyesuaiannya adalah:\\n\\n* Debit Kas: Rp 1.200.000\\n* Kredit Pendapatan Sewa Diterima Dimuka: Rp 1.200.000\\n\\nPada awal periode Januari 2024, jurnal balik yang dibuat adalah:\\n\\n* Debit Pendapatan Sewa Diterima Dimuka: Rp 1.200.000\\n* Kredit Kas: Rp 1.200.000\\n\\nDengan adanya jurnal balik ini, ketika perusahaan mengakui pendapatan sewa di bulan Januari 2024, pencatatannya menjadi lebih sederhana, yaitu:\\n\\n* Debit Kas/Piutang: Rp 1.200.000\\n* Kredit Pendapatan Sewa: Rp 1.200.000\\n\\n**Penting untuk diingat:**\\n\\n* Tidak semua ayat jurnal penyesuaian perlu dibalik.\\n* Jurnal balik dibuat pada awal periode akuntansi berikutnya.\\n* Jurnal balik tidak mengubah informasi yang disajikan dalam laporan keuangan.  Tujuannya hanya untuk menyederhanakan pencatatan transaksi rutin.\\n\\nSemoga penjelasan ini bermanfaat!  Jika Anda memiliki konteks spesifik dari suatu buku, mohon berikan detailnya agar saya bisa memberikan penjelasan yang lebih tepat.\\n', additional_kwargs={}, response_metadata={'prompt_feedback': {'block_reason': 0, 'safety_ratings': []}, 'finish_reason': 'STOP', 'safety_ratings': []}, id='run-4ff8b929-a88b-4861-8309-34ca0ac56c71-0', usage_metadata={'input_tokens': 1311, 'output_tokens': 690, 'total_tokens': 2001, 'input_token_details': {'cache_read': 0}}), HumanMessage(content='apa itu jurnal balik?', additional_kwargs={}, response_metadata={}, id='360a1e6f-57c2-4f71-9ea1-0d375a800f5c'), AIMessage(content='Jurnal balik adalah jurnal yang dibuat pada awal periode akuntansi untuk membalik atau mengoreksi ayat jurnal penyesuaian tertentu yang dibuat pada akhir periode akuntansi sebelumnya.  Tujuan utama jurnal balik adalah untuk menyederhanakan pencatatan transaksi pada periode berjalan.\\n\\n**Mengapa Jurnal Balik Diperlukan?**\\n\\nBeberapa ayat jurnal penyesuaian memengaruhi akun neraca dan akun laba rugi. Tanpa jurnal balik, pencatatan transaksi pada periode berikutnya bisa menjadi rumit karena kita harus mempertimbangkan saldo yang telah disesuaikan. Jurnal balik membantu mengembalikan saldo akun-akun tertentu ke posisi semula, sehingga pencatatan transaksi rutin di periode berikutnya dapat dilakukan seperti biasa, seolah-olah penyesuaian belum dibuat.\\n\\n**Jenis Ayat Jurnal Penyesuaian yang Biasanya Dibalik:**\\n\\n* **Pendapatan Diterima Dimuka (Unearned Revenue):**  Ketika sebagian pendapatan diterima di muka telah menjadi pendapatan di periode berjalan.\\n* **Beban Dibayar Dimuka (Prepaid Expenses):** Ketika sebagian beban dibayar di muka telah menjadi beban di periode berjalan.\\n\\n**Ayat Jurnal Penyesuaian yang Biasanya *Tidak* Dibalik:**\\n\\n* **Piutang Pendapatan (Accrued Revenue):**  Meskipun dimungkinkan untuk membuat jurnal balik, umumnya tidak dilakukan karena dianggap merepotkan dan kurang efisien.\\n* **Beban yang Masih Harus Dibayar (Accrued Expenses):** Sama seperti piutang pendapatan, jurnal balik untuk beban yang masih harus dibayar biasanya tidak dibuat.\\n\\n**Contoh:**\\n\\nBayangkan sebuah perusahaan menerima pembayaran sewa di muka untuk bulan Januari 2024 sebesar Rp 1.200.000 pada bulan Desember 2023.  Berikut ilustrasinya:\\n\\n* **Desember 2023 (Jurnal Penyesuaian):**\\n    * Debit Kas: Rp 1.200.000\\n    * Kredit Pendapatan Sewa Diterima Dimuka: Rp 1.200.000\\n\\n* **Januari 2024 (Jurnal Balik):**\\n    * Debit Pendapatan Sewa Diterima Dimuka: Rp 1.200.000\\n    * Kredit Kas: Rp 1.200.000\\n\\n* **Januari 2024 (Jurnal Saat Pendapatan Diakui):**\\n    * Debit Kas/Piutang: Rp 1.200.000\\n    * Kredit Pendapatan Sewa: Rp 1.200.000\\n\\nDengan jurnal balik, pencatatan pendapatan sewa di bulan Januari menjadi lebih sederhana.  Tanpa jurnal balik, kita harus mengurangi saldo Pendapatan Sewa Diterima Dimuka dan mengakui pendapatan sewa.\\n\\n**Penting untuk diingat:**\\n\\n* Jurnal balik dibuat pada *awal* periode akuntansi berikutnya.\\n* Jurnal balik *tidak* mengubah saldo akhir dalam laporan keuangan.  Tujuannya hanya untuk menyederhanakan pencatatan.\\n\\n\\n', additional_kwargs={}, response_metadata={'prompt_feedback': {'block_reason': 0, 'safety_ratings': []}, 'finish_reason': 'STOP', 'safety_ratings': []}, id='run-14c3176f-36b3-49ee-8786-2657755d30a9-0', usage_metadata={'input_tokens': 2009, 'output_tokens': 643, 'total_tokens': 2652, 'input_token_details': {'cache_read': 0}}), HumanMessage(content='apa itu jurnal balik? gunakan tools', additional_kwargs={}, response_metadata={}, id='9ec6e8ce-f9c2-48b6-ab39-ad0b640cc77c')]\n",
      "==================================\u001b[1m Ai Message \u001b[0m==================================\n",
      "\n",
      "Jurnal balik adalah ayat jurnal yang dibuat di awal periode akuntansi untuk membalik ayat jurnal penyesuaian tertentu yang telah dibuat pada akhir periode sebelumnya. Tujuannya adalah untuk menyederhanakan pencatatan transaksi di periode berjalan.  Jurnal balik hanya dilakukan untuk jurnal penyesuaian yang berkaitan dengan *akun nominal* yang disandingkan dengan *akun riil*.\n",
      "\n",
      "**Mengapa Jurnal Balik Diperlukan?**\n",
      "\n",
      "Tanpa jurnal balik, pencatatan transaksi rutin di periode berikutnya bisa lebih rumit karena harus memperhitungkan saldo yang telah disesuaikan. Jurnal balik mengembalikan saldo akun-akun tertentu ke posisi semula, sehingga pencatatan transaksi di periode berjalan bisa dilakukan seperti biasanya, seolah penyesuaian belum pernah dibuat.  Ini menyederhanakan proses dan mengurangi potensi kesalahan.\n",
      "\n",
      "**Jenis Ayat Jurnal Penyesuaian yang Dibalik:**\n",
      "\n",
      "Jurnal balik umumnya dibuat untuk dua jenis penyesuaian:\n",
      "\n",
      "* **Deferral (Penundaan):**\n",
      "    * **Pendapatan Diterima di Muka (Unearned Revenue):**  Kas sudah diterima, tetapi pendapatan belum diakui.  Contoh: Sewa dibayar di muka.\n",
      "    * **Beban Dibayar di Muka (Prepaid Expense):** Kas sudah dibayarkan, tetapi beban belum diakui. Contoh: Asuransi dibayar di muka.\n",
      "\n",
      "**Jenis Ayat Jurnal Penyesuaian yang *Tidak* Dibalik:**\n",
      "\n",
      "* **Akrual:**\n",
      "    * **Piutang Pendapatan (Accrued Revenue):** Pendapatan sudah diakui, tetapi kas belum diterima.\n",
      "    * **Beban yang Masih Harus Dibayar (Accrued Expense):** Beban sudah diakui, tetapi kas belum dibayarkan.\n",
      "\n",
      "**Contoh:**\n",
      "\n",
      "Sebuah perusahaan menerima pembayaran sewa di muka untuk bulan Januari 2024 sebesar Rp 1.200.000 pada bulan Desember 2023.\n",
      "\n",
      "* **Desember 2023 (Penyesuaian):**\n",
      "    * Debit Kas                             Rp 1.200.000\n",
      "    * Kredit Pendapatan Sewa Diterima di Muka  Rp 1.200.000\n",
      "\n",
      "* **Januari 2024 (Jurnal Balik):**\n",
      "    * Debit Pendapatan Sewa Diterima di Muka  Rp 1.200.000\n",
      "    * Kredit Kas                             Rp 1.200.000\n",
      "\n",
      "* **Januari 2024 (Pencatatan Pendapatan):**\n",
      "    * Debit Kas/Piutang Sewa              Rp 1.200.000\n",
      "    * Kredit Pendapatan Sewa                Rp 1.200.000\n",
      "\n",
      "**Keuntungan Jurnal Balik:**\n",
      "\n",
      "* **Menyederhanakan pencatatan transaksi rutin.**\n",
      "* **Mengurangi potensi kesalahan.**\n",
      "* **Mempermudah proses posting ke buku besar.**\n",
      "\n",
      "**Kesimpulan:**\n",
      "\n",
      "Jurnal balik merupakan alat yang berguna untuk menyederhanakan proses akuntansi.  Meskipun tidak wajib, penggunaannya sangat dianjurkan untuk penyesuaian deferral.  Ingatlah bahwa jurnal balik *tidak* mengubah saldo akhir akun dalam laporan keuangan.\n"
     ]
    }
   ],
   "source": [
    "input_message = \"apa itu jurnal balik? gunakan tools\"\n",
    "\n",
    "for step in graph.stream(\n",
    "    {\"messages\": [{\"role\": \"human\", \"content\": input_message}]},\n",
    "    stream_mode=\"values\",\n",
    "    config=config\n",
    "):\n",
    "    step[\"messages\"][-1].pretty_print()"
   ]
  },
  {
   "cell_type": "code",
   "execution_count": null,
   "metadata": {},
   "outputs": [
    {
     "name": "stdout",
     "output_type": "stream",
     "text": [
      "================================\u001b[1m Human Message \u001b[0m=================================\n",
      "\n",
      "saya bertanya apa saja tadi?\n",
      "[]\n",
      "==================================\u001b[1m Ai Message \u001b[0m==================================\n",
      "\n",
      "Anda telah bertanya beberapa pertanyaan, yaitu:\n",
      "\n",
      "1. apa itu laporan SAK ETAP?\n",
      "2. Jelaskan apa itu neraca laba?\n",
      "3. apa itu jurnal balik menurut context pada buku?\n",
      "4. apa itu jurnal balik?\n",
      "5. apa itu jurnal balik? gunakan tools\n",
      "6. saya bertanya apa saja tadi?\n"
     ]
    }
   ],
   "source": [
    "input_message = \"saya bertanya apa saja tadi?\"\n",
    "\n",
    "for step in graph.stream(\n",
    "    {\"messages\": [{\"role\": \"human\", \"content\": input_message}]},\n",
    "    stream_mode=\"values\",\n",
    "    config=config\n",
    "):\n",
    "    step[\"messages\"][-1].pretty_print()"
   ]
  }
 ],
 "metadata": {
  "kernelspec": {
   "display_name": "env",
   "language": "python",
   "name": "python3"
  },
  "language_info": {
   "codemirror_mode": {
    "name": "ipython",
    "version": 3
   },
   "file_extension": ".py",
   "mimetype": "text/x-python",
   "name": "python",
   "nbconvert_exporter": "python",
   "pygments_lexer": "ipython3",
   "version": "3.10.15"
  }
 },
 "nbformat": 4,
 "nbformat_minor": 2
}
