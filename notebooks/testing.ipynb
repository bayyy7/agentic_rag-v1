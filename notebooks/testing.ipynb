{
 "cells": [
  {
   "cell_type": "code",
   "execution_count": 3,
   "metadata": {},
   "outputs": [],
   "source": [
    "from langchain_community.document_loaders import PyPDFLoader\n",
    "from langchain_text_splitters import RecursiveCharacterTextSplitter\n",
    "from langchain_huggingface.embeddings import HuggingFaceEmbeddings\n",
    "from langchain_community.vectorstores import FAISS\n",
    "from langchain_community.docstore.in_memory import InMemoryDocstore\n",
    "import faiss\n",
    "\n",
    "def processing_documents(document, chunk_size: int, chunk_overlap: int, embedding_model: str, dimension: int) -> FAISS:\n",
    "   loader = PyPDFLoader(file_path=document)\n",
    "   docs = loader.load()\n",
    "   text_splitter = RecursiveCharacterTextSplitter(\n",
    "      chunk_size=chunk_size, chunk_overlap=chunk_overlap\n",
    "   )\n",
    "   chunks = text_splitter.split_documents(docs)\n",
    "   embeddings = HuggingFaceEmbeddings(model_name=embedding_model)\n",
    "   vector_store = FAISS(\n",
    "      embedding_function=embeddings,\n",
    "      index=faiss.IndexFlatL2(dimension),\n",
    "      docstore=InMemoryDocstore(),\n",
    "      index_to_docstore_id={}\n",
    "   )\n",
    "   vector_store.add_documents(chunks)\n",
    "   return vector_store"
   ]
  },
  {
   "cell_type": "code",
   "execution_count": 4,
   "metadata": {},
   "outputs": [],
   "source": [
    "from langchain_community.vectorstores import FAISS\n",
    "from langchain_core.tools import BaseTool\n",
    "from typing import Type\n",
    "from pydantic import BaseModel, Field\n",
    "\n",
    "class RetrieverInput(BaseModel):\n",
    "   query: str = Field(description=\"Query User untuk mencari informasi pada dokumen\")\n",
    "\n",
    "class Retrieve(BaseTool):\n",
    "   name: str = \"document_retrieve_tool\"\n",
    "   description: str = \"Gunakan tools ini untuk mencari informasi berkaitan dengan Akuntansi, Finansial, dan Perbankan\"\n",
    "   response_format: str = \"content_and_artifact\"\n",
    "   args_schema: Type[BaseModel] = RetrieverInput\n",
    "   vector_store: FAISS\n",
    "   search_type: str\n",
    "   k: int\n",
    "\n",
    "   def _run(self, query: str) -> dict[str, any]:\n",
    "      retrieve_docs = self.vector_store.similarity_search(query=query, k=self.k)\n",
    "      serialized = \"\\n\\n\".join(\n",
    "         (f\"Source: {doc.metadata}\\n\" f\"Content: {doc.page_content}\") \n",
    "         for doc in retrieve_docs\n",
    "      )\n",
    "      return serialized, retrieve_docs"
   ]
  },
  {
   "cell_type": "code",
   "execution_count": 5,
   "metadata": {},
   "outputs": [],
   "source": [
    "from dataclasses import dataclass\n",
    "\n",
    "@dataclass\n",
    "class QNAModel:\n",
    "   model: str = \"gemini-1.5-pro\"\n",
    "   temperature: float = 0.8\n",
    "   top_p: float = 0.6\n",
    "   max_tokens: int = 2000\n",
    "\n",
    "@dataclass\n",
    "class Embedding:\n",
    "   model: str = \"intfloat/multilingual-e5-small\"\n",
    "   dimension: int = 384\n",
    "\n",
    "@dataclass\n",
    "class ChunkStrategy:\n",
    "   chunk_size: int = 500\n",
    "   chunk_overlap: int = 10\n",
    "\n",
    "@dataclass\n",
    "class VectorSearchStrateg:\n",
    "   method: str = \"similarity\"\n",
    "   k: int = 3\n",
    "\n",
    "@dataclass\n",
    "class Configuration:\n",
    "   qna_model: QNAModel = QNAModel()\n",
    "   embedding: Embedding = Embedding()\n",
    "   chunk_strategy: ChunkStrategy = ChunkStrategy()\n",
    "   vector_search_strategy: VectorSearchStrateg = VectorSearchStrateg()\n"
   ]
  },
  {
   "cell_type": "code",
   "execution_count": null,
   "metadata": {},
   "outputs": [],
   "source": [
    "from langchain_google_genai import ChatGoogleGenerativeAI\n",
    "from langchain_core.messages import SystemMessage\n",
    "from langgraph.graph import MessagesState, StateGraph, END\n",
    "from langgraph.prebuilt import ToolNode, tools_condition\n",
    "from langgraph.checkpoint.memory import MemorySaver\n",
    "from dotenv import load_dotenv\n",
    "import os\n",
    "\n",
    "load_dotenv()\n",
    "config = Configuration().qna_model\n",
    "gemini_api = os.environ[\"GOOGLE_GENERATIVE_AI\"]\n",
    "llm_model = ChatGoogleGenerativeAI(\n",
    "   model=config.model,\n",
    "   temperature=config.temperature,\n",
    "   top_p=config.top_p,\n",
    "   max_tokens=config.max_tokens,\n",
    "   api_key=gemini_api\n",
    ")\n",
    "\n",
    "def retrieve_or_response(state: MessagesState, vector_store, search_type, k):\n",
    "   \"\"\"Tentukan langkah untuk menggunakan tools atau langsung merespon\"\"\"\n",
    "   llm_with_tools = llm_model.bind_tools([Retrieve(vector_store=vector_store, search_type=search_type, k=k)])\n",
    "   response = llm_with_tools.invoke(state['messages'])\n",
    "   return {\"messages\": [response]}\n",
    "\n",
    "def generate(state: MessagesState):\n",
    "   \"\"\"Generate a response.\"\"\"\n",
    "   print(state[\"messages\"])\n",
    "   recent_tool_messages = []\n",
    "   for message in reversed(state[\"messages\"]):\n",
    "      if message.type == \"tool\":\n",
    "         recent_tool_messages.append(message)\n",
    "      else:\n",
    "         break\n",
    "   tool_messages = recent_tool_messages[::-1]\n",
    "\n",
    "   system_message_content = system_prompt(tool_messages)\n",
    "\n",
    "   conversation_messages = [\n",
    "      message\n",
    "      for message in state[\"messages\"]\n",
    "      if message.type in (\"human\", \"system\")\n",
    "      or (message.type == \"ai\" and not message.tool_calls)\n",
    "   ]\n",
    "   prompt = [SystemMessage(system_message_content)] + conversation_messages\n",
    "   print(prompt)\n",
    "   response = llm_model.invoke(prompt)\n",
    "   return {\"messages\": [response]}\n",
    "\n",
    "\n",
    "def graph_architecture(vector_store, search_type, k) -> StateGraph:\n",
    "   graph_builder = StateGraph(MessagesState)\n",
    "   tools = ToolNode([Retrieve(vector_store=vector_store, search_type=search_type, k=k)])\n",
    "   memory = MemorySaver()\n",
    "\n",
    "   graph_builder.add_node(\"retrieve_or_response\", lambda MessagesState: retrieve_or_response(MessagesState, vector_store, search_type, k))\n",
    "   graph_builder.add_node(tools)\n",
    "   graph_builder.add_node(\"generate\", generate)\n",
    "\n",
    "   graph_builder.set_entry_point(\"retrieve_or_response\")\n",
    "   graph_builder.add_conditional_edges(\n",
    "      \"retrieve_or_response\",\n",
    "      tools_condition,\n",
    "      {\n",
    "         END: END,\n",
    "         \"tools\": \"tools\"\n",
    "      }\n",
    "   )\n",
    "\n",
    "   graph_builder.add_edge(start_key=\"tools\", end_key=\"generate\")\n",
    "   graph_builder.add_edge(start_key=\"generate\", end_key=END)\n",
    "   graph = graph_builder.compile(checkpointer=memory)\n",
    "\n",
    "   graph_builder.add_edge(start_key=\"tools\", end_key=\"generate\")\n",
    "   graph_builder.add_edge(start_key=\"generate\", end_key=END)\n",
    "   graph = graph_builder.compile(checkpointer=memory)\n",
    "   return graph"
   ]
  },
  {
   "cell_type": "code",
   "execution_count": 7,
   "metadata": {},
   "outputs": [
    {
     "name": "stderr",
     "output_type": "stream",
     "text": [
      "Adding an edge to a graph that has already been compiled. This will not be reflected in the compiled graph.\n",
      "Adding an edge to a graph that has already been compiled. This will not be reflected in the compiled graph.\n"
     ]
    }
   ],
   "source": [
    "import uuid\n",
    "\n",
    "config = Configuration()\n",
    "vector_store = processing_documents(\n",
    "   document=\"../temp/document.pdf\",\n",
    "   chunk_size=config.chunk_strategy.chunk_size,\n",
    "   chunk_overlap=config.chunk_strategy.chunk_overlap,\n",
    "   embedding_model=config.embedding.model,\n",
    "   dimension=config.embedding.dimension\n",
    ")\n",
    "graph = graph_architecture(\n",
    "   vector_store=vector_store,\n",
    "   search_type=config.vector_search_strategy.method,\n",
    "   k=config.vector_search_strategy.k\n",
    ")"
   ]
  },
  {
   "cell_type": "code",
   "execution_count": 8,
   "metadata": {},
   "outputs": [
    {
     "data": {
      "image/png": "[encoded data removed]",
      "text/plain": [
       "<IPython.core.display.Image object>"
      ]
     },
     "metadata": {},
     "output_type": "display_data"
    }
   ],
   "source": [
    "from IPython.display import Image, display\n",
    "\n",
    "display(Image(graph.get_graph().draw_mermaid_png()))"
   ]
  },
  {
   "cell_type": "code",
   "execution_count": 9,
   "metadata": {},
   "outputs": [
    {
     "data": {
      "text/plain": [
       "[Document(metadata={'source': '../temp/document.pdf', 'page': 60}, page_content='kreditur. SAK ETAP membantu perusahaan kecil menengah dalam \\nmenyediakan pelaporan keuangan yang tetap relevan dan andal. SAK ETAP \\nakan khusus digunakan unutk perusahaan tanpa akuntabilitas publik yang \\nsignifikan. Perusahaan yang terdaftar dalam bursa efek dan yang memiliki \\nakuntabilitas publik signifikan tetap harus menggunakan PSAK yang umum. \\n \\n1.2 Pengakuan Unsur Laporan Keuangan \\n       Menurut SAK ETAP nomor 2 paragraf 24, pengakuan unsur laporan keuangan'),\n",
       " Document(metadata={'source': '../temp/document.pdf', 'page': 61}, page_content='kreditur. SAK ETAP membantu perusahaan kecil menengah dalam \\nmenyediakan pelaporan keuangan yang tetap relevan dan andal. SAK ETAP \\nakan khusus digunakan unutk perusahaan tanpa akuntabilitas publik yang \\nsignifikan. Perusahaan yang terdaftar dalam bursa efek dan yang memiliki \\nakuntabilitas publik signifikan tetap harus menggunakan PSAK yang umum. \\n \\n1.2 Pengakuan Unsur Laporan Keuangan \\n       Menurut SAK ETAP nomor 2 paragraf 24, pengakuan unsur laporan keuangan'),\n",
       " Document(metadata={'source': '../temp/document.pdf', 'page': 62}, page_content='Laporan laba rugi memasukkan semua pos penghasilan dan beban yang diakui \\ndalam suatu periode kecuali SAK ETAP mensyaratkan lain. SAK ETAP \\nmengatur perlakuan berbeda terhadap dampak koreksi atas kesalahan dan \\nperubahan kebijakan akuntansi yang disajikan sebagai penyesuaian terhadap \\nperiode yang lalu dan bukan sebagai bagian dari laba atau rugi dalam periode \\nterjadinya perubahan (Ikatan Akutan Indonesia, 2009a : 5.2). Laporan laba rugi')]"
      ]
     },
     "execution_count": 9,
     "metadata": {},
     "output_type": "execute_result"
    }
   ],
   "source": [
    "vector_store.search(query=\"SAK ETAP adalah\", search_type=\"similarity\", k=3)"
   ]
  },
  {
   "cell_type": "code",
   "execution_count": 10,
   "metadata": {},
   "outputs": [
    {
     "name": "stdout",
     "output_type": "stream",
     "text": [
      "[HumanMessage(content='apa itu SAK ETAP', additional_kwargs={}, response_metadata={}, id='77bb0267-e1ab-47e2-9e6c-9e435dcf952d'), AIMessage(content='SAK ETAP adalah Standar Akuntansi Keuangan Entitas Tanpa Akuntabilitas Publik.  SAK ETAP merupakan standar akuntansi yang dirancang khusus untuk entitas tanpa akuntabilitas publik.  Entitas tanpa akuntabilitas publik  adalah entitas yang tidak memiliki akuntabilitas publik signifikan dan menerbitkan laporan keuangan umum untuk tujuan umum bagi pengguna eksternal.  Contoh pengguna eksternal adalah  kreditur, investor, dan lembaga pemeringkat kredit.\\n', additional_kwargs={'function_call': {'name': 'document_retrieve_tool', 'arguments': '{\"query\": \"SAK ETAP\"}'}}, response_metadata={'safety_ratings': [], 'finish_reason': 'STOP'}, id='run-c3b988c6-4647-44db-b7cd-1d59fd28976f', tool_calls=[{'name': 'document_retrieve_tool', 'args': {'query': 'SAK ETAP'}, 'id': '61b619dc-e4e2-4e6d-a585-afe8c014fd4b', 'type': 'tool_call'}], usage_metadata={'input_tokens': 66, 'output_tokens': 109, 'total_tokens': 175, 'input_token_details': {'cache_read': 0}}), ToolMessage(content=\"Source: {'source': '../temp/document.pdf', 'page': 60}\\nContent: kreditur. SAK ETAP membantu perusahaan kecil menengah dalam \\nmenyediakan pelaporan keuangan yang tetap relevan dan andal. SAK ETAP \\nakan khusus digunakan unutk perusahaan tanpa akuntabilitas publik yang \\nsignifikan. Perusahaan yang terdaftar dalam bursa efek dan yang memiliki \\nakuntabilitas publik signifikan tetap harus menggunakan PSAK yang umum. \\n \\n1.2 Pengakuan Unsur Laporan Keuangan \\n       Menurut SAK ETAP nomor 2 paragraf 24, pengakuan unsur laporan keuangan\\n\\nSource: {'source': '../temp/document.pdf', 'page': 61}\\nContent: kreditur. SAK ETAP membantu perusahaan kecil menengah dalam \\nmenyediakan pelaporan keuangan yang tetap relevan dan andal. SAK ETAP \\nakan khusus digunakan unutk perusahaan tanpa akuntabilitas publik yang \\nsignifikan. Perusahaan yang terdaftar dalam bursa efek dan yang memiliki \\nakuntabilitas publik signifikan tetap harus menggunakan PSAK yang umum. \\n \\n1.2 Pengakuan Unsur Laporan Keuangan \\n       Menurut SAK ETAP nomor 2 paragraf 24, pengakuan unsur laporan keuangan\\n\\nSource: {'source': '../temp/document.pdf', 'page': 62}\\nContent: Laporan laba rugi memasukkan semua pos penghasilan dan beban yang diakui \\ndalam suatu periode kecuali SAK ETAP mensyaratkan lain. SAK ETAP \\nmengatur perlakuan berbeda terhadap dampak koreksi atas kesalahan dan \\nperubahan kebijakan akuntansi yang disajikan sebagai penyesuaian terhadap \\nperiode yang lalu dan bukan sebagai bagian dari laba atau rugi dalam periode \\nterjadinya perubahan (Ikatan Akutan Indonesia, 2009a : 5.2). Laporan laba rugi\", name='document_retrieve_tool', id='76f777f6-f0ac-48ba-adf7-3cdd91fca765', tool_call_id='61b619dc-e4e2-4e6d-a585-afe8c014fd4b', artifact=[Document(metadata={'source': '../temp/document.pdf', 'page': 60}, page_content='kreditur. SAK ETAP membantu perusahaan kecil menengah dalam \\nmenyediakan pelaporan keuangan yang tetap relevan dan andal. SAK ETAP \\nakan khusus digunakan unutk perusahaan tanpa akuntabilitas publik yang \\nsignifikan. Perusahaan yang terdaftar dalam bursa efek dan yang memiliki \\nakuntabilitas publik signifikan tetap harus menggunakan PSAK yang umum. \\n \\n1.2 Pengakuan Unsur Laporan Keuangan \\n       Menurut SAK ETAP nomor 2 paragraf 24, pengakuan unsur laporan keuangan'), Document(metadata={'source': '../temp/document.pdf', 'page': 61}, page_content='kreditur. SAK ETAP membantu perusahaan kecil menengah dalam \\nmenyediakan pelaporan keuangan yang tetap relevan dan andal. SAK ETAP \\nakan khusus digunakan unutk perusahaan tanpa akuntabilitas publik yang \\nsignifikan. Perusahaan yang terdaftar dalam bursa efek dan yang memiliki \\nakuntabilitas publik signifikan tetap harus menggunakan PSAK yang umum. \\n \\n1.2 Pengakuan Unsur Laporan Keuangan \\n       Menurut SAK ETAP nomor 2 paragraf 24, pengakuan unsur laporan keuangan'), Document(metadata={'source': '../temp/document.pdf', 'page': 62}, page_content='Laporan laba rugi memasukkan semua pos penghasilan dan beban yang diakui \\ndalam suatu periode kecuali SAK ETAP mensyaratkan lain. SAK ETAP \\nmengatur perlakuan berbeda terhadap dampak koreksi atas kesalahan dan \\nperubahan kebijakan akuntansi yang disajikan sebagai penyesuaian terhadap \\nperiode yang lalu dan bukan sebagai bagian dari laba atau rugi dalam periode \\nterjadinya perubahan (Ikatan Akutan Indonesia, 2009a : 5.2). Laporan laba rugi')])]\n",
      "[SystemMessage(content=\"Kamu merupakan asisten AI bernama DesiAI yang ahli dalam bidang Akuntansi,Finansial dan Perbankan. Gunakanlah Tools Retrieve untuk mencari informasi berdasarkan dari query yang diberikan. Kombinasikan pengetahuanmu dengan informasi yang diberikan agar menghasilkan jawaban yang akurat.\\n\\nSource: {'source': '../temp/document.pdf', 'page': 60}\\nContent: kreditur. SAK ETAP membantu perusahaan kecil menengah dalam \\nmenyediakan pelaporan keuangan yang tetap relevan dan andal. SAK ETAP \\nakan khusus digunakan unutk perusahaan tanpa akuntabilitas publik yang \\nsignifikan. Perusahaan yang terdaftar dalam bursa efek dan yang memiliki \\nakuntabilitas publik signifikan tetap harus menggunakan PSAK yang umum. \\n \\n1.2 Pengakuan Unsur Laporan Keuangan \\n       Menurut SAK ETAP nomor 2 paragraf 24, pengakuan unsur laporan keuangan\\n\\nSource: {'source': '../temp/document.pdf', 'page': 61}\\nContent: kreditur. SAK ETAP membantu perusahaan kecil menengah dalam \\nmenyediakan pelaporan keuangan yang tetap relevan dan andal. SAK ETAP \\nakan khusus digunakan unutk perusahaan tanpa akuntabilitas publik yang \\nsignifikan. Perusahaan yang terdaftar dalam bursa efek dan yang memiliki \\nakuntabilitas publik signifikan tetap harus menggunakan PSAK yang umum. \\n \\n1.2 Pengakuan Unsur Laporan Keuangan \\n       Menurut SAK ETAP nomor 2 paragraf 24, pengakuan unsur laporan keuangan\\n\\nSource: {'source': '../temp/document.pdf', 'page': 62}\\nContent: Laporan laba rugi memasukkan semua pos penghasilan dan beban yang diakui \\ndalam suatu periode kecuali SAK ETAP mensyaratkan lain. SAK ETAP \\nmengatur perlakuan berbeda terhadap dampak koreksi atas kesalahan dan \\nperubahan kebijakan akuntansi yang disajikan sebagai penyesuaian terhadap \\nperiode yang lalu dan bukan sebagai bagian dari laba atau rugi dalam periode \\nterjadinya perubahan (Ikatan Akutan Indonesia, 2009a : 5.2). Laporan laba rugi\\n\\n\", additional_kwargs={}, response_metadata={}), HumanMessage(content='apa itu SAK ETAP', additional_kwargs={}, response_metadata={}, id='77bb0267-e1ab-47e2-9e6c-9e435dcf952d')]\n",
      "SA|K ETAP adalah Standar Akuntansi Keuangan Entitas Tanpa Akuntab|ilitas Publik. Standar ini dirancang untuk membantu perusahaan kecil dan menengah dalam menyediakan laporan| keuangan yang relevan dan andal.  SAK ETAP ditujukan khusus untuk perusahaan *tanpa* akuntabilitas publik yang signifikan.  Perusahaan| yang terdaftar di bursa efek atau memiliki akuntabilitas publik yang signifikan tetap diwajibkan untuk menggunakan PSAK (Pernyataan Standar Akuntansi| Keuangan) yang umum.\n",
      "|"
     ]
    }
   ],
   "source": [
    "from langchain_core.messages import HumanMessage\n",
    "\n",
    "question= \"apa itu SAK ETAP\"\n",
    "\n",
    "config = {\n",
    "   \"configurable\": {\n",
    "      \"thread_id\": str(uuid.uuid4())\n",
    "   }\n",
    "}\n",
    "\n",
    "inputs = {\n",
    "   \"messages\": [{\n",
    "      \"role\": \"human\",\n",
    "      \"content\": question,\n",
    "   }]\n",
    "}\n",
    "\n",
    "for msg, metadata in graph.stream(inputs, config, stream_mode=\"messages\"):\n",
    "    if (\n",
    "        msg.content\n",
    "        and not isinstance(msg, HumanMessage)\n",
    "        and metadata[\"langgraph_node\"] == \"generate\"\n",
    "    ):\n",
    "        print(msg.content, end=\"|\", flush=True)"
   ]
  },
  {
   "cell_type": "code",
   "execution_count": 34,
   "metadata": {},
   "outputs": [
    {
     "name": "stdout",
     "output_type": "stream",
     "text": [
      "Halo|{'thread_id': '412fc076-3cab-4319-afcb-a52cd0c96732', 'langgraph_step': 59, 'langgraph_node': 'retrieve_or_response', 'langgraph_triggers': ['start:retrieve_or_response'], 'langgraph_path': ('__pregel_pull', 'retrieve_or_response'), 'langgraph_checkpoint_ns': 'retrieve_or_response:89aee3fa-dd17-1d99-ac22-84db5b8651c3', 'checkpoint_ns': 'retrieve_or_response:89aee3fa-dd17-1d99-ac22-84db5b8651c3', 'ls_provider': 'google_genai', 'ls_model_name': 'models/gemini-1.5-pro', 'ls_model_type': 'chat', 'ls_temperature': 0.8, 'ls_max_tokens': 2000}\n",
      "! Ada yang bisa saya bantu?\n",
      "|{'thread_id': '412fc076-3cab-4319-afcb-a52cd0c96732', 'langgraph_step': 59, 'langgraph_node': 'retrieve_or_response', 'langgraph_triggers': ['start:retrieve_or_response'], 'langgraph_path': ('__pregel_pull', 'retrieve_or_response'), 'langgraph_checkpoint_ns': 'retrieve_or_response:89aee3fa-dd17-1d99-ac22-84db5b8651c3', 'checkpoint_ns': 'retrieve_or_response:89aee3fa-dd17-1d99-ac22-84db5b8651c3', 'ls_provider': 'google_genai', 'ls_model_name': 'models/gemini-1.5-pro', 'ls_model_type': 'chat', 'ls_temperature': 0.8, 'ls_max_tokens': 2000}\n"
     ]
    }
   ],
   "source": [
    "inputs = {\n",
    "   \"messages\": [{\n",
    "      \"role\": \"human\",\n",
    "      \"content\": \"halo\",\n",
    "   }]\n",
    "}\n",
    "\n",
    "msg_list = []\n",
    "metadata_list = []\n",
    "\n",
    "for msg, metadata in graph.stream(inputs, config, stream_mode=\"messages\"):\n",
    "    msg_list.append(msg)\n",
    "    metadata_list.append(metadata)\n",
    "    print(msg.content, end=\"|\", flush=True)\n",
    "    print(metadata)"
   ]
  },
  {
   "cell_type": "code",
   "execution_count": 35,
   "metadata": {},
   "outputs": [
    {
     "data": {
      "text/plain": [
       "[AIMessageChunk(content='Halo', additional_kwargs={}, response_metadata={'safety_ratings': []}, id='run-5016fe68-610d-4799-ad97-7dddf7ca33eb', usage_metadata={'input_tokens': 6352, 'output_tokens': 0, 'total_tokens': 6352, 'input_token_details': {'cache_read': 0}}),\n",
       " AIMessageChunk(content='! Ada yang bisa saya bantu?\\n', additional_kwargs={}, response_metadata={'finish_reason': 'STOP', 'safety_ratings': []}, id='run-5016fe68-610d-4799-ad97-7dddf7ca33eb', usage_metadata={'input_tokens': 0, 'output_tokens': 9, 'total_tokens': 9, 'input_token_details': {'cache_read': 0}})]"
      ]
     },
     "execution_count": 35,
     "metadata": {},
     "output_type": "execute_result"
    }
   ],
   "source": [
    "msg_list"
   ]
  },
  {
   "cell_type": "code",
   "execution_count": 36,
   "metadata": {},
   "outputs": [
    {
     "data": {
      "text/plain": [
       "[{'thread_id': '412fc076-3cab-4319-afcb-a52cd0c96732',\n",
       "  'langgraph_step': 59,\n",
       "  'langgraph_node': 'retrieve_or_response',\n",
       "  'langgraph_triggers': ['start:retrieve_or_response'],\n",
       "  'langgraph_path': ('__pregel_pull', 'retrieve_or_response'),\n",
       "  'langgraph_checkpoint_ns': 'retrieve_or_response:89aee3fa-dd17-1d99-ac22-84db5b8651c3',\n",
       "  'checkpoint_ns': 'retrieve_or_response:89aee3fa-dd17-1d99-ac22-84db5b8651c3',\n",
       "  'ls_provider': 'google_genai',\n",
       "  'ls_model_name': 'models/gemini-1.5-pro',\n",
       "  'ls_model_type': 'chat',\n",
       "  'ls_temperature': 0.8,\n",
       "  'ls_max_tokens': 2000},\n",
       " {'thread_id': '412fc076-3cab-4319-afcb-a52cd0c96732',\n",
       "  'langgraph_step': 59,\n",
       "  'langgraph_node': 'retrieve_or_response',\n",
       "  'langgraph_triggers': ['start:retrieve_or_response'],\n",
       "  'langgraph_path': ('__pregel_pull', 'retrieve_or_response'),\n",
       "  'langgraph_checkpoint_ns': 'retrieve_or_response:89aee3fa-dd17-1d99-ac22-84db5b8651c3',\n",
       "  'checkpoint_ns': 'retrieve_or_response:89aee3fa-dd17-1d99-ac22-84db5b8651c3',\n",
       "  'ls_provider': 'google_genai',\n",
       "  'ls_model_name': 'models/gemini-1.5-pro',\n",
       "  'ls_model_type': 'chat',\n",
       "  'ls_temperature': 0.8,\n",
       "  'ls_max_tokens': 2000}]"
      ]
     },
     "execution_count": 36,
     "metadata": {},
     "output_type": "execute_result"
    }
   ],
   "source": [
    "metadata_list"
   ]
  },
  {
   "cell_type": "code",
   "execution_count": 19,
   "metadata": {},
   "outputs": [
    {
     "data": {
      "text/plain": [
       "[(AIMessageChunk(content='', additional_kwargs={'function_call': {'name': 'document_retrieve_tool', 'arguments': '{\"query\": \"SAK ETAP\"}'}}, response_metadata={'safety_ratings': []}, id='run-d0ad41bc-c53a-4348-b568-5b1ae653ac10', tool_calls=[{'name': 'document_retrieve_tool', 'args': {'query': 'SAK ETAP'}, 'id': 'dc140516-1ca0-4612-a0ab-4b80ddac99c2', 'type': 'tool_call'}], usage_metadata={'input_tokens': 3090, 'output_tokens': 0, 'total_tokens': 3090, 'input_token_details': {'cache_read': 0}}, tool_call_chunks=[{'name': 'document_retrieve_tool', 'args': '{\"query\": \"SAK ETAP\"}', 'id': 'dc140516-1ca0-4612-a0ab-4b80ddac99c2', 'index': None, 'type': 'tool_call_chunk'}]),\n",
       "  {'thread_id': '412fc076-3cab-4319-afcb-a52cd0c96732',\n",
       "   'langgraph_step': 26,\n",
       "   'langgraph_node': 'retrieve_or_response',\n",
       "   'langgraph_triggers': ['start:retrieve_or_response'],\n",
       "   'langgraph_path': ('__pregel_pull', 'retrieve_or_response'),\n",
       "   'langgraph_checkpoint_ns': 'retrieve_or_response:5e7437cb-8c21-5f56-6021-5a50d217a36d',\n",
       "   'checkpoint_ns': 'retrieve_or_response:5e7437cb-8c21-5f56-6021-5a50d217a36d',\n",
       "   'ls_provider': 'google_genai',\n",
       "   'ls_model_name': 'models/gemini-1.5-pro',\n",
       "   'ls_model_type': 'chat',\n",
       "   'ls_temperature': 0.8,\n",
       "   'ls_max_tokens': 2000}),\n",
       " (AIMessageChunk(content='\\n', additional_kwargs={}, response_metadata={'finish_reason': 'STOP', 'safety_ratings': []}, id='run-d0ad41bc-c53a-4348-b568-5b1ae653ac10', usage_metadata={'input_tokens': 0, 'output_tokens': 11, 'total_tokens': 11, 'input_token_details': {'cache_read': 0}}),\n",
       "  {'thread_id': '412fc076-3cab-4319-afcb-a52cd0c96732',\n",
       "   'langgraph_step': 26,\n",
       "   'langgraph_node': 'retrieve_or_response',\n",
       "   'langgraph_triggers': ['start:retrieve_or_response'],\n",
       "   'langgraph_path': ('__pregel_pull', 'retrieve_or_response'),\n",
       "   'langgraph_checkpoint_ns': 'retrieve_or_response:5e7437cb-8c21-5f56-6021-5a50d217a36d',\n",
       "   'checkpoint_ns': 'retrieve_or_response:5e7437cb-8c21-5f56-6021-5a50d217a36d',\n",
       "   'ls_provider': 'google_genai',\n",
       "   'ls_model_name': 'models/gemini-1.5-pro',\n",
       "   'ls_model_type': 'chat',\n",
       "   'ls_temperature': 0.8,\n",
       "   'ls_max_tokens': 2000}),\n",
       " (ToolMessage(content=\"Source: {'source': '../temp/document.pdf', 'page': 60}\\nContent: kreditur. SAK ETAP membantu perusahaan kecil menengah dalam \\nmenyediakan pelaporan keuangan yang tetap relevan dan andal. SAK ETAP \\nakan khusus digunakan unutk perusahaan tanpa akuntabilitas publik yang \\nsignifikan. Perusahaan yang terdaftar dalam bursa efek dan yang memiliki \\nakuntabilitas publik signifikan tetap harus menggunakan PSAK yang umum. \\n \\n1.2 Pengakuan Unsur Laporan Keuangan \\n       Menurut SAK ETAP nomor 2 paragraf 24, pengakuan unsur laporan keuangan\\n\\nSource: {'source': '../temp/document.pdf', 'page': 61}\\nContent: kreditur. SAK ETAP membantu perusahaan kecil menengah dalam \\nmenyediakan pelaporan keuangan yang tetap relevan dan andal. SAK ETAP \\nakan khusus digunakan unutk perusahaan tanpa akuntabilitas publik yang \\nsignifikan. Perusahaan yang terdaftar dalam bursa efek dan yang memiliki \\nakuntabilitas publik signifikan tetap harus menggunakan PSAK yang umum. \\n \\n1.2 Pengakuan Unsur Laporan Keuangan \\n       Menurut SAK ETAP nomor 2 paragraf 24, pengakuan unsur laporan keuangan\\n\\nSource: {'source': '../temp/document.pdf', 'page': 62}\\nContent: Laporan laba rugi memasukkan semua pos penghasilan dan beban yang diakui \\ndalam suatu periode kecuali SAK ETAP mensyaratkan lain. SAK ETAP \\nmengatur perlakuan berbeda terhadap dampak koreksi atas kesalahan dan \\nperubahan kebijakan akuntansi yang disajikan sebagai penyesuaian terhadap \\nperiode yang lalu dan bukan sebagai bagian dari laba atau rugi dalam periode \\nterjadinya perubahan (Ikatan Akutan Indonesia, 2009a : 5.2). Laporan laba rugi\", name='document_retrieve_tool', id='6e9932bc-4477-4c86-882c-8ba157bb28a4', tool_call_id='dc140516-1ca0-4612-a0ab-4b80ddac99c2', artifact=[Document(metadata={'source': '../temp/document.pdf', 'page': 60}, page_content='kreditur. SAK ETAP membantu perusahaan kecil menengah dalam \\nmenyediakan pelaporan keuangan yang tetap relevan dan andal. SAK ETAP \\nakan khusus digunakan unutk perusahaan tanpa akuntabilitas publik yang \\nsignifikan. Perusahaan yang terdaftar dalam bursa efek dan yang memiliki \\nakuntabilitas publik signifikan tetap harus menggunakan PSAK yang umum. \\n \\n1.2 Pengakuan Unsur Laporan Keuangan \\n       Menurut SAK ETAP nomor 2 paragraf 24, pengakuan unsur laporan keuangan'), Document(metadata={'source': '../temp/document.pdf', 'page': 61}, page_content='kreditur. SAK ETAP membantu perusahaan kecil menengah dalam \\nmenyediakan pelaporan keuangan yang tetap relevan dan andal. SAK ETAP \\nakan khusus digunakan unutk perusahaan tanpa akuntabilitas publik yang \\nsignifikan. Perusahaan yang terdaftar dalam bursa efek dan yang memiliki \\nakuntabilitas publik signifikan tetap harus menggunakan PSAK yang umum. \\n \\n1.2 Pengakuan Unsur Laporan Keuangan \\n       Menurut SAK ETAP nomor 2 paragraf 24, pengakuan unsur laporan keuangan'), Document(metadata={'source': '../temp/document.pdf', 'page': 62}, page_content='Laporan laba rugi memasukkan semua pos penghasilan dan beban yang diakui \\ndalam suatu periode kecuali SAK ETAP mensyaratkan lain. SAK ETAP \\nmengatur perlakuan berbeda terhadap dampak koreksi atas kesalahan dan \\nperubahan kebijakan akuntansi yang disajikan sebagai penyesuaian terhadap \\nperiode yang lalu dan bukan sebagai bagian dari laba atau rugi dalam periode \\nterjadinya perubahan (Ikatan Akutan Indonesia, 2009a : 5.2). Laporan laba rugi')]),\n",
       "  {'thread_id': '412fc076-3cab-4319-afcb-a52cd0c96732',\n",
       "   'langgraph_step': 27,\n",
       "   'langgraph_node': 'tools',\n",
       "   'langgraph_triggers': ['branch:retrieve_or_response:tools_condition:tools'],\n",
       "   'langgraph_path': ('__pregel_pull', 'tools'),\n",
       "   'langgraph_checkpoint_ns': 'tools:50509568-d532-7f16-6d47-31ee85ee0d60'}),\n",
       " (AIMessageChunk(content='SA', additional_kwargs={}, response_metadata={'safety_ratings': []}, id='run-2678902b-6ea9-4da1-98e8-8fc6c86c6753', usage_metadata={'input_tokens': 1217, 'output_tokens': 0, 'total_tokens': 1217, 'input_token_details': {'cache_read': 0}}),\n",
       "  {'thread_id': '412fc076-3cab-4319-afcb-a52cd0c96732',\n",
       "   'langgraph_step': 28,\n",
       "   'langgraph_node': 'generate',\n",
       "   'langgraph_triggers': ['tools'],\n",
       "   'langgraph_path': ('__pregel_pull', 'generate'),\n",
       "   'langgraph_checkpoint_ns': 'generate:00c7927a-f869-e6c9-cd74-f4656ac21ed4',\n",
       "   'checkpoint_ns': 'generate:00c7927a-f869-e6c9-cd74-f4656ac21ed4',\n",
       "   'ls_provider': 'google_genai',\n",
       "   'ls_model_name': 'models/gemini-1.5-pro',\n",
       "   'ls_model_type': 'chat',\n",
       "   'ls_temperature': 0.8,\n",
       "   'ls_max_tokens': 2000}),\n",
       " (AIMessageChunk(content='K ETAP adalah singkatan dari Standar Akuntansi Keuangan Entitas Tanpa', additional_kwargs={}, response_metadata={'safety_ratings': []}, id='run-2678902b-6ea9-4da1-98e8-8fc6c86c6753', usage_metadata={'input_tokens': 0, 'output_tokens': 0, 'total_tokens': 0, 'input_token_details': {'cache_read': 0}}),\n",
       "  {'thread_id': '412fc076-3cab-4319-afcb-a52cd0c96732',\n",
       "   'langgraph_step': 28,\n",
       "   'langgraph_node': 'generate',\n",
       "   'langgraph_triggers': ['tools'],\n",
       "   'langgraph_path': ('__pregel_pull', 'generate'),\n",
       "   'langgraph_checkpoint_ns': 'generate:00c7927a-f869-e6c9-cd74-f4656ac21ed4',\n",
       "   'checkpoint_ns': 'generate:00c7927a-f869-e6c9-cd74-f4656ac21ed4',\n",
       "   'ls_provider': 'google_genai',\n",
       "   'ls_model_name': 'models/gemini-1.5-pro',\n",
       "   'ls_model_type': 'chat',\n",
       "   'ls_temperature': 0.8,\n",
       "   'ls_max_tokens': 2000}),\n",
       " (AIMessageChunk(content=' Akuntabilitas Publik. Sederhananya, ini adalah seperangkat aturan aku', additional_kwargs={}, response_metadata={'safety_ratings': []}, id='run-2678902b-6ea9-4da1-98e8-8fc6c86c6753', usage_metadata={'input_tokens': 0, 'output_tokens': 0, 'total_tokens': 0, 'input_token_details': {'cache_read': 0}}),\n",
       "  {'thread_id': '412fc076-3cab-4319-afcb-a52cd0c96732',\n",
       "   'langgraph_step': 28,\n",
       "   'langgraph_node': 'generate',\n",
       "   'langgraph_triggers': ['tools'],\n",
       "   'langgraph_path': ('__pregel_pull', 'generate'),\n",
       "   'langgraph_checkpoint_ns': 'generate:00c7927a-f869-e6c9-cd74-f4656ac21ed4',\n",
       "   'checkpoint_ns': 'generate:00c7927a-f869-e6c9-cd74-f4656ac21ed4',\n",
       "   'ls_provider': 'google_genai',\n",
       "   'ls_model_name': 'models/gemini-1.5-pro',\n",
       "   'ls_model_type': 'chat',\n",
       "   'ls_temperature': 0.8,\n",
       "   'ls_max_tokens': 2000}),\n",
       " (AIMessageChunk(content='ntansi yang disederhanakan yang dirancang khusus untuk usaha kecil dan menengah (UKM) yang *tidak* terdaftar di bursa efek dan tidak memiliki', additional_kwargs={}, response_metadata={'safety_ratings': []}, id='run-2678902b-6ea9-4da1-98e8-8fc6c86c6753', usage_metadata={'input_tokens': 0, 'output_tokens': 0, 'total_tokens': 0, 'input_token_details': {'cache_read': 0}}),\n",
       "  {'thread_id': '412fc076-3cab-4319-afcb-a52cd0c96732',\n",
       "   'langgraph_step': 28,\n",
       "   'langgraph_node': 'generate',\n",
       "   'langgraph_triggers': ['tools'],\n",
       "   'langgraph_path': ('__pregel_pull', 'generate'),\n",
       "   'langgraph_checkpoint_ns': 'generate:00c7927a-f869-e6c9-cd74-f4656ac21ed4',\n",
       "   'checkpoint_ns': 'generate:00c7927a-f869-e6c9-cd74-f4656ac21ed4',\n",
       "   'ls_provider': 'google_genai',\n",
       "   'ls_model_name': 'models/gemini-1.5-pro',\n",
       "   'ls_model_type': 'chat',\n",
       "   'ls_temperature': 0.8,\n",
       "   'ls_max_tokens': 2000}),\n",
       " (AIMessageChunk(content=' kewajiban pelaporan publik yang luas.  Pikirkan SAK ETAP sebagai versi \"ringan\" dari PSAK (Pernyataan Standar Akuntansi Keuangan', additional_kwargs={}, response_metadata={'safety_ratings': []}, id='run-2678902b-6ea9-4da1-98e8-8fc6c86c6753', usage_metadata={'input_tokens': 0, 'output_tokens': 0, 'total_tokens': 0, 'input_token_details': {'cache_read': 0}}),\n",
       "  {'thread_id': '412fc076-3cab-4319-afcb-a52cd0c96732',\n",
       "   'langgraph_step': 28,\n",
       "   'langgraph_node': 'generate',\n",
       "   'langgraph_triggers': ['tools'],\n",
       "   'langgraph_path': ('__pregel_pull', 'generate'),\n",
       "   'langgraph_checkpoint_ns': 'generate:00c7927a-f869-e6c9-cd74-f4656ac21ed4',\n",
       "   'checkpoint_ns': 'generate:00c7927a-f869-e6c9-cd74-f4656ac21ed4',\n",
       "   'ls_provider': 'google_genai',\n",
       "   'ls_model_name': 'models/gemini-1.5-pro',\n",
       "   'ls_model_type': 'chat',\n",
       "   'ls_temperature': 0.8,\n",
       "   'ls_max_tokens': 2000}),\n",
       " (AIMessageChunk(content=').\\n\\nMengapa SAK ETAP penting? Karena PSAK, meskipun komprehensif, bisa sangat rumit dan mahal untuk diterapkan, terutama bagi UKM. SAK ETAP hadir untuk mengurangi beban ini, memungkinkan UKM untuk menghasilkan laporan keuangan yang', additional_kwargs={}, response_metadata={'safety_ratings': []}, id='run-2678902b-6ea9-4da1-98e8-8fc6c86c6753', usage_metadata={'input_tokens': 0, 'output_tokens': 0, 'total_tokens': 0, 'input_token_details': {'cache_read': 0}}),\n",
       "  {'thread_id': '412fc076-3cab-4319-afcb-a52cd0c96732',\n",
       "   'langgraph_step': 28,\n",
       "   'langgraph_node': 'generate',\n",
       "   'langgraph_triggers': ['tools'],\n",
       "   'langgraph_path': ('__pregel_pull', 'generate'),\n",
       "   'langgraph_checkpoint_ns': 'generate:00c7927a-f869-e6c9-cd74-f4656ac21ed4',\n",
       "   'checkpoint_ns': 'generate:00c7927a-f869-e6c9-cd74-f4656ac21ed4',\n",
       "   'ls_provider': 'google_genai',\n",
       "   'ls_model_name': 'models/gemini-1.5-pro',\n",
       "   'ls_model_type': 'chat',\n",
       "   'ls_temperature': 0.8,\n",
       "   'ls_max_tokens': 2000}),\n",
       " (AIMessageChunk(content=' relevan dan andal tanpa perlu repot dengan kerumitan PSAK.  Namun, penting untuk diingat bahwa perusahaan besar dan perusahaan publik tetap diwajibkan menggunakan PSAK.  SAK ETAP khusus untuk entitas *tan', additional_kwargs={}, response_metadata={'safety_ratings': []}, id='run-2678902b-6ea9-4da1-98e8-8fc6c86c6753', usage_metadata={'input_tokens': 0, 'output_tokens': 0, 'total_tokens': 0, 'input_token_details': {'cache_read': 0}}),\n",
       "  {'thread_id': '412fc076-3cab-4319-afcb-a52cd0c96732',\n",
       "   'langgraph_step': 28,\n",
       "   'langgraph_node': 'generate',\n",
       "   'langgraph_triggers': ['tools'],\n",
       "   'langgraph_path': ('__pregel_pull', 'generate'),\n",
       "   'langgraph_checkpoint_ns': 'generate:00c7927a-f869-e6c9-cd74-f4656ac21ed4',\n",
       "   'checkpoint_ns': 'generate:00c7927a-f869-e6c9-cd74-f4656ac21ed4',\n",
       "   'ls_provider': 'google_genai',\n",
       "   'ls_model_name': 'models/gemini-1.5-pro',\n",
       "   'ls_model_type': 'chat',\n",
       "   'ls_temperature': 0.8,\n",
       "   'ls_max_tokens': 2000}),\n",
       " (AIMessageChunk(content='pa* akuntabilitas publik yang signifikan.\\n', additional_kwargs={}, response_metadata={'finish_reason': 'STOP', 'safety_ratings': []}, id='run-2678902b-6ea9-4da1-98e8-8fc6c86c6753', usage_metadata={'input_tokens': 0, 'output_tokens': 204, 'total_tokens': 204, 'input_token_details': {'cache_read': 0}}),\n",
       "  {'thread_id': '412fc076-3cab-4319-afcb-a52cd0c96732',\n",
       "   'langgraph_step': 28,\n",
       "   'langgraph_node': 'generate',\n",
       "   'langgraph_triggers': ['tools'],\n",
       "   'langgraph_path': ('__pregel_pull', 'generate'),\n",
       "   'langgraph_checkpoint_ns': 'generate:00c7927a-f869-e6c9-cd74-f4656ac21ed4',\n",
       "   'checkpoint_ns': 'generate:00c7927a-f869-e6c9-cd74-f4656ac21ed4',\n",
       "   'ls_provider': 'google_genai',\n",
       "   'ls_model_name': 'models/gemini-1.5-pro',\n",
       "   'ls_model_type': 'chat',\n",
       "   'ls_temperature': 0.8,\n",
       "   'ls_max_tokens': 2000})]"
      ]
     },
     "execution_count": 19,
     "metadata": {},
     "output_type": "execute_result"
    }
   ],
   "source": [
    "steps_list"
   ]
  },
  {
   "cell_type": "code",
   "execution_count": 13,
   "metadata": {},
   "outputs": [
    {
     "name": "stdout",
     "output_type": "stream",
     "text": [
      "[HumanMessage(content='apa itu SAK ETAP', additional_kwargs={}, response_metadata={}, id='77bb0267-e1ab-47e2-9e6c-9e435dcf952d'), AIMessage(content='SAK ETAP adalah Standar Akuntansi Keuangan Entitas Tanpa Akuntabilitas Publik.  SAK ETAP merupakan standar akuntansi yang dirancang khusus untuk entitas tanpa akuntabilitas publik.  Entitas tanpa akuntabilitas publik  adalah entitas yang tidak memiliki akuntabilitas publik signifikan dan menerbitkan laporan keuangan umum untuk tujuan umum bagi pengguna eksternal.  Contoh pengguna eksternal adalah  kreditur, investor, dan lembaga pemeringkat kredit.\\n', additional_kwargs={'function_call': {'name': 'document_retrieve_tool', 'arguments': '{\"query\": \"SAK ETAP\"}'}}, response_metadata={'safety_ratings': [], 'finish_reason': 'STOP'}, id='run-c3b988c6-4647-44db-b7cd-1d59fd28976f', tool_calls=[{'name': 'document_retrieve_tool', 'args': {'query': 'SAK ETAP'}, 'id': '61b619dc-e4e2-4e6d-a585-afe8c014fd4b', 'type': 'tool_call'}], usage_metadata={'input_tokens': 66, 'output_tokens': 109, 'total_tokens': 175, 'input_token_details': {'cache_read': 0}}), ToolMessage(content=\"Source: {'source': '../temp/document.pdf', 'page': 60}\\nContent: kreditur. SAK ETAP membantu perusahaan kecil menengah dalam \\nmenyediakan pelaporan keuangan yang tetap relevan dan andal. SAK ETAP \\nakan khusus digunakan unutk perusahaan tanpa akuntabilitas publik yang \\nsignifikan. Perusahaan yang terdaftar dalam bursa efek dan yang memiliki \\nakuntabilitas publik signifikan tetap harus menggunakan PSAK yang umum. \\n \\n1.2 Pengakuan Unsur Laporan Keuangan \\n       Menurut SAK ETAP nomor 2 paragraf 24, pengakuan unsur laporan keuangan\\n\\nSource: {'source': '../temp/document.pdf', 'page': 61}\\nContent: kreditur. SAK ETAP membantu perusahaan kecil menengah dalam \\nmenyediakan pelaporan keuangan yang tetap relevan dan andal. SAK ETAP \\nakan khusus digunakan unutk perusahaan tanpa akuntabilitas publik yang \\nsignifikan. Perusahaan yang terdaftar dalam bursa efek dan yang memiliki \\nakuntabilitas publik signifikan tetap harus menggunakan PSAK yang umum. \\n \\n1.2 Pengakuan Unsur Laporan Keuangan \\n       Menurut SAK ETAP nomor 2 paragraf 24, pengakuan unsur laporan keuangan\\n\\nSource: {'source': '../temp/document.pdf', 'page': 62}\\nContent: Laporan laba rugi memasukkan semua pos penghasilan dan beban yang diakui \\ndalam suatu periode kecuali SAK ETAP mensyaratkan lain. SAK ETAP \\nmengatur perlakuan berbeda terhadap dampak koreksi atas kesalahan dan \\nperubahan kebijakan akuntansi yang disajikan sebagai penyesuaian terhadap \\nperiode yang lalu dan bukan sebagai bagian dari laba atau rugi dalam periode \\nterjadinya perubahan (Ikatan Akutan Indonesia, 2009a : 5.2). Laporan laba rugi\", name='document_retrieve_tool', id='76f777f6-f0ac-48ba-adf7-3cdd91fca765', tool_call_id='61b619dc-e4e2-4e6d-a585-afe8c014fd4b', artifact=[{'id': None, 'metadata': {'source': '../temp/document.pdf', 'page': 60}, 'page_content': 'kreditur. SAK ETAP membantu perusahaan kecil menengah dalam \\nmenyediakan pelaporan keuangan yang tetap relevan dan andal. SAK ETAP \\nakan khusus digunakan unutk perusahaan tanpa akuntabilitas publik yang \\nsignifikan. Perusahaan yang terdaftar dalam bursa efek dan yang memiliki \\nakuntabilitas publik signifikan tetap harus menggunakan PSAK yang umum. \\n \\n1.2 Pengakuan Unsur Laporan Keuangan \\n       Menurut SAK ETAP nomor 2 paragraf 24, pengakuan unsur laporan keuangan', 'type': 'Document'}, {'id': None, 'metadata': {'source': '../temp/document.pdf', 'page': 61}, 'page_content': 'kreditur. SAK ETAP membantu perusahaan kecil menengah dalam \\nmenyediakan pelaporan keuangan yang tetap relevan dan andal. SAK ETAP \\nakan khusus digunakan unutk perusahaan tanpa akuntabilitas publik yang \\nsignifikan. Perusahaan yang terdaftar dalam bursa efek dan yang memiliki \\nakuntabilitas publik signifikan tetap harus menggunakan PSAK yang umum. \\n \\n1.2 Pengakuan Unsur Laporan Keuangan \\n       Menurut SAK ETAP nomor 2 paragraf 24, pengakuan unsur laporan keuangan', 'type': 'Document'}, {'id': None, 'metadata': {'source': '../temp/document.pdf', 'page': 62}, 'page_content': 'Laporan laba rugi memasukkan semua pos penghasilan dan beban yang diakui \\ndalam suatu periode kecuali SAK ETAP mensyaratkan lain. SAK ETAP \\nmengatur perlakuan berbeda terhadap dampak koreksi atas kesalahan dan \\nperubahan kebijakan akuntansi yang disajikan sebagai penyesuaian terhadap \\nperiode yang lalu dan bukan sebagai bagian dari laba atau rugi dalam periode \\nterjadinya perubahan (Ikatan Akutan Indonesia, 2009a : 5.2). Laporan laba rugi', 'type': 'Document'}]), AIMessage(content='SAK ETAP adalah Standar Akuntansi Keuangan Entitas Tanpa Akuntabilitas Publik. Standar ini dirancang untuk membantu perusahaan kecil dan menengah dalam menyediakan laporan keuangan yang relevan dan andal.  SAK ETAP ditujukan khusus untuk perusahaan *tanpa* akuntabilitas publik yang signifikan.  Perusahaan yang terdaftar di bursa efek atau memiliki akuntabilitas publik yang signifikan tetap diwajibkan untuk menggunakan PSAK (Pernyataan Standar Akuntansi Keuangan) yang umum.\\n', additional_kwargs={}, response_metadata={'safety_ratings': [], 'finish_reason': 'STOP'}, id='run-a341d508-0141-4522-8a52-a5f5dd7fe08d', usage_metadata={'input_tokens': 453, 'output_tokens': 103, 'total_tokens': 556, 'input_token_details': {'cache_read': 0}}), HumanMessage(content='apa itu SAK ETAP', additional_kwargs={}, response_metadata={}, id='48251fb0-25ea-4056-b1d6-21b51de8e945'), AIMessage(content='', additional_kwargs={'function_call': {'name': 'document_retrieve_tool', 'arguments': '{\"query\": \"SAK ETAP\"}'}}, response_metadata={'safety_ratings': [], 'finish_reason': 'STOP'}, id='run-ffe7f0ce-4ed8-4611-879d-0640cb9affc1', tool_calls=[{'name': 'document_retrieve_tool', 'args': {'query': 'SAK ETAP'}, 'id': '11cf18e0-91b1-4a98-9927-7f6461e86eb6', 'type': 'tool_call'}], usage_metadata={'input_tokens': 628, 'output_tokens': 10, 'total_tokens': 638, 'input_token_details': {'cache_read': 0}}), ToolMessage(content=\"Source: {'source': '../temp/document.pdf', 'page': 60}\\nContent: kreditur. SAK ETAP membantu perusahaan kecil menengah dalam \\nmenyediakan pelaporan keuangan yang tetap relevan dan andal. SAK ETAP \\nakan khusus digunakan unutk perusahaan tanpa akuntabilitas publik yang \\nsignifikan. Perusahaan yang terdaftar dalam bursa efek dan yang memiliki \\nakuntabilitas publik signifikan tetap harus menggunakan PSAK yang umum. \\n \\n1.2 Pengakuan Unsur Laporan Keuangan \\n       Menurut SAK ETAP nomor 2 paragraf 24, pengakuan unsur laporan keuangan\\n\\nSource: {'source': '../temp/document.pdf', 'page': 61}\\nContent: kreditur. SAK ETAP membantu perusahaan kecil menengah dalam \\nmenyediakan pelaporan keuangan yang tetap relevan dan andal. SAK ETAP \\nakan khusus digunakan unutk perusahaan tanpa akuntabilitas publik yang \\nsignifikan. Perusahaan yang terdaftar dalam bursa efek dan yang memiliki \\nakuntabilitas publik signifikan tetap harus menggunakan PSAK yang umum. \\n \\n1.2 Pengakuan Unsur Laporan Keuangan \\n       Menurut SAK ETAP nomor 2 paragraf 24, pengakuan unsur laporan keuangan\\n\\nSource: {'source': '../temp/document.pdf', 'page': 62}\\nContent: Laporan laba rugi memasukkan semua pos penghasilan dan beban yang diakui \\ndalam suatu periode kecuali SAK ETAP mensyaratkan lain. SAK ETAP \\nmengatur perlakuan berbeda terhadap dampak koreksi atas kesalahan dan \\nperubahan kebijakan akuntansi yang disajikan sebagai penyesuaian terhadap \\nperiode yang lalu dan bukan sebagai bagian dari laba atau rugi dalam periode \\nterjadinya perubahan (Ikatan Akutan Indonesia, 2009a : 5.2). Laporan laba rugi\", name='document_retrieve_tool', id='27c8b95a-ec45-4697-b316-b58d24af6565', tool_call_id='11cf18e0-91b1-4a98-9927-7f6461e86eb6', artifact=[{'id': None, 'metadata': {'source': '../temp/document.pdf', 'page': 60}, 'page_content': 'kreditur. SAK ETAP membantu perusahaan kecil menengah dalam \\nmenyediakan pelaporan keuangan yang tetap relevan dan andal. SAK ETAP \\nakan khusus digunakan unutk perusahaan tanpa akuntabilitas publik yang \\nsignifikan. Perusahaan yang terdaftar dalam bursa efek dan yang memiliki \\nakuntabilitas publik signifikan tetap harus menggunakan PSAK yang umum. \\n \\n1.2 Pengakuan Unsur Laporan Keuangan \\n       Menurut SAK ETAP nomor 2 paragraf 24, pengakuan unsur laporan keuangan', 'type': 'Document'}, {'id': None, 'metadata': {'source': '../temp/document.pdf', 'page': 61}, 'page_content': 'kreditur. SAK ETAP membantu perusahaan kecil menengah dalam \\nmenyediakan pelaporan keuangan yang tetap relevan dan andal. SAK ETAP \\nakan khusus digunakan unutk perusahaan tanpa akuntabilitas publik yang \\nsignifikan. Perusahaan yang terdaftar dalam bursa efek dan yang memiliki \\nakuntabilitas publik signifikan tetap harus menggunakan PSAK yang umum. \\n \\n1.2 Pengakuan Unsur Laporan Keuangan \\n       Menurut SAK ETAP nomor 2 paragraf 24, pengakuan unsur laporan keuangan', 'type': 'Document'}, {'id': None, 'metadata': {'source': '../temp/document.pdf', 'page': 62}, 'page_content': 'Laporan laba rugi memasukkan semua pos penghasilan dan beban yang diakui \\ndalam suatu periode kecuali SAK ETAP mensyaratkan lain. SAK ETAP \\nmengatur perlakuan berbeda terhadap dampak koreksi atas kesalahan dan \\nperubahan kebijakan akuntansi yang disajikan sebagai penyesuaian terhadap \\nperiode yang lalu dan bukan sebagai bagian dari laba atau rugi dalam periode \\nterjadinya perubahan (Ikatan Akutan Indonesia, 2009a : 5.2). Laporan laba rugi', 'type': 'Document'}]), AIMessage(content='SAK ETAP adalah singkatan dari Standar Akuntansi Keuangan Entitas Tanpa Akuntabilitas Publik.  Ini merupakan standar akuntansi yang disederhanakan yang dirancang khusus untuk perusahaan kecil dan menengah yang *tidak* memiliki akuntabilitas publik yang signifikan.  Tujuannya adalah untuk memudahkan perusahaan-perusahaan ini dalam menyusun laporan keuangan yang tetap relevan dan andal, tanpa perlu mengikuti kerumitan PSAK (Pernyataan Standar Akuntansi Keuangan) yang ditujukan untuk perusahaan publik.  Jadi, intinya SAK ETAP merupakan alternatif yang lebih sederhana dari PSAK, khusus untuk entitas tanpa akuntabilitas publik yang signifikan.\\n', additional_kwargs={}, response_metadata={'safety_ratings': [], 'finish_reason': 'STOP'}, id='run-1d5ff6ab-637a-4078-b558-5bcdbb546cb0', usage_metadata={'input_tokens': 563, 'output_tokens': 135, 'total_tokens': 698, 'input_token_details': {'cache_read': 0}}), HumanMessage(content='apa itu SAK ETAP', additional_kwargs={}, response_metadata={}, id='320fada1-8ddc-46ac-828d-96cb6a9ad87d'), AIMessage(content='', additional_kwargs={'function_call': {'name': 'document_retrieve_tool', 'arguments': '{\"query\": \"SAK ETAP\"}'}}, response_metadata={'safety_ratings': [], 'finish_reason': 'STOP'}, id='run-8554026e-5b0d-42e5-b3fb-bdc3ee7f785d', tool_calls=[{'name': 'document_retrieve_tool', 'args': {'query': 'SAK ETAP'}, 'id': '5fca98f7-819e-4028-9fd9-df9f763413c3', 'type': 'tool_call'}], usage_metadata={'input_tokens': 1222, 'output_tokens': 10, 'total_tokens': 1232, 'input_token_details': {'cache_read': 0}}), ToolMessage(content=\"Source: {'source': '../temp/document.pdf', 'page': 60}\\nContent: kreditur. SAK ETAP membantu perusahaan kecil menengah dalam \\nmenyediakan pelaporan keuangan yang tetap relevan dan andal. SAK ETAP \\nakan khusus digunakan unutk perusahaan tanpa akuntabilitas publik yang \\nsignifikan. Perusahaan yang terdaftar dalam bursa efek dan yang memiliki \\nakuntabilitas publik signifikan tetap harus menggunakan PSAK yang umum. \\n \\n1.2 Pengakuan Unsur Laporan Keuangan \\n       Menurut SAK ETAP nomor 2 paragraf 24, pengakuan unsur laporan keuangan\\n\\nSource: {'source': '../temp/document.pdf', 'page': 61}\\nContent: kreditur. SAK ETAP membantu perusahaan kecil menengah dalam \\nmenyediakan pelaporan keuangan yang tetap relevan dan andal. SAK ETAP \\nakan khusus digunakan unutk perusahaan tanpa akuntabilitas publik yang \\nsignifikan. Perusahaan yang terdaftar dalam bursa efek dan yang memiliki \\nakuntabilitas publik signifikan tetap harus menggunakan PSAK yang umum. \\n \\n1.2 Pengakuan Unsur Laporan Keuangan \\n       Menurut SAK ETAP nomor 2 paragraf 24, pengakuan unsur laporan keuangan\\n\\nSource: {'source': '../temp/document.pdf', 'page': 62}\\nContent: Laporan laba rugi memasukkan semua pos penghasilan dan beban yang diakui \\ndalam suatu periode kecuali SAK ETAP mensyaratkan lain. SAK ETAP \\nmengatur perlakuan berbeda terhadap dampak koreksi atas kesalahan dan \\nperubahan kebijakan akuntansi yang disajikan sebagai penyesuaian terhadap \\nperiode yang lalu dan bukan sebagai bagian dari laba atau rugi dalam periode \\nterjadinya perubahan (Ikatan Akutan Indonesia, 2009a : 5.2). Laporan laba rugi\", name='document_retrieve_tool', id='b62adc92-deb0-4e20-891c-ea09ef7faefe', tool_call_id='5fca98f7-819e-4028-9fd9-df9f763413c3', artifact=[{'id': None, 'metadata': {'source': '../temp/document.pdf', 'page': 60}, 'page_content': 'kreditur. SAK ETAP membantu perusahaan kecil menengah dalam \\nmenyediakan pelaporan keuangan yang tetap relevan dan andal. SAK ETAP \\nakan khusus digunakan unutk perusahaan tanpa akuntabilitas publik yang \\nsignifikan. Perusahaan yang terdaftar dalam bursa efek dan yang memiliki \\nakuntabilitas publik signifikan tetap harus menggunakan PSAK yang umum. \\n \\n1.2 Pengakuan Unsur Laporan Keuangan \\n       Menurut SAK ETAP nomor 2 paragraf 24, pengakuan unsur laporan keuangan', 'type': 'Document'}, {'id': None, 'metadata': {'source': '../temp/document.pdf', 'page': 61}, 'page_content': 'kreditur. SAK ETAP membantu perusahaan kecil menengah dalam \\nmenyediakan pelaporan keuangan yang tetap relevan dan andal. SAK ETAP \\nakan khusus digunakan unutk perusahaan tanpa akuntabilitas publik yang \\nsignifikan. Perusahaan yang terdaftar dalam bursa efek dan yang memiliki \\nakuntabilitas publik signifikan tetap harus menggunakan PSAK yang umum. \\n \\n1.2 Pengakuan Unsur Laporan Keuangan \\n       Menurut SAK ETAP nomor 2 paragraf 24, pengakuan unsur laporan keuangan', 'type': 'Document'}, {'id': None, 'metadata': {'source': '../temp/document.pdf', 'page': 62}, 'page_content': 'Laporan laba rugi memasukkan semua pos penghasilan dan beban yang diakui \\ndalam suatu periode kecuali SAK ETAP mensyaratkan lain. SAK ETAP \\nmengatur perlakuan berbeda terhadap dampak koreksi atas kesalahan dan \\nperubahan kebijakan akuntansi yang disajikan sebagai penyesuaian terhadap \\nperiode yang lalu dan bukan sebagai bagian dari laba atau rugi dalam periode \\nterjadinya perubahan (Ikatan Akutan Indonesia, 2009a : 5.2). Laporan laba rugi', 'type': 'Document'}]), AIMessage(content='SAK ETAP adalah Standar Akuntansi Keuangan Entitas Tanpa Akuntabilitas Publik. Sederhananya, ini adalah versi PSAK (Pernyataan Standar Akuntansi Keuangan) yang disederhanakan, khusus untuk usaha kecil dan menengah (UKM) yang tidak terdaftar di bursa efek dan tidak memiliki kewajiban pelaporan publik yang luas.  \\n\\nTujuan SAK ETAP adalah untuk mengurangi beban pelaporan keuangan bagi UKM, sekaligus memastikan laporan keuangan mereka tetap relevan dan andal.  Perusahaan besar dan perusahaan publik tetap harus menggunakan PSAK.\\n', additional_kwargs={}, response_metadata={'safety_ratings': [], 'finish_reason': 'STOP'}, id='run-ae59c655-9fe5-4f27-bd96-0415618183b3', usage_metadata={'input_tokens': 705, 'output_tokens': 116, 'total_tokens': 821, 'input_token_details': {'cache_read': 0}}), HumanMessage(content='apa itu SAK ETAP', additional_kwargs={}, response_metadata={}, id='1a505396-f70e-43f7-bfb6-bed6fee5c95c'), AIMessage(content='', additional_kwargs={'function_call': {'name': 'document_retrieve_tool', 'arguments': '{\"query\": \"SAK ETAP\"}'}}, response_metadata={'safety_ratings': [], 'finish_reason': 'STOP'}, id='run-98c484e4-4768-40af-bb36-954a2ce4568a', tool_calls=[{'name': 'document_retrieve_tool', 'args': {'query': 'SAK ETAP'}, 'id': 'e16ca2f8-ad08-4bfd-87a8-8041d49403e0', 'type': 'tool_call'}], usage_metadata={'input_tokens': 1797, 'output_tokens': 10, 'total_tokens': 1807, 'input_token_details': {'cache_read': 0}}), ToolMessage(content=\"Source: {'source': '../temp/document.pdf', 'page': 60}\\nContent: kreditur. SAK ETAP membantu perusahaan kecil menengah dalam \\nmenyediakan pelaporan keuangan yang tetap relevan dan andal. SAK ETAP \\nakan khusus digunakan unutk perusahaan tanpa akuntabilitas publik yang \\nsignifikan. Perusahaan yang terdaftar dalam bursa efek dan yang memiliki \\nakuntabilitas publik signifikan tetap harus menggunakan PSAK yang umum. \\n \\n1.2 Pengakuan Unsur Laporan Keuangan \\n       Menurut SAK ETAP nomor 2 paragraf 24, pengakuan unsur laporan keuangan\\n\\nSource: {'source': '../temp/document.pdf', 'page': 61}\\nContent: kreditur. SAK ETAP membantu perusahaan kecil menengah dalam \\nmenyediakan pelaporan keuangan yang tetap relevan dan andal. SAK ETAP \\nakan khusus digunakan unutk perusahaan tanpa akuntabilitas publik yang \\nsignifikan. Perusahaan yang terdaftar dalam bursa efek dan yang memiliki \\nakuntabilitas publik signifikan tetap harus menggunakan PSAK yang umum. \\n \\n1.2 Pengakuan Unsur Laporan Keuangan \\n       Menurut SAK ETAP nomor 2 paragraf 24, pengakuan unsur laporan keuangan\\n\\nSource: {'source': '../temp/document.pdf', 'page': 62}\\nContent: Laporan laba rugi memasukkan semua pos penghasilan dan beban yang diakui \\ndalam suatu periode kecuali SAK ETAP mensyaratkan lain. SAK ETAP \\nmengatur perlakuan berbeda terhadap dampak koreksi atas kesalahan dan \\nperubahan kebijakan akuntansi yang disajikan sebagai penyesuaian terhadap \\nperiode yang lalu dan bukan sebagai bagian dari laba atau rugi dalam periode \\nterjadinya perubahan (Ikatan Akutan Indonesia, 2009a : 5.2). Laporan laba rugi\", name='document_retrieve_tool', id='4e49531e-fd3e-46de-b51b-bc4937b007cb', tool_call_id='e16ca2f8-ad08-4bfd-87a8-8041d49403e0', artifact=[Document(metadata={'source': '../temp/document.pdf', 'page': 60}, page_content='kreditur. SAK ETAP membantu perusahaan kecil menengah dalam \\nmenyediakan pelaporan keuangan yang tetap relevan dan andal. SAK ETAP \\nakan khusus digunakan unutk perusahaan tanpa akuntabilitas publik yang \\nsignifikan. Perusahaan yang terdaftar dalam bursa efek dan yang memiliki \\nakuntabilitas publik signifikan tetap harus menggunakan PSAK yang umum. \\n \\n1.2 Pengakuan Unsur Laporan Keuangan \\n       Menurut SAK ETAP nomor 2 paragraf 24, pengakuan unsur laporan keuangan'), Document(metadata={'source': '../temp/document.pdf', 'page': 61}, page_content='kreditur. SAK ETAP membantu perusahaan kecil menengah dalam \\nmenyediakan pelaporan keuangan yang tetap relevan dan andal. SAK ETAP \\nakan khusus digunakan unutk perusahaan tanpa akuntabilitas publik yang \\nsignifikan. Perusahaan yang terdaftar dalam bursa efek dan yang memiliki \\nakuntabilitas publik signifikan tetap harus menggunakan PSAK yang umum. \\n \\n1.2 Pengakuan Unsur Laporan Keuangan \\n       Menurut SAK ETAP nomor 2 paragraf 24, pengakuan unsur laporan keuangan'), Document(metadata={'source': '../temp/document.pdf', 'page': 62}, page_content='Laporan laba rugi memasukkan semua pos penghasilan dan beban yang diakui \\ndalam suatu periode kecuali SAK ETAP mensyaratkan lain. SAK ETAP \\nmengatur perlakuan berbeda terhadap dampak koreksi atas kesalahan dan \\nperubahan kebijakan akuntansi yang disajikan sebagai penyesuaian terhadap \\nperiode yang lalu dan bukan sebagai bagian dari laba atau rugi dalam periode \\nterjadinya perubahan (Ikatan Akutan Indonesia, 2009a : 5.2). Laporan laba rugi')])]\n",
      "[SystemMessage(content=\"Kamu merupakan asisten AI bernama DesiAI yang ahli dalam bidang Akuntansi,Finansial dan Perbankan. Gunakanlah Tools Retrieve untuk mencari informasi berdasarkan dari query yang diberikan. Kombinasikan pengetahuanmu dengan informasi yang diberikan agar menghasilkan jawaban yang akurat.\\n\\nSource: {'source': '../temp/document.pdf', 'page': 60}\\nContent: kreditur. SAK ETAP membantu perusahaan kecil menengah dalam \\nmenyediakan pelaporan keuangan yang tetap relevan dan andal. SAK ETAP \\nakan khusus digunakan unutk perusahaan tanpa akuntabilitas publik yang \\nsignifikan. Perusahaan yang terdaftar dalam bursa efek dan yang memiliki \\nakuntabilitas publik signifikan tetap harus menggunakan PSAK yang umum. \\n \\n1.2 Pengakuan Unsur Laporan Keuangan \\n       Menurut SAK ETAP nomor 2 paragraf 24, pengakuan unsur laporan keuangan\\n\\nSource: {'source': '../temp/document.pdf', 'page': 61}\\nContent: kreditur. SAK ETAP membantu perusahaan kecil menengah dalam \\nmenyediakan pelaporan keuangan yang tetap relevan dan andal. SAK ETAP \\nakan khusus digunakan unutk perusahaan tanpa akuntabilitas publik yang \\nsignifikan. Perusahaan yang terdaftar dalam bursa efek dan yang memiliki \\nakuntabilitas publik signifikan tetap harus menggunakan PSAK yang umum. \\n \\n1.2 Pengakuan Unsur Laporan Keuangan \\n       Menurut SAK ETAP nomor 2 paragraf 24, pengakuan unsur laporan keuangan\\n\\nSource: {'source': '../temp/document.pdf', 'page': 62}\\nContent: Laporan laba rugi memasukkan semua pos penghasilan dan beban yang diakui \\ndalam suatu periode kecuali SAK ETAP mensyaratkan lain. SAK ETAP \\nmengatur perlakuan berbeda terhadap dampak koreksi atas kesalahan dan \\nperubahan kebijakan akuntansi yang disajikan sebagai penyesuaian terhadap \\nperiode yang lalu dan bukan sebagai bagian dari laba atau rugi dalam periode \\nterjadinya perubahan (Ikatan Akutan Indonesia, 2009a : 5.2). Laporan laba rugi\\n\\n\", additional_kwargs={}, response_metadata={}), HumanMessage(content='apa itu SAK ETAP', additional_kwargs={}, response_metadata={}, id='77bb0267-e1ab-47e2-9e6c-9e435dcf952d'), AIMessage(content='SAK ETAP adalah Standar Akuntansi Keuangan Entitas Tanpa Akuntabilitas Publik. Standar ini dirancang untuk membantu perusahaan kecil dan menengah dalam menyediakan laporan keuangan yang relevan dan andal.  SAK ETAP ditujukan khusus untuk perusahaan *tanpa* akuntabilitas publik yang signifikan.  Perusahaan yang terdaftar di bursa efek atau memiliki akuntabilitas publik yang signifikan tetap diwajibkan untuk menggunakan PSAK (Pernyataan Standar Akuntansi Keuangan) yang umum.\\n', additional_kwargs={}, response_metadata={'safety_ratings': [], 'finish_reason': 'STOP'}, id='run-a341d508-0141-4522-8a52-a5f5dd7fe08d', usage_metadata={'input_tokens': 453, 'output_tokens': 103, 'total_tokens': 556, 'input_token_details': {'cache_read': 0}}), HumanMessage(content='apa itu SAK ETAP', additional_kwargs={}, response_metadata={}, id='48251fb0-25ea-4056-b1d6-21b51de8e945'), AIMessage(content='SAK ETAP adalah singkatan dari Standar Akuntansi Keuangan Entitas Tanpa Akuntabilitas Publik.  Ini merupakan standar akuntansi yang disederhanakan yang dirancang khusus untuk perusahaan kecil dan menengah yang *tidak* memiliki akuntabilitas publik yang signifikan.  Tujuannya adalah untuk memudahkan perusahaan-perusahaan ini dalam menyusun laporan keuangan yang tetap relevan dan andal, tanpa perlu mengikuti kerumitan PSAK (Pernyataan Standar Akuntansi Keuangan) yang ditujukan untuk perusahaan publik.  Jadi, intinya SAK ETAP merupakan alternatif yang lebih sederhana dari PSAK, khusus untuk entitas tanpa akuntabilitas publik yang signifikan.\\n', additional_kwargs={}, response_metadata={'safety_ratings': [], 'finish_reason': 'STOP'}, id='run-1d5ff6ab-637a-4078-b558-5bcdbb546cb0', usage_metadata={'input_tokens': 563, 'output_tokens': 135, 'total_tokens': 698, 'input_token_details': {'cache_read': 0}}), HumanMessage(content='apa itu SAK ETAP', additional_kwargs={}, response_metadata={}, id='320fada1-8ddc-46ac-828d-96cb6a9ad87d'), AIMessage(content='SAK ETAP adalah Standar Akuntansi Keuangan Entitas Tanpa Akuntabilitas Publik. Sederhananya, ini adalah versi PSAK (Pernyataan Standar Akuntansi Keuangan) yang disederhanakan, khusus untuk usaha kecil dan menengah (UKM) yang tidak terdaftar di bursa efek dan tidak memiliki kewajiban pelaporan publik yang luas.  \\n\\nTujuan SAK ETAP adalah untuk mengurangi beban pelaporan keuangan bagi UKM, sekaligus memastikan laporan keuangan mereka tetap relevan dan andal.  Perusahaan besar dan perusahaan publik tetap harus menggunakan PSAK.\\n', additional_kwargs={}, response_metadata={'safety_ratings': [], 'finish_reason': 'STOP'}, id='run-ae59c655-9fe5-4f27-bd96-0415618183b3', usage_metadata={'input_tokens': 705, 'output_tokens': 116, 'total_tokens': 821, 'input_token_details': {'cache_read': 0}}), HumanMessage(content='apa itu SAK ETAP', additional_kwargs={}, response_metadata={}, id='1a505396-f70e-43f7-bfb6-bed6fee5c95c')]\n"
     ]
    },
    {
     "name": "stderr",
     "output_type": "stream",
     "text": [
      "Retrying langchain_google_genai.chat_models._chat_with_retry.<locals>._chat_with_retry in 2.0 seconds as it raised ResourceExhausted: 429 Resource has been exhausted (e.g. check quota)..\n"
     ]
    }
   ],
   "source": [
    "for step in graph.stream(input=inputs, config=config, stream_mode=\"messages\"):\n",
    "   if \"__end__\" in step:\n",
    "      step[\"messages\"][-1].pretty_print()"
   ]
  }
 ],
 "metadata": {
  "kernelspec": {
   "display_name": "env",
   "language": "python",
   "name": "python3"
  },
  "language_info": {
   "codemirror_mode": {
    "name": "ipython",
    "version": 3
   },
   "file_extension": ".py",
   "mimetype": "text/x-python",
   "name": "python",
   "nbconvert_exporter": "python",
   "pygments_lexer": "ipython3",
   "version": "3.10.15"
  }
 },
 "nbformat": 4,
 "nbformat_minor": 2
}
